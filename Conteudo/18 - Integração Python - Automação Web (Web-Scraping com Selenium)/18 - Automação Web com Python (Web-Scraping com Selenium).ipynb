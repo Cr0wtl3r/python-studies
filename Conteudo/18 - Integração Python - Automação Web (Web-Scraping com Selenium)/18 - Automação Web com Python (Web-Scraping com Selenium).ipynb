{
 "cells": [
  {
   "cell_type": "markdown",
   "metadata": {},
   "source": [
    "# Automação Web com Python"
   ]
  },
  {
   "cell_type": "markdown",
   "metadata": {},
   "source": [
    "## Web-Scraping com Selenium"
   ]
  },
  {
   "cell_type": "markdown",
   "metadata": {},
   "source": [
    "Idealmente, utilizar o navegador Chrome para realizar os processos, pois ele é o que tem maior compatibilidade com Selenium e com as funções utilizadas. \n",
    "Para instalar o selenium, use o pip:\n",
    "\n",
    "    pip install --upgrade selenium\n",
    "\n",
    "Podemos baixar o driver do chrome [aqui](https://chromedriver.chromium.org/downloads) e coloque o arquivo na pasta onde o Python está instalado.\n",
    "\n",
    "Para testar se funionou use o seguinte código:\n",
    "\n",
    "    from selenium import webdriver\n",
    "\n",
    "    navegador = webdriver.Chrome()\n",
    "\n",
    "Se abrir uma aba do navegador chrome, funcionou normalmente. Se não abrir a aba, verifique se o caminho do ChromeDriver está correto.\n",
    "Tem também a opção de utilizar a biblioteca `webdriver-manager` para gerenciar o ChromeDriver automaticamente, mas normalmente ela retarda a execução do código, pois instala o ChromeDriver a cada vez que o código é executado."
   ]
  },
  {
   "cell_type": "markdown",
   "metadata": {},
   "source": [
    "## Acessar paginas com o Selenium\n",
    "Agora com o Selenium instalado, podemos dar sequência. Utilizaremos o `webdriver-manager` para gerenciar o ChromeDriver automaticamente, mesmo que ele deixe a execução do código um pouco mais lenta, pois assim conseguiremos controlar as versões automaticamente. "
   ]
  },
  {
   "cell_type": "markdown",
   "metadata": {},
   "source": [
    "### Criando o navegador:\n",
    "Nessa primeira célula de código iremos criar o navegador Chrome de forma que, ele será \"criado\" uma única vez, e não necessitará baixar o driver mais vezes. "
   ]
  },
  {
   "cell_type": "code",
   "execution_count": 1,
   "metadata": {},
   "outputs": [],
   "source": [
    "from selenium import webdriver\n",
    "from selenium.webdriver.chrome.service import Service\n",
    "from selenium.webdriver.common.by import By\n",
    "from webdriver_manager.chrome import ChromeDriverManager\n",
    "\n",
    "service = Service(ChromeDriverManager().install())\n",
    "navegador = webdriver.Chrome(service=service)"
   ]
  },
  {
   "cell_type": "markdown",
   "metadata": {},
   "source": [
    "### Fazendo as interações com o navegador:\n",
    "Agora, na célula de código, iremos interagir com o navegador, de forma que podemos pesquisar a página desejada, e mesmo que mudemos a página, ele irá pesquisar novamente no navegador já aberto, não abrindo um novo navegador.\n",
    "Podemos abrir tanto páginas web, quanto arquivos html locais no disco. \n",
    "\n",
    "Obs: Se quisermos, podemos usar código com a lib `os` para identificar o caminho do arquivo e se ele estiver na mesma pasta do arquivo python que estamos codando, irá facilitar e diminuir o código."
   ]
  },
  {
   "cell_type": "code",
   "execution_count": 2,
   "metadata": {},
   "outputs": [],
   "source": [
    "import os\n",
    "caminho_do_arquivo = os.getcwd() + r'\\Pagina Hashtag.html'\n",
    "navegador.get(rf'{caminho_do_arquivo}')\n",
    "# Ou\n",
    "# navegador.get('https://www.youtube.com/')"
   ]
  },
  {
   "cell_type": "markdown",
   "metadata": {},
   "source": [
    "# Obtendo elementos da página com Selenium:"
   ]
  },
  {
   "cell_type": "markdown",
   "metadata": {},
   "source": [
    "## Como buscar e selecionar elementos únicos com selenium:\n",
    "Podemos selecionar os elementos de uma página utilizando métodos semelhantes ao javascript, por exemplo, usando o Id de um item. Para selecionar itens precisamos importar uma classe do Selenium chamado `By`.\n",
    "\n",
    "    from selenium.webdriver.common.by import By\n",
    "\n",
    "Quando procuramos por um item específico, usamos o método `.find_element()`, nele iremos passar o tipo de seleção e o valor do id do elemento (se formos de fato selecionar pelo id, caso contrário, pode-se selecionar por outros valores, como explicado na documentação do selenium).\n",
    "Se houver então uma ID, podemos usar o método `.find_elements()` passando como parametros `By.ID` e o id do elemento.\n",
    "<br>\n",
    "Exemplo:"
   ]
  },
  {
   "cell_type": "code",
   "execution_count": 3,
   "metadata": {},
   "outputs": [],
   "source": [
    "# campo_nome_form = navegador.find_element(By.ID, 'fullname')\n",
    "# campo_nome_form.send_keys('Fulano de Tal')\n",
    "\n",
    "## ou podemos fazer em uma linha de código somente:\n",
    "\n",
    "navegador.find_element(By.ID, 'fullname').send_keys('Fulano de Tal')\n",
    "navegador.find_element(By.ID, 'email').send_keys('fulano@email.com')\n",
    "navegador.find_element(By.ID, '_form_176_submit').click()"
   ]
  },
  {
   "cell_type": "markdown",
   "metadata": {},
   "source": [
    "Dessa forma selecionamos o campo nome, o campo de email clicamos no botão de envio e então enviamos os dados. Se selecionarmos algum item que possua algum valor específico,podemos atribuir este valor a uma variável."
   ]
  },
  {
   "cell_type": "markdown",
   "metadata": {},
   "source": [
    "Agora, se o elemento desejado não tem id, podemos conferir se ele tem classe, tendo classe, parece ser uma classe única (ao menos na página em questão.). Se for uma classe única, usaremos o método `find_element()` passando como parametros `By.CLASS_NAME` e o nome da classe.\n",
    "<br>\n",
    "Exemplo:"
   ]
  },
  {
   "cell_type": "code",
   "execution_count": 4,
   "metadata": {},
   "outputs": [
    {
     "ename": "NoSuchWindowException",
     "evalue": "Message: no such window: target window already closed\nfrom unknown error: web view not found\n  (Session info: chrome=127.0.6533.120)\nStacktrace:\n\tGetHandleVerifier [0x00CA8923+23283]\n\t(No symbol) [0x00C6E934]\n\t(No symbol) [0x00BA0733]\n\t(No symbol) [0x00B7D2E3]\n\t(No symbol) [0x00C0A64F]\n\t(No symbol) [0x00C1C686]\n\t(No symbol) [0x00C041B6]\n\t(No symbol) [0x00BD8017]\n\t(No symbol) [0x00BD890D]\n\tGetHandleVerifier [0x00D9A5F3+1013699]\n\tGetHandleVerifier [0x00DA3E4C+1052700]\n\tGetHandleVerifier [0x00D9D4B4+1025668]\n\tGetHandleVerifier [0x00CCEA2B+179195]\n\t(No symbol) [0x00C76833]\n\t(No symbol) [0x00C73198]\n\t(No symbol) [0x00C73337]\n\t(No symbol) [0x00C6B4BE]\n\tBaseThreadInitThunk [0x76467BA9+25]\n\tRtlInitializeExceptionChain [0x76FDC10B+107]\n\tRtlClearBits [0x76FDC08F+191]\n",
     "output_type": "error",
     "traceback": [
      "\u001b[1;31m---------------------------------------------------------------------------\u001b[0m",
      "\u001b[1;31mNoSuchWindowException\u001b[0m                     Traceback (most recent call last)",
      "Cell \u001b[1;32mIn[4], line 1\u001b[0m\n\u001b[1;32m----> 1\u001b[0m \u001b[43mnavegador\u001b[49m\u001b[38;5;241;43m.\u001b[39;49m\u001b[43mfind_element\u001b[49m\u001b[43m(\u001b[49m\u001b[43mBy\u001b[49m\u001b[38;5;241;43m.\u001b[39;49m\u001b[43mCLASS_NAME\u001b[49m\u001b[43m,\u001b[49m\u001b[43m \u001b[49m\u001b[38;5;124;43m'\u001b[39;49m\u001b[38;5;124;43mcustom-logo\u001b[39;49m\u001b[38;5;124;43m'\u001b[39;49m\u001b[43m)\u001b[49m\u001b[38;5;241m.\u001b[39mclick()\n",
      "File \u001b[1;32md:\\Development\\Estudos\\Python\\Hashtag\\.venv\\Lib\\site-packages\\selenium\\webdriver\\remote\\webdriver.py:748\u001b[0m, in \u001b[0;36mWebDriver.find_element\u001b[1;34m(self, by, value)\u001b[0m\n\u001b[0;32m    745\u001b[0m     by \u001b[38;5;241m=\u001b[39m By\u001b[38;5;241m.\u001b[39mCSS_SELECTOR\n\u001b[0;32m    746\u001b[0m     value \u001b[38;5;241m=\u001b[39m \u001b[38;5;124mf\u001b[39m\u001b[38;5;124m'\u001b[39m\u001b[38;5;124m[name=\u001b[39m\u001b[38;5;124m\"\u001b[39m\u001b[38;5;132;01m{\u001b[39;00mvalue\u001b[38;5;132;01m}\u001b[39;00m\u001b[38;5;124m\"\u001b[39m\u001b[38;5;124m]\u001b[39m\u001b[38;5;124m'\u001b[39m\n\u001b[1;32m--> 748\u001b[0m \u001b[38;5;28;01mreturn\u001b[39;00m \u001b[38;5;28;43mself\u001b[39;49m\u001b[38;5;241;43m.\u001b[39;49m\u001b[43mexecute\u001b[49m\u001b[43m(\u001b[49m\u001b[43mCommand\u001b[49m\u001b[38;5;241;43m.\u001b[39;49m\u001b[43mFIND_ELEMENT\u001b[49m\u001b[43m,\u001b[49m\u001b[43m \u001b[49m\u001b[43m{\u001b[49m\u001b[38;5;124;43m\"\u001b[39;49m\u001b[38;5;124;43musing\u001b[39;49m\u001b[38;5;124;43m\"\u001b[39;49m\u001b[43m:\u001b[49m\u001b[43m \u001b[49m\u001b[43mby\u001b[49m\u001b[43m,\u001b[49m\u001b[43m \u001b[49m\u001b[38;5;124;43m\"\u001b[39;49m\u001b[38;5;124;43mvalue\u001b[39;49m\u001b[38;5;124;43m\"\u001b[39;49m\u001b[43m:\u001b[49m\u001b[43m \u001b[49m\u001b[43mvalue\u001b[49m\u001b[43m}\u001b[49m\u001b[43m)\u001b[49m[\u001b[38;5;124m\"\u001b[39m\u001b[38;5;124mvalue\u001b[39m\u001b[38;5;124m\"\u001b[39m]\n",
      "File \u001b[1;32md:\\Development\\Estudos\\Python\\Hashtag\\.venv\\Lib\\site-packages\\selenium\\webdriver\\remote\\webdriver.py:354\u001b[0m, in \u001b[0;36mWebDriver.execute\u001b[1;34m(self, driver_command, params)\u001b[0m\n\u001b[0;32m    352\u001b[0m response \u001b[38;5;241m=\u001b[39m \u001b[38;5;28mself\u001b[39m\u001b[38;5;241m.\u001b[39mcommand_executor\u001b[38;5;241m.\u001b[39mexecute(driver_command, params)\n\u001b[0;32m    353\u001b[0m \u001b[38;5;28;01mif\u001b[39;00m response:\n\u001b[1;32m--> 354\u001b[0m     \u001b[38;5;28;43mself\u001b[39;49m\u001b[38;5;241;43m.\u001b[39;49m\u001b[43merror_handler\u001b[49m\u001b[38;5;241;43m.\u001b[39;49m\u001b[43mcheck_response\u001b[49m\u001b[43m(\u001b[49m\u001b[43mresponse\u001b[49m\u001b[43m)\u001b[49m\n\u001b[0;32m    355\u001b[0m     response[\u001b[38;5;124m\"\u001b[39m\u001b[38;5;124mvalue\u001b[39m\u001b[38;5;124m\"\u001b[39m] \u001b[38;5;241m=\u001b[39m \u001b[38;5;28mself\u001b[39m\u001b[38;5;241m.\u001b[39m_unwrap_value(response\u001b[38;5;241m.\u001b[39mget(\u001b[38;5;124m\"\u001b[39m\u001b[38;5;124mvalue\u001b[39m\u001b[38;5;124m\"\u001b[39m, \u001b[38;5;28;01mNone\u001b[39;00m))\n\u001b[0;32m    356\u001b[0m     \u001b[38;5;28;01mreturn\u001b[39;00m response\n",
      "File \u001b[1;32md:\\Development\\Estudos\\Python\\Hashtag\\.venv\\Lib\\site-packages\\selenium\\webdriver\\remote\\errorhandler.py:229\u001b[0m, in \u001b[0;36mErrorHandler.check_response\u001b[1;34m(self, response)\u001b[0m\n\u001b[0;32m    227\u001b[0m         alert_text \u001b[38;5;241m=\u001b[39m value[\u001b[38;5;124m\"\u001b[39m\u001b[38;5;124malert\u001b[39m\u001b[38;5;124m\"\u001b[39m]\u001b[38;5;241m.\u001b[39mget(\u001b[38;5;124m\"\u001b[39m\u001b[38;5;124mtext\u001b[39m\u001b[38;5;124m\"\u001b[39m)\n\u001b[0;32m    228\u001b[0m     \u001b[38;5;28;01mraise\u001b[39;00m exception_class(message, screen, stacktrace, alert_text)  \u001b[38;5;66;03m# type: ignore[call-arg]  # mypy is not smart enough here\u001b[39;00m\n\u001b[1;32m--> 229\u001b[0m \u001b[38;5;28;01mraise\u001b[39;00m exception_class(message, screen, stacktrace)\n",
      "\u001b[1;31mNoSuchWindowException\u001b[0m: Message: no such window: target window already closed\nfrom unknown error: web view not found\n  (Session info: chrome=127.0.6533.120)\nStacktrace:\n\tGetHandleVerifier [0x00CA8923+23283]\n\t(No symbol) [0x00C6E934]\n\t(No symbol) [0x00BA0733]\n\t(No symbol) [0x00B7D2E3]\n\t(No symbol) [0x00C0A64F]\n\t(No symbol) [0x00C1C686]\n\t(No symbol) [0x00C041B6]\n\t(No symbol) [0x00BD8017]\n\t(No symbol) [0x00BD890D]\n\tGetHandleVerifier [0x00D9A5F3+1013699]\n\tGetHandleVerifier [0x00DA3E4C+1052700]\n\tGetHandleVerifier [0x00D9D4B4+1025668]\n\tGetHandleVerifier [0x00CCEA2B+179195]\n\t(No symbol) [0x00C76833]\n\t(No symbol) [0x00C73198]\n\t(No symbol) [0x00C73337]\n\t(No symbol) [0x00C6B4BE]\n\tBaseThreadInitThunk [0x76467BA9+25]\n\tRtlInitializeExceptionChain [0x76FDC10B+107]\n\tRtlClearBits [0x76FDC08F+191]\n"
     ]
    }
   ],
   "source": [
    "navegador.find_element(By.CLASS_NAME, 'custom-logo').click()"
   ]
  },
  {
   "cell_type": "markdown",
   "metadata": {},
   "source": [
    "Agora, se a classe não parece ser única, podemos usar o `XPATH` para localizar o elemento. Fazemos isso da seguinte forma:\n",
    "* No navegador, com o elemento selecionado, clicamos com o botão direito sobre ele no painel do DevTools e escolhemos a opção \"Copy\" depois escolhemos a opção \"Copy XPath\" e teremos XPath daquele elemento.\n",
    "* Utilizamos o `find_element()` passando como parametros `By.XPATH` e o XPath do elemento.\n",
    "<br>\n",
    "Exemplo:"
   ]
  },
  {
   "cell_type": "code",
   "execution_count": null,
   "metadata": {},
   "outputs": [],
   "source": [
    "navegador.find_element(By.XPATH, '//*[@id=\"header\"]/div/div/div[1]/a/img').click()"
   ]
  },
  {
   "cell_type": "markdown",
   "metadata": {},
   "source": [
    "### Uso:\n",
    "Portanto podemos usar a seleção de arquivos únicos de forma simples na seguinte sequência:\n",
    "1. `By.ID` para selecionar um item pelo id que é o parâmetro mais difícil de ser alterado em uma página Web.\n",
    "2. `By.CLASS_NAME` para seleção de elementos por uma classe que é mais simples de ser alterado em uma página Web, mas ainda assim, é evitado de fazer. \n",
    "3. `By.XPATH` para seleção de elementos por um XPath que é o mais simples e eficaz, mas páginas que usam paginação dinâmica ou utilizam a renderização como a do React, podem dificultar a seleção de elementos."
   ]
  },
  {
   "cell_type": "markdown",
   "metadata": {},
   "source": [
    "### Outras formas de seleção:"
   ]
  },
  {
   "cell_type": "markdown",
   "metadata": {},
   "source": [
    "#### Seleção por tag (TAG_NAME):\n",
    "Em uma ocasião onde queremos obter dados atribuídos especificamente a determinadas tags, podemos usar `By.TAG_NAME`."
   ]
  },
  {
   "cell_type": "code",
   "execution_count": null,
   "metadata": {},
   "outputs": [
    {
     "name": "stdout",
     "output_type": "stream",
     "text": [
      "Título da Página: TODOS OS CURSOS DA HASHTAG TREINAMENTOS\n"
     ]
    }
   ],
   "source": [
    "titulo_pagina = navegador.find_element(By.TAG_NAME, 'h2').text\n",
    "\n",
    "print(f'Título da Página: {titulo_pagina}')"
   ]
  },
  {
   "cell_type": "markdown",
   "metadata": {},
   "source": [
    "#### Selecionar pelo Partial Link Text (ou LINK_TEXT)\n",
    "Quando queremos seleção de link através de algum texto parcial do mesmo podemos utilizar `By.PARTIAL_LINK_TEXT`. Mas atenção no case senitive, pois se por ventura, alguma letra estiver escrita em case diferente, o Selenium não irá encontrar o elemento, retornando um erro."
   ]
  },
  {
   "cell_type": "code",
   "execution_count": null,
   "metadata": {},
   "outputs": [
    {
     "name": "stdout",
     "output_type": "stream",
     "text": [
      "Número do Whatsapp: (21) 99865-8852 \n"
     ]
    }
   ],
   "source": [
    "numero_whatsapp = navegador.find_element(By.PARTIAL_LINK_TEXT, 'WhatsApp').text\n",
    "print(f'Número do Whatsapp: {numero_whatsapp[:16]}')"
   ]
  },
  {
   "cell_type": "markdown",
   "metadata": {},
   "source": [
    "Se tiver o texto inteiro correto, podemos usar `By.LINK_TEXT`."
   ]
  },
  {
   "cell_type": "code",
   "execution_count": null,
   "metadata": {},
   "outputs": [
    {
     "name": "stdout",
     "output_type": "stream",
     "text": [
      "Número do Whatsapp: (21) 99865-8852 \n"
     ]
    }
   ],
   "source": [
    "numero_whatsapp_2 = navegador.find_element(By.LINK_TEXT, '(21) 99865-8852 (WhatsApp)').text\n",
    "print(f'Número do Whatsapp: {numero_whatsapp_2[:16]}')"
   ]
  },
  {
   "cell_type": "markdown",
   "metadata": {},
   "source": [
    "#### Seleção por Name (NAME):\n",
    "Podemos usar `By.NAME` para seleção de elementos pelo nome do campo de formulário. Dessa forma, podemos obter facilmente dados preenchidos no formulário."
   ]
  },
  {
   "cell_type": "code",
   "execution_count": null,
   "metadata": {},
   "outputs": [],
   "source": [
    "# navegador.find_element(By.NAME, 'email').send_keys('fulano@email')\n",
    "\n",
    "navegador.find_element(By.NAME, 'email').send_keys('fulano@email')\n"
   ]
  },
  {
   "cell_type": "markdown",
   "metadata": {},
   "source": [
    "---"
   ]
  },
  {
   "cell_type": "markdown",
   "metadata": {},
   "source": [
    "## Como buscar e selecionar vários elementos com selenium:"
   ]
  },
  {
   "cell_type": "markdown",
   "metadata": {},
   "source": [
    "Como demonstrado anteriormente, podemos encontrar elementos únicos na página usando o `find_element()` e atribuindo como parâmetros algumas das forma de obtenção de valores do mesmo. Para buscar vários elementos, podemos usar o `find_elements()` e seguir a mesma sequência de seleção.\n",
    "\n",
    "A grande diferença é que `find_elements()` retorna uma lista de elementos, ao invés de um único elemento."
   ]
  },
  {
   "cell_type": "code",
   "execution_count": null,
   "metadata": {},
   "outputs": [],
   "source": [
    "lista_elementos = navegador.find_elements(By.CLASS_NAME, \"nav-link\")\n",
    "for elemento in lista_elementos:\n",
    "    if elemento.text.upper() == 'BLOG':\n",
    "        elemento.click()\n",
    "        break\n",
    "\n"
   ]
  },
  {
   "cell_type": "markdown",
   "metadata": {},
   "source": [
    "Abaixo, uma forma de obter os links da página (todos os href's referenciados a uma Tag `<a>` usando `find_elements()`)."
   ]
  },
  {
   "cell_type": "code",
   "execution_count": null,
   "metadata": {},
   "outputs": [
    {
     "name": "stdout",
     "output_type": "stream",
     "text": [
      "Link: https://api.whatsapp.com/send?phone=5521998658852&text=Ol%C3%A1%2C%20gostaria%20de%20tirar%20uma%20d%C3%BAvida%20%20sobre%20o%20curso%20online\n",
      "Fim da Pesquisa do whatsapp.\n",
      "= == == == == == == == == == == == == == == == == == == == == == == == == == == == == == == == == == == == == == == == == == == == == == == == == == =\n"
     ]
    },
    {
     "ename": "TypeError",
     "evalue": "argument of type 'NoneType' is not iterable",
     "output_type": "error",
     "traceback": [
      "\u001b[1;31m---------------------------------------------------------------------------\u001b[0m",
      "\u001b[1;31mTypeError\u001b[0m                                 Traceback (most recent call last)",
      "Cell \u001b[1;32mIn[107], line 11\u001b[0m\n\u001b[0;32m      8\u001b[0m \u001b[38;5;28mprint\u001b[39m(\u001b[38;5;124m'\u001b[39m\u001b[38;5;124m= =\u001b[39m\u001b[38;5;124m'\u001b[39m\u001b[38;5;241m*\u001b[39m\u001b[38;5;241m50\u001b[39m)\n\u001b[0;32m     10\u001b[0m \u001b[38;5;28;01mfor\u001b[39;00m link \u001b[38;5;129;01min\u001b[39;00m links:\n\u001b[1;32m---> 11\u001b[0m     \u001b[38;5;28;01mif\u001b[39;00m \u001b[38;5;124;43m'\u001b[39;49m\u001b[38;5;124;43mimg\u001b[39;49m\u001b[38;5;124;43m'\u001b[39;49m\u001b[43m \u001b[49m\u001b[38;5;129;43;01min\u001b[39;49;00m\u001b[43m \u001b[49m\u001b[43mlink\u001b[49m\u001b[38;5;241;43m.\u001b[39;49m\u001b[43mget_dom_attribute\u001b[49m\u001b[43m(\u001b[49m\u001b[38;5;124;43m'\u001b[39;49m\u001b[38;5;124;43mclass\u001b[39;49m\u001b[38;5;124;43m'\u001b[39;49m\u001b[43m)\u001b[49m:\n\u001b[0;32m     12\u001b[0m         \u001b[38;5;28mprint\u001b[39m(\u001b[38;5;124mf\u001b[39m\u001b[38;5;124m'\u001b[39m\u001b[38;5;124mImagem: \u001b[39m\u001b[38;5;132;01m{\u001b[39;00mlink\u001b[38;5;241m.\u001b[39mget_attribute(\u001b[38;5;124m\"\u001b[39m\u001b[38;5;124msrc\u001b[39m\u001b[38;5;124m\"\u001b[39m)\u001b[38;5;132;01m}\u001b[39;00m\u001b[38;5;124m'\u001b[39m)\n\u001b[0;32m     13\u001b[0m         \u001b[38;5;28;01mbreak\u001b[39;00m\n",
      "\u001b[1;31mTypeError\u001b[0m: argument of type 'NoneType' is not iterable"
     ]
    }
   ],
   "source": [
    "links = navegador.find_elements(By.TAG_NAME, 'a')\n",
    "# Se que quiser pegar os links que possuem 'whatsapp' em algum lugar do texto\n",
    "for link in links:\n",
    "    if \"whatsapp\" in link.text.lower():\n",
    "        print(f'Link: {link.get_attribute(\"href\")}')\n",
    "        break\n",
    "print('Fim da Pesquisa do whatsapp.')\n",
    "print('= ='*50)\n"
   ]
  },
  {
   "cell_type": "markdown",
   "metadata": {},
   "source": [
    "### Pegar os atributos de um elemento:\n",
    "\n",
    "Podemos precisar pegar os atributos de um elemento, como por exemplo o 'href', para isso, podemos utilizar o método `get_attribute()`.\n",
    "\n",
    "1. Obter o link do Whatsapp:"
   ]
  },
  {
   "cell_type": "code",
   "execution_count": null,
   "metadata": {},
   "outputs": [],
   "source": [
    "## Minha versão:\n",
    "links = navegador.find_elements(By.TAG_NAME, 'a')\n",
    "# Se que quiser pegar os links que possuem 'whatsapp' em algum lugar do texto\n",
    "for link in links:\n",
    "    if \"whatsapp\" in link.text.lower():\n",
    "        print(f'Link: {link.get_attribute(\"href\")}')\n",
    "        break\n",
    "print('Fim da Pesquisa do whatsapp.')\n",
    "print('= ='*50)"
   ]
  },
  {
   "cell_type": "code",
   "execution_count": null,
   "metadata": {},
   "outputs": [
    {
     "name": "stdout",
     "output_type": "stream",
     "text": [
      "https://api.whatsapp.com/send?phone=5521998658852&text=Ol%C3%A1%2C%20gostaria%20de%20tirar%20uma%20d%C3%BAvida%20%20sobre%20o%20curso%20online\n"
     ]
    }
   ],
   "source": [
    "# Versão do professor:\n",
    "\n",
    "texto = navegador.find_element(By.XPATH, '/html/body/footer/div/div[1]/div[2]/div/a[2]').get_attribute('href')\n",
    "print(texto)"
   ]
  },
  {
   "cell_type": "markdown",
   "metadata": {},
   "source": [
    "2. Para pegar os links de todas imagens:"
   ]
  },
  {
   "cell_type": "code",
   "execution_count": null,
   "metadata": {},
   "outputs": [
    {
     "name": "stdout",
     "output_type": "stream",
     "text": [
      "Link da imagem: https://www.hashtagtreinamentos.com/curso-de-excel-online\n",
      "Link da imagem: https://www.hashtagtreinamentos.com/curso-power-bi\n",
      "Link da imagem: https://www.hashtagtreinamentos.com/curso-python\n",
      "Link da imagem: https://www.hashtagtreinamentos.com/curso-sql\n",
      "Link da imagem: https://www.hashtagtreinamentos.com/curso-vba-excel\n"
     ]
    }
   ],
   "source": [
    "figures_elements = navegador.find_elements(By.TAG_NAME, 'figure')\n",
    "for figure in figures_elements:\n",
    "    images_links = figure.find_elements(By.TAG_NAME, 'a')\n",
    "    if images_links == '':\n",
    "        print('Este elemento não possui imagens.')\n",
    "        continue\n",
    "    else:\n",
    "        for image_link in images_links:\n",
    "            print(f'Link da imagem: {image_link.get_attribute(\"href\")}')\n"
   ]
  },
  {
   "cell_type": "markdown",
   "metadata": {},
   "source": [
    "# Interação com página web usando Selenium:"
   ]
  },
  {
   "cell_type": "markdown",
   "metadata": {},
   "source": [
    "## Preenchendo formulários com selenium:"
   ]
  },
  {
   "cell_type": "markdown",
   "metadata": {},
   "source": [
    "Abaixo serão feitos vários exemplos de preenchimento de formulários usando Selenium."
   ]
  },
  {
   "cell_type": "code",
   "execution_count": null,
   "metadata": {},
   "outputs": [],
   "source": [
    "# Script padrão para iniciar o navegador Chrome com o selenium e abrir a página web específica. \n",
    "from selenium import webdriver\n",
    "from selenium.webdriver.chrome.service import Service\n",
    "from selenium.webdriver.common.by import By\n",
    "from selenium.webdriver.common.keys import Keys\n",
    "from webdriver_manager.chrome import ChromeDriverManager\n",
    "import os\n",
    "\n",
    "service = Service(ChromeDriverManager().install())\n",
    "navegador = webdriver.Chrome(service=service)\n",
    "caminho_do_arquivo = os.path.join(os.getcwd(), 'formulario.html')\n",
    "navegador.get(caminho_do_arquivo)"
   ]
  },
  {
   "cell_type": "markdown",
   "metadata": {},
   "source": [
    "### Botão  \"normal\" padrão (botão de clicar simples):\n",
    "Para clicar em um botão normal podemos usar o método `.click()` do Selenium após selecionar o elemento usando `find_element()` ou `find_elements()`.\n",
    "No caso do botão em questão, ao clicar nele, irá gerar um pop-up com um alerta com a mensagem \"Você clicou em mim!\", no código, podemos usar o método `switch_to.alert.accept()` para aceitar o alerta e `switch_to.alert.dismiss()` para fechar o alerta."
   ]
  },
  {
   "cell_type": "code",
   "execution_count": null,
   "metadata": {},
   "outputs": [],
   "source": [
    "navegador.find_element(By.XPATH, '/html/body/form/input[1]').click()\n",
    "alerta = navegador.switch_to.alert\n",
    "alerta.accept()"
   ]
  },
  {
   "cell_type": "markdown",
   "metadata": {},
   "source": [
    "#### Dica: \n",
    "* Esteja atento ao atributo \"value\" dos inputs, ele pode te ajudar a obter os valores dos inputs, como por exemplo, utilizando o método `get_attribute('value')` iremos receber o valor do input de texto por exemplo.\n",
    "* Usaremos bastante também o método `is_selected()` para verificar se um checkbox ou campo de seleção está marcado.\n",
    "* Ainda também, usaremos o método `text` para pegar os valores de texto intrínsecos do elemento como já fizemos."
   ]
  },
  {
   "cell_type": "markdown",
   "metadata": {},
   "source": [
    "### Botão de Seleção estilo Checkbox (clicar no botão para marcar/desmarcar podendo ser mais de um):"
   ]
  },
  {
   "cell_type": "code",
   "execution_count": null,
   "metadata": {},
   "outputs": [
    {
     "name": "stdout",
     "output_type": "stream",
     "text": [
      "O Checkbox 1 está selecionado!\n",
      "O Checkbox 2 está selecionado!\n",
      "O Checkbox 1 está selecionado! Irei descarmar o checkbox!\n",
      "Agora o Checkbox 1 está desmarcado!\n",
      "O Checkbox 2 está selecionado! Irei descarmar o checkbox!\n",
      "Agora o Checkbox 2 está desmarcado!\n"
     ]
    }
   ],
   "source": [
    "checkbox_1 = navegador.find_element(By.XPATH, '/html/body/form/input[2]')\n",
    "checkbox_2 = navegador.find_element(By.XPATH, '/html/body/form/input[3]')\n",
    "\n",
    "if checkbox_1.is_selected():\n",
    "    print(f\"O Checkbox 1 está selecionado!\")\n",
    "else:\n",
    "    checkbox_1.click()\n",
    "\n",
    "if checkbox_2.is_selected():\n",
    "    print(f\"O Checkbox 2 está selecionado!\")\n",
    "else:\n",
    "    checkbox_2.click()\n",
    "\n",
    "checkbox = navegador.find_elements(By.TAG_NAME, 'input')\n",
    "\n",
    "for i, input_element in enumerate(checkbox):\n",
    "    if input_element.get_attribute('type').lower() == 'checkbox': # type: ignore\n",
    "        if input_element.is_selected():\n",
    "            print(f\"O Checkbox {i} está selecionado! Irei descarmar o checkbox!\")\n",
    "            input_element.click()\n",
    "            print(f\"Agora o Checkbox {i} está desmarcado!\")\n",
    "        else:\n",
    "            print(f\"O Checkbox {i} não está selecionado! Irei marcar o checkbox!\")\n",
    "            input_element.click()"
   ]
  },
  {
   "cell_type": "markdown",
   "metadata": {},
   "source": [
    "### Botão de Seleção de Cores (enviar valor):"
   ]
  },
  {
   "cell_type": "code",
   "execution_count": null,
   "metadata": {},
   "outputs": [
    {
     "name": "stdout",
     "output_type": "stream",
     "text": [
      "#e82121\n",
      "#2143e8\n"
     ]
    }
   ],
   "source": [
    "## Descobrir a cor que está sendo usada:\n",
    "cor_atual_1 = navegador.find_element(By.XPATH, '/html/body/form/input[4]').get_attribute('value')\n",
    "print(cor_atual_1)\n",
    "cor_atual_2 = navegador.find_element(By.XPATH, '/html/body/form/input[5]').get_attribute('value')\n",
    "print(cor_atual_2)\n",
    "\n",
    "## Alterar a cor:\n",
    "COR_USAR_1 = '#E82121'\n",
    "cor_nova_1 = navegador.find_element(By.XPATH, '/html/body/form/input[4]').send_keys(COR_USAR_1)\n",
    "COR_USAR_2 = '#2143E8'\n",
    "cor_nova_2 = navegador.find_element(By.XPATH, '/html/body/form/input[5]').send_keys(COR_USAR_2)"
   ]
  },
  {
   "cell_type": "markdown",
   "metadata": {},
   "source": [
    "### Botão de Data (enviar valor):\n",
    "Nesse ponto, não há muito segredo. Só é necessário observar corretamente a forma como deve ser preenchido o input."
   ]
  },
  {
   "cell_type": "code",
   "execution_count": null,
   "metadata": {},
   "outputs": [
    {
     "name": "stdout",
     "output_type": "stream",
     "text": [
      "2024-08-14\n"
     ]
    }
   ],
   "source": [
    "# Obter o valor da data:\n",
    "data_marcada = navegador.find_element(By.XPATH, '/html/body/form/input[6]').get_attribute('value')\n",
    "print(data_marcada)\n",
    "\n",
    "# Preencher o valor:\n",
    "data_correta = '14/08/2024'\n",
    "navegador.find_element(By.XPATH, '/html/body/form/input[6]').send_keys(data_correta)\n"
   ]
  },
  {
   "cell_type": "markdown",
   "metadata": {},
   "source": [
    "### Botão de Datas com horas (enviar valor):\n",
    "Nesse caso em particular, teremos duas informações diferentes para inserir no mesmo input. Se tentarmos diretamente, não será possível, portanto precisaremos de algo tipo um \"TAB\". Para isso podemos usar o `Keys.TAB` para ir para o próximo passo do input."
   ]
  },
  {
   "cell_type": "code",
   "execution_count": null,
   "metadata": {},
   "outputs": [
    {
     "name": "stdout",
     "output_type": "stream",
     "text": [
      "\n"
     ]
    }
   ],
   "source": [
    "# Obter o valor da data:\n",
    "data_marcada = navegador.find_element(By.XPATH, '/html/body/form/input[7]').get_attribute('value')\n",
    "print(data_marcada)\n",
    "\n",
    "# Preencher o valor:\n",
    "data_correta = '14/08/2024'\n",
    "hora_correta = '22:38'\n",
    "navegador.find_element(By.XPATH, '/html/body/form/input[7]').send_keys(data_correta, Keys.TAB, hora_correta)"
   ]
  },
  {
   "cell_type": "markdown",
   "metadata": {},
   "source": [
    "### Botão para selecionar o arquivo (enviar valor com caminho completo):"
   ]
  },
  {
   "cell_type": "code",
   "execution_count": null,
   "metadata": {},
   "outputs": [],
   "source": [
    "# Enviar o arquivo:\n",
    "\n",
    "caminho_do_arquivo = r\"C:\\Users\\albin\\Desktop\\Teste.txt\"\n",
    "navegador.find_element(By.XPATH, '/html/body/form/input[8]').send_keys(caminho_do_arquivo)"
   ]
  },
  {
   "cell_type": "code",
   "execution_count": null,
   "metadata": {},
   "outputs": [
    {
     "name": "stdout",
     "output_type": "stream",
     "text": [
      "C:\\fakepath\\Teste.txt\n"
     ]
    }
   ],
   "source": [
    "# Obter o valor do arquivo:\n",
    "\n",
    "arquivo = navegador.find_element(By.XPATH, '/html/body/form/input[8]').get_attribute('value')\n",
    "print(arquivo)"
   ]
  },
  {
   "cell_type": "markdown",
   "metadata": {},
   "source": [
    "### Botão para selecionar mês ano (enviar valor):"
   ]
  },
  {
   "cell_type": "code",
   "execution_count": null,
   "metadata": {},
   "outputs": [
    {
     "name": "stdout",
     "output_type": "stream",
     "text": [
      "2322-04\n"
     ]
    }
   ],
   "source": [
    "# Pegando o valor do mês e ano:\n",
    "mes_ano = navegador.find_element(By.XPATH, '/html/body/form/input[9]').get_attribute('value')\n",
    "print(mes_ano)\n",
    "\n",
    "# Inserindo o valor de mês e ano:\n",
    "\n",
    "mes_correto = '08'\n",
    "ano_correto = '2024'\n",
    "navegador.find_element(By.XPATH, '/html/body/form/input[9]').send_keys(mes_correto, Keys.TAB, ano_correto, Keys.TAB)"
   ]
  },
  {
   "cell_type": "markdown",
   "metadata": {},
   "source": [
    "### Campos Numéricos:"
   ]
  },
  {
   "cell_type": "code",
   "execution_count": null,
   "metadata": {},
   "outputs": [
    {
     "name": "stdout",
     "output_type": "stream",
     "text": [
      "Este campo é numérico! Será preenchido somente com números inteiros.\n",
      "123\n"
     ]
    }
   ],
   "source": [
    "# Da seguinte forma, está varrendo a página procurando os inputs numéricos,\n",
    "# ao achar irá preencher com o valor informado.\n",
    "inputs = navegador.find_elements(By.TAG_NAME, 'input')\n",
    "valor = ''\n",
    "for input_element in inputs:\n",
    "    if input_element.get_attribute('type') == 'number':\n",
    "        print('Este campo é numérico! Será preenchido somente com números inteiros.')\n",
    "        input_element.clear()\n",
    "        input_element.send_keys('123')\n",
    "        valor = input_element.get_attribute('value')\n",
    "        break\n",
    "    else:\n",
    "        pass\n",
    "\n",
    "print(valor)\n"
   ]
  },
  {
   "cell_type": "markdown",
   "metadata": {},
   "source": [
    "### Campos de Senha:\n"
   ]
  },
  {
   "cell_type": "code",
   "execution_count": null,
   "metadata": {},
   "outputs": [
    {
     "name": "stdout",
     "output_type": "stream",
     "text": [
      "Senha atual: SenhaTeste1234\n"
     ]
    }
   ],
   "source": [
    "#Preencher a senha:\n",
    "navegador.find_element(By.XPATH, '/html/body/form/input[11]').send_keys('SenhaTeste1234')\n",
    "\n",
    "#Obter o valor preenchido da senha:\n",
    "senha_atual = navegador.find_element(By.XPATH, '/html/body/form/input[11]').get_attribute('value')\n",
    "print(f'Senha atual: {senha_atual}')"
   ]
  },
  {
   "cell_type": "markdown",
   "metadata": {},
   "source": [
    "### Radio Buttons (botões de seleção única):"
   ]
  },
  {
   "cell_type": "code",
   "execution_count": null,
   "metadata": {},
   "outputs": [
    {
     "name": "stdout",
     "output_type": "stream",
     "text": [
      "O radio button 1 foi marcado!\n"
     ]
    }
   ],
   "source": [
    "# Validar se o botão radio está marcado (validando todos de uma vez):\n",
    "inputs_radio = navegador.find_elements(By.TAG_NAME, 'input')\n",
    "for i, input_element in enumerate(inputs_radio):\n",
    "    if input_element.get_attribute('type') == 'radio':\n",
    "        if input_element.is_selected():\n",
    "            print(f'O radio button {i-10} está marcado!')\n",
    "        else:\n",
    "            input_element.click()\n",
    "            print(f'O radio button {i-10} foi marcado!')\n",
    "            break\n",
    "    else:\n",
    "        pass"
   ]
  },
  {
   "cell_type": "markdown",
   "metadata": {},
   "source": [
    "### Slider (enviar valor):"
   ]
  },
  {
   "cell_type": "code",
   "execution_count": null,
   "metadata": {},
   "outputs": [
    {
     "name": "stdout",
     "output_type": "stream",
     "text": [
      "Valor do slider: 50\n",
      "O slider não está na posição desejada! Ajustando o valor para 70.\n",
      "Valor do slider: 70\n"
     ]
    }
   ],
   "source": [
    "# Pegar o valor do slider (range):\n",
    "valor_slider = navegador.find_element(By.XPATH, '/html/body/form/input[15]').get_attribute('value')\n",
    "print(f'Valor do slider: {valor_slider}')\n",
    "valor_slider = int(valor_slider) # type: ignore\n",
    "elemento_slider = navegador.find_element(By.XPATH, '/html/body/form/input[15]')\n",
    "\n",
    "elemento_slider.clear()\n",
    "if valor_slider != 70:\n",
    "    print('O slider não está na posição desejada! Ajustando o valor para 70.')\n",
    "    for i in range(70 - valor_slider):\n",
    "        elemento_slider.send_keys(Keys.ARROW_RIGHT)\n",
    "    print(f'Valor do slider: {navegador.find_element(By.XPATH, '/html/body/form/input[15]').get_attribute('value')}')\n"
   ]
  },
  {
   "cell_type": "markdown",
   "metadata": {},
   "source": [
    "### Caixa de Texto:"
   ]
  },
  {
   "cell_type": "code",
   "execution_count": null,
   "metadata": {},
   "outputs": [],
   "source": [
    "#Preencher o valor:\n",
    "navegador.find_element(By.XPATH, '/html/body/form/input[16]').send_keys('Inter')"
   ]
  },
  {
   "cell_type": "code",
   "execution_count": null,
   "metadata": {},
   "outputs": [
    {
     "name": "stdout",
     "output_type": "stream",
     "text": [
      "Inter\n"
     ]
    }
   ],
   "source": [
    "#Obter o valor:\n",
    "valor = navegador.find_element(By.XPATH, '/html/body/form/input[16]').get_attribute('value')\n",
    "print(valor)"
   ]
  },
  {
   "cell_type": "markdown",
   "metadata": {},
   "source": [
    "### Caixa de Horas:"
   ]
  },
  {
   "cell_type": "code",
   "execution_count": null,
   "metadata": {},
   "outputs": [
    {
     "name": "stdout",
     "output_type": "stream",
     "text": [
      "Horas marcadas: 08:57\n",
      "Horas marcadas: 08:57\n"
     ]
    }
   ],
   "source": [
    "# Obtendo o valor:\n",
    "horas_marcadas = navegador.find_element(By.XPATH, '/html/body/form/input[17]').get_attribute('value')\n",
    "print(f'Horas marcadas: {horas_marcadas}')\n",
    "\n",
    "# Preencher o valor:\n",
    "navegador.find_element(By.XPATH, '/html/body/form/input[17]').send_keys('08:57')\n",
    "\n",
    "print(f'Horas marcadas: {navegador.find_element(By.XPATH, '/html/body/form/input[17]').get_attribute('value')}')"
   ]
  },
  {
   "cell_type": "markdown",
   "metadata": {},
   "source": [
    "### Caixa de Data Personalizada (Semanal):"
   ]
  },
  {
   "cell_type": "code",
   "execution_count": null,
   "metadata": {},
   "outputs": [
    {
     "name": "stdout",
     "output_type": "stream",
     "text": [
      "Data semanal marcada: 2024-W31\n",
      "Data semanal marcada: 2025-W38\n"
     ]
    }
   ],
   "source": [
    "# Obteno o valor:\n",
    "semana_ano_marcada = navegador.find_element(By.XPATH, '/html/body/form/input[18]').get_attribute('value')\n",
    "print(f'Data semanal marcada: {semana_ano_marcada}')\n",
    "\n",
    "# Preencher o valor:\n",
    "navegador.find_element(By.XPATH, '/html/body/form/input[18]').send_keys('38,2025' , Keys.TAB)\n",
    "print(f'Data semanal marcada: {navegador.find_element(By.XPATH, '/html/body/form/input[18]').get_attribute('value')}')"
   ]
  },
  {
   "cell_type": "markdown",
   "metadata": {},
   "source": [
    "### Blocos de texto (enviar valor):"
   ]
  },
  {
   "cell_type": "code",
   "execution_count": null,
   "metadata": {},
   "outputs": [
    {
     "name": "stdout",
     "output_type": "stream",
     "text": [
      "Texto preenchido: \n",
      "Texto preenchido: Novo texto.\n",
      "Texto novo.\n",
      "novo texto.\n",
      "texto novo.\n",
      "\n",
      "Podemos dar enter também com o `Keys.ENTER`.\n"
     ]
    }
   ],
   "source": [
    "# Obter o valor:\n",
    "texto_preenchido = navegador.find_element(By.XPATH, '//*[@id=\"story\"]').text\n",
    "print(f'Texto preenchido: {texto_preenchido}')\n",
    "\n",
    "navegador.find_element(By.XPATH, '//*[@id=\"story\"]').clear()\n",
    "navegador.find_element(By.XPATH, '//*[@id=\"story\"]').send_keys(\n",
    "'''Novo texto.\n",
    "Texto novo.\n",
    "novo texto.\n",
    "texto novo.\n",
    "''', Keys.ENTER, 'Podemos dar enter também com o `Keys.ENTER`.')\n",
    "\n",
    "print(f'Texto preenchido: {navegador.find_element(By.XPATH, '//*[@id=\"story\"]').get_attribute('value')}')"
   ]
  },
  {
   "cell_type": "markdown",
   "metadata": {},
   "source": [
    "### Selecionando itens de uma lista:"
   ]
  },
  {
   "cell_type": "code",
   "execution_count": null,
   "metadata": {},
   "outputs": [
    {
     "name": "stdout",
     "output_type": "stream",
     "text": [
      "Valor do select: b\n"
     ]
    }
   ],
   "source": [
    "## Enviando valor do select\n",
    "navegador.find_element(By.XPATH, '/html/body/form/select[1]').send_keys('B')\n",
    "\n",
    "\n",
    "## Obtendo o valor do select\n",
    "valor_selecionado = navegador.find_element(By.XPATH, '/html/body/form/select[1]').get_attribute('value')\n",
    "print('Valor do select:', valor_selecionado)"
   ]
  },
  {
   "cell_type": "code",
   "execution_count": null,
   "metadata": {},
   "outputs": [],
   "source": [
    "## Clicando para selecionar\n",
    "import time\n",
    "\n",
    "navegador.find_element(By.XPATH, '/html/body/form/select[1]').click()\n",
    "time.sleep(0.5)\n",
    "navegador.find_element(By.XPATH, '/html/body/form/select[1]/option[2]').click()\n",
    "navegador.find_element(By.XPATH, '/html/body/form/select[1]').send_keys(Keys.ESCAPE)\n"
   ]
  },
  {
   "cell_type": "code",
   "execution_count": null,
   "metadata": {},
   "outputs": [
    {
     "name": "stdout",
     "output_type": "stream",
     "text": [
      "None\n",
      "c\n",
      "C\n",
      "c\n",
      "C\n"
     ]
    }
   ],
   "source": [
    "## Usando Select\n",
    "import select\n",
    "from selenium.webdriver.support.select import Select\n",
    "\n",
    "elemento = navegador.find_element(By.TAG_NAME, 'select')\n",
    "elemento_select = Select(elemento)\n",
    "\n",
    "elemento_select.select_by_visible_text('A')\n",
    "elemento_select.select_by_index(1)\n",
    "elemento_select.select_by_value('c')\n",
    "\n",
    "## Há o método para tirar todas as seleções, o `deselect_all(), mas ocorrerá um erro se o elemento não puder não ter opção selecionada.`\n",
    "# elemento_select.deselect_all()\n",
    "\n",
    "## Há o método para verificar se o elemento é múltiplo de seleção\n",
    "print(elemento_select.is_multiple)\n",
    "\n",
    "## Há também a oopções de conferir o valor do elemento\n",
    "# O método first_selected_option retorna a opção selecionada atualmente.\n",
    "# Então, se não foi alterado, irá retornar o valor padrão.\n",
    "# Detalhe é que os métodos a seguir irão retornar o elemento, não seus valores.\n",
    "# Para obter os valores, é necessário usar o .get_atribute('value') e obter o texto com o .text.\n",
    "\n",
    "elemento_selecionado = elemento_select.first_selected_option\n",
    "print(elemento_selecionado.get_attribute('value'))\n",
    "print(elemento_selecionado.text)\n",
    "\n",
    "## Se for uma lista com várias opções selecionadas,\n",
    "# podemos usar o método all_selected_options para ver as opções.\n",
    "# Essa opção irá retornar uma lista de elementos Selenium,\n",
    "# o detalhe é que, no exemplo usado, não haverá mais de um.\n",
    "\n",
    "lista_elementos_selecionados = elemento_select.all_selected_options\n",
    "print(lista_elementos_selecionados[0].get_attribute('value'))\n",
    "print(lista_elementos_selecionados[0].text)"
   ]
  },
  {
   "cell_type": "markdown",
   "metadata": {},
   "source": [
    "---"
   ]
  },
  {
   "cell_type": "markdown",
   "metadata": {},
   "source": [
    "## ActionsChains\n",
    "ActionsChains é uma ferramenta do Selenium que permite fazer operações complexas de mouse, por exemplo, clicar, mover o mouse, arrastar e soltar."
   ]
  },
  {
   "cell_type": "code",
   "execution_count": null,
   "metadata": {},
   "outputs": [],
   "source": [
    "# Script padrão para iniciar o navegador Chrome com o selenium e abrir a página web específica. \n",
    "from selenium import webdriver\n",
    "from selenium.webdriver.chrome.service import Service\n",
    "from selenium.webdriver.common.by import By\n",
    "from selenium.webdriver.common.keys import Keys\n",
    "from webdriver_manager.chrome import ChromeDriverManager\n",
    "import os\n",
    "\n",
    "service = Service(ChromeDriverManager().install())\n",
    "navegador = webdriver.Chrome(service=service)\n",
    "caminho_do_arquivo = os.path.join(os.getcwd(), 'Pagina Hashtag.html')\n",
    "navegador.get(caminho_do_arquivo)"
   ]
  },
  {
   "cell_type": "markdown",
   "metadata": {},
   "source": [
    "Quando em um site, algum menu suspenso simula um dropdown, mas sem efetivamente estar em um formulário com um select, podemos ter dificuldades para poder selecionar os elementos do menu suspenso. Uma das formas disso é tentar pegar o `href` de dentro do elemento desejado, tentando acessá-lo através do elemento pai. Como abaixo:"
   ]
  },
  {
   "cell_type": "code",
   "execution_count": null,
   "metadata": {},
   "outputs": [
    {
     "name": "stdout",
     "output_type": "stream",
     "text": [
      "https://www.hashtagtreinamentos.com/curso-sql\n",
      "https://www.hashtagtreinamentos.com/curso-vba-excel\n",
      "https://www.hashtagtreinamentos.com/curso-powerpoint\n",
      "https://www.hashtagtreinamentos.com/todos-os-cursos-hashtag-treinamentos\n"
     ]
    }
   ],
   "source": [
    "links = navegador.find_element(By.XPATH, '//*[@id=\"menu-item-16313\"]/ul').find_elements(By.TAG_NAME, 'a')\n",
    "for link in links:\n",
    "    link_href = link.get_attribute('href')\n",
    "    print(link_href)"
   ]
  },
  {
   "cell_type": "markdown",
   "metadata": {},
   "source": [
    "Mas há formas de fazer isso mais direto. Através do ActionChains podemos fazer operações complexas de mouse, como clicar, mover o mouse e realizar um hoover."
   ]
  },
  {
   "cell_type": "code",
   "execution_count": null,
   "metadata": {},
   "outputs": [],
   "source": [
    "from selenium.webdriver import ActionChains\n",
    "\n",
    "menu = navegador.find_element(By.XPATH, '//*[@id=\"menu-item-dropdown-16313\"]')\n",
    "item = navegador.find_element(By.XPATH, '//*[@id=\"menu-item-17042\"]/a')\n",
    "\n",
    "# Colocar o mouse sobre o menu\n",
    "ActionChains(navegador).move_to_element(menu).perform()\n",
    "\n",
    "# Clicar no item\n",
    "item.click()"
   ]
  },
  {
   "cell_type": "markdown",
   "metadata": {},
   "source": [
    "---"
   ]
  },
  {
   "cell_type": "markdown",
   "metadata": {},
   "source": [
    "## Alertas com Selenium"
   ]
  },
  {
   "cell_type": "code",
   "execution_count": null,
   "metadata": {},
   "outputs": [],
   "source": [
    "# Script padrão para iniciar o navegador Chrome com o selenium e abrir a página web específica. \n",
    "from selenium import webdriver\n",
    "from selenium.webdriver.chrome.service import Service\n",
    "from selenium.webdriver.common.by import By\n",
    "from selenium.webdriver.common.keys import Keys\n",
    "from webdriver_manager.chrome import ChromeDriverManager\n",
    "import os\n",
    "\n",
    "service = Service(ChromeDriverManager().install())\n",
    "navegador = webdriver.Chrome(service=service)\n",
    "caminho_do_arquivo = os.path.join(os.getcwd(), 'alertas.html')\n",
    "navegador.get(caminho_do_arquivo)"
   ]
  },
  {
   "cell_type": "markdown",
   "metadata": {},
   "source": [
    "#### Alertas Básicos"
   ]
  },
  {
   "cell_type": "code",
   "execution_count": null,
   "metadata": {},
   "outputs": [],
   "source": [
    "# selecionar um alerta\n",
    "navegador.find_element(By.XPATH, '/html/body/div[1]/input').click()"
   ]
  },
  {
   "cell_type": "code",
   "execution_count": null,
   "metadata": {},
   "outputs": [],
   "source": [
    "# forma simples\n",
    "alerta = navegador.switch_to.alert\n",
    "\n",
    "# forma \"completa\"\n",
    "from selenium.webdriver.common.alert import Alert\n",
    "\n",
    "alerta_full = Alert(navegador)"
   ]
  },
  {
   "cell_type": "code",
   "execution_count": null,
   "metadata": {},
   "outputs": [],
   "source": [
    "alerta.accept()\n",
    "# ou\n",
    "alerta_full.accept()"
   ]
  },
  {
   "cell_type": "markdown",
   "metadata": {},
   "source": [
    "#### Alertas de Confirmação"
   ]
  },
  {
   "cell_type": "code",
   "execution_count": null,
   "metadata": {},
   "outputs": [],
   "source": [
    "# selecionar um alerta\n",
    "navegador.find_element(By.XPATH, '/html/body/div[2]/input').click()"
   ]
  },
  {
   "cell_type": "code",
   "execution_count": null,
   "metadata": {},
   "outputs": [],
   "source": [
    "alerta_full = Alert(navegador)\n",
    "\n",
    "# aceitar\n",
    "alerta_full.accept()\n",
    "\n",
    "# cancelar\n",
    "alerta_full.dismiss()\n"
   ]
  },
  {
   "cell_type": "markdown",
   "metadata": {},
   "source": [
    "#### Pegar o texto do alerta"
   ]
  },
  {
   "cell_type": "code",
   "execution_count": null,
   "metadata": {},
   "outputs": [
    {
     "name": "stdout",
     "output_type": "stream",
     "text": [
      "Texto do alerta: Quer confirmar a emissão da NF?\n"
     ]
    }
   ],
   "source": [
    "alerta_full = Alert(navegador)\n",
    "texto = alerta_full.text\n",
    "\n",
    "print(f'Texto do alerta: {texto}')"
   ]
  },
  {
   "cell_type": "markdown",
   "metadata": {},
   "source": [
    "#### Alertas de Input"
   ]
  },
  {
   "cell_type": "code",
   "execution_count": null,
   "metadata": {},
   "outputs": [],
   "source": [
    "navegador.find_element(By.XPATH, '/html/body/div[3]/button').click()"
   ]
  },
  {
   "cell_type": "code",
   "execution_count": null,
   "metadata": {},
   "outputs": [],
   "source": [
    "alerta = Alert(navegador)"
   ]
  },
  {
   "cell_type": "code",
   "execution_count": null,
   "metadata": {},
   "outputs": [],
   "source": [
    "alerta.send_keys('123456789')"
   ]
  },
  {
   "cell_type": "code",
   "execution_count": null,
   "metadata": {},
   "outputs": [],
   "source": [
    "alerta.accept()"
   ]
  },
  {
   "cell_type": "markdown",
   "metadata": {},
   "source": [
    "---\n"
   ]
  },
  {
   "cell_type": "markdown",
   "metadata": {},
   "source": [
    "## Novas abas e novas janelas\n"
   ]
  },
  {
   "cell_type": "code",
   "execution_count": null,
   "metadata": {},
   "outputs": [],
   "source": [
    "# Script padrão para iniciar o navegador Chrome com o selenium e abrir a página web específica. \n",
    "from selenium import webdriver\n",
    "from selenium.webdriver.chrome.service import Service\n",
    "from selenium.webdriver.common.by import By\n",
    "from selenium.webdriver.common.keys import Keys\n",
    "from webdriver_manager.chrome import ChromeDriverManager\n",
    "import os\n",
    "\n",
    "service = Service(ChromeDriverManager().install())\n",
    "navegador = webdriver.Chrome(service=service)\n",
    "caminho_do_arquivo = os.path.join(os.getcwd(), 'Pagina Hashtag.html')\n",
    "navegador.get(caminho_do_arquivo)"
   ]
  },
  {
   "cell_type": "code",
   "execution_count": null,
   "metadata": {},
   "outputs": [],
   "source": [
    "navegador.find_element(By.XPATH, '/html/body/section[2]/div/div[6]/figure/a').click()"
   ]
  },
  {
   "cell_type": "code",
   "execution_count": null,
   "metadata": {},
   "outputs": [],
   "source": [
    "navegador_original = navegador.window_handles[0]\n",
    "nova_aba = navegador.window_handles[1]\n",
    "\n",
    "navegador.switch_to.window(nova_aba)"
   ]
  },
  {
   "cell_type": "code",
   "execution_count": null,
   "metadata": {},
   "outputs": [],
   "source": [
    "navegador.find_element(By.ID, 'firstname').clear()\n",
    "navegador.find_element(By.ID, 'firstname').send_keys('John Doe')\n",
    "navegador.find_element(By.ID, 'email').send_keys('e-mail@example.com')"
   ]
  },
  {
   "cell_type": "code",
   "execution_count": null,
   "metadata": {},
   "outputs": [],
   "source": [
    "#Para voltar a aba original\n",
    "navegador.switch_to.window(navegador_original)\n",
    "navegador.find_element(By.XPATH, '/html/body/section[2]/div/div[4]/figure/a').click()"
   ]
  },
  {
   "cell_type": "code",
   "execution_count": null,
   "metadata": {},
   "outputs": [
    {
     "name": "stdout",
     "output_type": "stream",
     "text": [
      "Todos os Cursos Hashtag Treinamentos\n",
      "Curso Power BI Avançado | Projetos Reais e +80h de Conteúdo\n",
      "Curso de Excel Completo: Excel Impressionador\n",
      "3\n"
     ]
    }
   ],
   "source": [
    "## Ver os titulos de todas as abas\n",
    "for aba in navegador.window_handles:\n",
    "    navegador.switch_to.window(aba)\n",
    "    print(navegador.title)\n",
    "    \n",
    "\n"
   ]
  },
  {
   "cell_type": "code",
   "execution_count": null,
   "metadata": {},
   "outputs": [
    {
     "name": "stdout",
     "output_type": "stream",
     "text": [
      "4\n"
     ]
    }
   ],
   "source": [
    "# navegador.find_element(By.XPATH, '/html/body/section[2]/div/div[10]/figure/a').click()\n",
    "lista_abas = navegador.window_handles\n",
    "print(len(lista_abas))\n",
    "# aba_sql = lista_abas[4]\n",
    "# navegador.switch_to.window(aba_sql)\n",
    "\n",
    "# navegador.find_element(By.ID, 'firstname').send_keys('John Doe')\n",
    "# navegador.find_element(By.ID, 'email').send_keys('teste@example.com')\n",
    "# navegador.find_element(By.ID, 'phone').send_keys('+5555555555555')\n",
    "# navegador.close()\n",
    "\n",
    "navegador.switch_to.window(lista_abas[3])\n",
    "navegador.close()\n",
    "\n",
    "navegador.switch_to.window(lista_abas[2])\n",
    "navegador.close()\n",
    "\n",
    "navegador.switch_to.window(lista_abas[1])\n",
    "navegador.close()\n",
    "\n",
    "navegador.switch_to.window(lista_abas[0])\n",
    "navegador.close()\n"
   ]
  },
  {
   "cell_type": "markdown",
   "metadata": {},
   "source": [
    "---\n"
   ]
  },
  {
   "cell_type": "markdown",
   "metadata": {},
   "source": [
    "## Eperar carregar algum elemento na tela.\n",
    "Dependendo da página, pode ser necessário esperar um pouco para o elemento aparecer na tela. "
   ]
  },
  {
   "cell_type": "code",
   "execution_count": null,
   "metadata": {},
   "outputs": [],
   "source": [
    "# Script padrão para iniciar o navegador Chrome com o selenium e abrir a página web específica. \n",
    "from selenium import webdriver\n",
    "from selenium.webdriver.chrome.service import Service\n",
    "from selenium.webdriver.common.by import By\n",
    "from selenium.webdriver.common.keys import Keys\n",
    "from webdriver_manager.chrome import ChromeDriverManager\n",
    "import os\n",
    "\n",
    "service = Service(ChromeDriverManager().install())\n",
    "navegador = webdriver.Chrome(service=service)"
   ]
  },
  {
   "cell_type": "markdown",
   "metadata": {},
   "source": [
    "### Formas de esperar o elemento aparecer na tela:\n",
    "1. \"Na marra\": Utiliza a função time.sleep() do Python para esperar um tempo específico. Pior solução, pois o tempo de espera é fixo, ou seja, pode não ser o ideal e ainda depende da disponibilidade do site e da velocidade do navegador."
   ]
  },
  {
   "cell_type": "code",
   "execution_count": null,
   "metadata": {},
   "outputs": [],
   "source": [
    "import time\n",
    "\n",
    "navegador.get('https://www.hashtagtreinamentos.com/')\n",
    "time.sleep(15)\n",
    "navegador.find_element(By.XPATH, '//*[@id=\"elementor-popup-modal-13160\"]/div/a').click()"
   ]
  },
  {
   "cell_type": "markdown",
   "metadata": {},
   "source": [
    "2. \"Loop\": Utiliza um loop para tentar acessar um elemento até que ele apareça. É uma solução mais robusta e mais eficiente, ainda que não nativa do selenium, irá manter a manutenibilidade do código."
   ]
  },
  {
   "cell_type": "code",
   "execution_count": null,
   "metadata": {},
   "outputs": [],
   "source": [
    "navegador.get('https://www.hashtagtreinamentos.com/')\n",
    "lista_elementos_esperados =  navegador.find_elements(By.CLASS_NAME, 'dialog-close-button')\n",
    "print(len(lista_elementos_esperados))\n",
    "while len(lista_elementos_esperados) < 1:\n",
    "    time.sleep(1)\n",
    "    lista_elementos_esperados =  navegador.find_elements(By.CLASS_NAME, 'dialog-close-button')\n",
    "\n",
    "time.sleep(1)\n",
    "navegador.find_element(By.XPATH, '//*[@id=\"elementor-popup-modal-13160\"]/div/a').click()"
   ]
  },
  {
   "cell_type": "markdown",
   "metadata": {},
   "source": [
    "3. \"Wait\": Utiliza a função WebDriverWait do Selenium para esperar um determinado tempo e executar a ação desejada no elemento. É uma solução mais robusta e eficiente do que o time.sleep. Outra vantagem é que o WebDriverWait é mais fácil de usar e demais para lidar com exceptions e ao mesmo tempo que executa a ação desejada já atribuí o valor do elemento referenciado a variável declarada."
   ]
  },
  {
   "cell_type": "code",
   "execution_count": null,
   "metadata": {},
   "outputs": [],
   "source": [
    "from selenium.webdriver.support.ui import WebDriverWait\n",
    "from selenium.webdriver.support import expected_conditions as EC\n",
    "\n",
    "navegador.get('https://www.hashtagtreinamentos.com/')\n",
    "## Busca do elemento e aguarda até o elemento aparecer no limite de tempo de 20 segundos.\n",
    "elemento = WebDriverWait(navegador, 20).until(EC.presence_of_element_located((By.CLASS_NAME, 'eicon-close')))\n",
    "time.sleep(1)\n",
    "elemento.click()"
   ]
  },
  {
   "cell_type": "markdown",
   "metadata": {},
   "source": [
    "---"
   ]
  },
  {
   "cell_type": "markdown",
   "metadata": {},
   "source": [
    "## PrintScreen com Selenium\n",
    "\n",
    "É possível fazer um printscreen do navegador usando o Selenium. A vantagem de fazer isso com ele, é que não precisa de outro software externo, e pode continuar utilizando o computador enquanto a automação está rodando. "
   ]
  },
  {
   "cell_type": "code",
   "execution_count": null,
   "metadata": {},
   "outputs": [],
   "source": [
    "from selenium import webdriver\n",
    "from selenium.webdriver.chrome.service import Service\n",
    "from selenium.webdriver.common.by import By\n",
    "from selenium.webdriver.common.keys import Keys\n",
    "from webdriver_manager.chrome import ChromeDriverManager\n",
    "import os\n",
    "\n",
    "service = Service(ChromeDriverManager().install())\n",
    "navegador = webdriver.Chrome(service=service)\n",
    "caminho_do_arquivo = os.path.join(os.getcwd(), 'Pagina Hashtag.html')\n",
    "navegador.get(caminho_do_arquivo)\n",
    "navegador.maximize_window()"
   ]
  },
  {
   "cell_type": "markdown",
   "metadata": {},
   "source": [
    "### Tirando print da tela inteira\n",
    "Para tirar um printscreen da tela inteira do navegador é bem simples, use o método `save_screenshot()` do Selenium e escolha o caminho e o nome do arquivo. Se quiser salvar na mesma pasta em qua o programa está rodando, pode deixar só o nome do arquivo daí, com extensão. "
   ]
  },
  {
   "cell_type": "code",
   "execution_count": null,
   "metadata": {},
   "outputs": [
    {
     "data": {
      "text/plain": [
       "True"
      ]
     },
     "execution_count": 20,
     "metadata": {},
     "output_type": "execute_result"
    }
   ],
   "source": [
    "# Para fazer o printscreen inteiro do navegador, use:\n",
    "navegador.save_screenshot('print_screen_full2.png')\n",
    "# Onde pode-se mudar o caminho de salvamento do arquivo a vontade e o formado do arquivo e nome também. \n",
    "navegador.save_screenshot(r'C:\\Users\\albin\\Desktop\\print_teste.png')"
   ]
  },
  {
   "cell_type": "markdown",
   "metadata": {},
   "source": [
    "### Tirando print de parte da tela\n",
    "É um pouco mais complexo de fazer um printscreen de parte da tela. Precisaremos utilizar alguma biblioteca de imagem, como Pillow. Abaixo está um exemplo de como fazer:"
   ]
  },
  {
   "cell_type": "code",
   "execution_count": null,
   "metadata": {},
   "outputs": [
    {
     "name": "stdout",
     "output_type": "stream",
     "text": [
      "{'x': 0, 'y': 0} {'height': 113, 'width': 1903}\n"
     ]
    }
   ],
   "source": [
    "from PIL import Image\n",
    "\n",
    "imagem = Image.open('print_screen_full2.png')\n",
    "\n",
    "elemento = navegador.find_element(By.ID, 'header')\n",
    "posicao = elemento.location\n",
    "tamanho = elemento.size\n",
    "\n",
    "print(posicao, tamanho)\n",
    "\n",
    "x_inicial, y_inicial, x_final, y_final = posicao['x'], posicao['y'], (posicao['x'] + tamanho['width']), (posicao['y'] + tamanho['height'])\n",
    "\n",
    "imagem = imagem.crop((x_inicial, y_inicial, x_final, y_final)) # Lembre-se de substituir os valores para os pixels de corte.\n",
    "\n",
    "imagem.save('print_screen_parte.png')"
   ]
  },
  {
   "cell_type": "markdown",
   "metadata": {},
   "source": [
    "---"
   ]
  },
  {
   "cell_type": "markdown",
   "metadata": {},
   "source": [
    "## Gerenciar a tela do navegador"
   ]
  },
  {
   "cell_type": "markdown",
   "metadata": {},
   "source": [
    "### Maximizar a janela do navegador"
   ]
  },
  {
   "cell_type": "code",
   "execution_count": null,
   "metadata": {},
   "outputs": [],
   "source": [
    "from selenium import webdriver\n",
    "from selenium.webdriver.chrome.service import Service\n",
    "from selenium.webdriver.common.by import By\n",
    "from selenium.webdriver.common.keys import Keys\n",
    "from webdriver_manager.chrome import ChromeDriverManager\n",
    "import os\n",
    "\n",
    "service = Service(ChromeDriverManager().install())\n",
    "navegador = webdriver.Chrome(service=service)\n",
    "caminho_do_arquivo = os.path.join(os.getcwd(), 'Pagina Hashtag.html')\n",
    "navegador.get(caminho_do_arquivo)"
   ]
  },
  {
   "cell_type": "markdown",
   "metadata": {},
   "source": [
    "### Maximizar a janela do navegador\n",
    "Use abaixo do `navegador.get(caminho_do_arquivo)`"
   ]
  },
  {
   "cell_type": "code",
   "execution_count": null,
   "metadata": {},
   "outputs": [],
   "source": [
    "navegador.maximize_window()"
   ]
  },
  {
   "cell_type": "markdown",
   "metadata": {},
   "source": [
    "### Minimizar a janela do navegador\n",
    "Use abaixo do `navegador.get(caminho_do_arquivo)`"
   ]
  },
  {
   "cell_type": "code",
   "execution_count": null,
   "metadata": {},
   "outputs": [],
   "source": [
    "navegador.minimize_window()"
   ]
  },
  {
   "cell_type": "markdown",
   "metadata": {},
   "source": [
    "### Headless mode\n",
    "Modo em que o navegador não aparece no monitor, fica aberta para o código rodar em background, sem ser visível ao usuário.\n",
    "**OBS**: Atenção ao usar este modo, ele não tem nada de visual e o tempo de vida do navegador é bem menor. \n",
    "Então fazer TODO o código e testes sem modo Headless! E só utilizar quanto estiver concluído.\n",
    "Outro detalhe é que em algumas páginas, pode não funcionar corretamente no modo Headless."
   ]
  },
  {
   "cell_type": "code",
   "execution_count": null,
   "metadata": {},
   "outputs": [],
   "source": [
    "from selenium import webdriver\n",
    "from selenium.webdriver.chrome.service import Service\n",
    "from selenium.webdriver.common.by import By\n",
    "from selenium.webdriver.common.keys import Keys\n",
    "from webdriver_manager.chrome import ChromeDriverManager\n",
    "import os\n",
    "\n",
    "service = Service(ChromeDriverManager().install())\n",
    "# Alteração no código de inicialização do navegador para usar o modo Headless\n",
    "options = webdriver.ChromeOptions()\n",
    "options.add_argument('--headless')\n",
    "navegador = webdriver.Chrome(service=service, options=options)\n",
    "# Normal o restante.\n",
    "caminho_do_arquivo = os.path.join(os.getcwd(), 'Pagina Hashtag.html')\n",
    "navegador.get(caminho_do_arquivo)\n",
    "\n",
    "navegador.quit()\n"
   ]
  },
  {
   "cell_type": "markdown",
   "metadata": {},
   "source": [
    "---"
   ]
  },
  {
   "cell_type": "markdown",
   "metadata": {},
   "source": [
    "## Abrir o navegador com cookies (utilizando um perfil do navegador já logado):"
   ]
  },
  {
   "cell_type": "markdown",
   "metadata": {},
   "source": [
    "### Alterações no código de inicialização:\n",
    "Para usar o selenium com configurações do navegador já logado, é necessário usar um perfil do navegador. Pode-se criar um novo perfil e usar esse para inicializar o navegador com o selenium exclusivamente, e logar no que é necessário neste navegador. Esse é o recomendado. \n",
    "\n",
    "Para isso temos que usar o options do webdriver do Chrome para usar o perfil. Veja abaixo o código de inicialização do navegador."
   ]
  },
  {
   "cell_type": "code",
   "execution_count": 1,
   "metadata": {},
   "outputs": [],
   "source": [
    "from selenium import webdriver\n",
    "from selenium.webdriver.chrome.service import Service\n",
    "from selenium.webdriver.common.by import By\n",
    "from selenium.webdriver.common.keys import Keys\n",
    "from webdriver_manager.chrome import ChromeDriverManager\n",
    "\n",
    "\n",
    "service = Service(ChromeDriverManager().install())\n",
    "# Alteração no código de inicialização do navegador para usar o modo Headless\n",
    "options = webdriver.ChromeOptions()\n",
    "options.add_argument(r'--user-data-dir=C:\\Users\\albin\\AppData\\Local\\Google\\Chrome\\User Data\\Selenium')\n",
    "navegador = webdriver.Chrome(service=service, options=options)\n",
    "# Normal o restante.\n",
    "navegador.get('https://account.hackthebox.com')\n",
    "\n"
   ]
  },
  {
   "cell_type": "markdown",
   "metadata": {},
   "source": [
    "---\n"
   ]
  },
  {
   "cell_type": "markdown",
   "metadata": {},
   "source": [
    "## Executar Comandos Javascript (como por exemplo o Scroll da tela)\n",
    "\n",
    "- Você consegue, por meio do Selenium, executar comandos javascript no seu navegador\n",
    "\n",
    "- Isso é essencial para dar scroll na tela, por exemplo, caso seja necessário, como no youtube"
   ]
  },
  {
   "cell_type": "markdown",
   "metadata": {},
   "source": [
    "Exemplo: Queremos pegar uma lista de pelo menos 50 vídeos de Python no Youtube."
   ]
  },
  {
   "cell_type": "code",
   "execution_count": 1,
   "metadata": {},
   "outputs": [],
   "source": [
    "from selenium import webdriver\n",
    "from selenium.webdriver.chrome.service import Service\n",
    "from selenium.webdriver.common.by import By\n",
    "from selenium.webdriver.common.keys import Keys\n",
    "from webdriver_manager.chrome import ChromeDriverManager\n",
    "import time\n",
    "\n",
    "service = Service(ChromeDriverManager().install())\n",
    "# Alteração no código de inicialização do navegador para usar o modo Headless\n",
    "options = webdriver.ChromeOptions()\n",
    "options.add_argument(r'--user-data-dir=C:\\Users\\albin\\AppData\\Local\\Google\\Chrome\\User Data\\Selenium')\n",
    "navegador = webdriver.Chrome(service=service, options=options)\n",
    "# Normal o restante.\n",
    "navegador.get('https://www.youtube.com/results?search_query=Python')\n",
    "navegador.maximize_window()"
   ]
  },
  {
   "cell_type": "code",
   "execution_count": null,
   "metadata": {},
   "outputs": [],
   "source": [
    "# scroll na tela com JavaScript\n",
    "\n",
    "for i in range(2):\n",
    "    qtde_scroll = i * 2000\n",
    "    navegador.execute_script(f'window.scrollTo(0, {qtde_scroll})')\n",
    "    time.sleep(2)\n",
    "\n",
    "lista_videos = navegador.find_elements(By.ID, 'thumbnail')\n",
    "\n",
    "for video in lista_videos:\n",
    "    print(video.get_attribute('href')) if video.get_attribute('href') != None else None\n",
    "\n",
    "navegador.execute_script('window.alert(\"Concluido!\")')\t"
   ]
  },
  {
   "cell_type": "markdown",
   "metadata": {},
   "source": [
    "A função do selenium (`execute_script`) é usada para executar scripts JavaScript no navegador. Extremamente útil para poder realizar diversas automações, mas ainda mais útil para realizar automações para pentest com vulnerabilidades XSS e afins. "
   ]
  },
  {
   "cell_type": "markdown",
   "metadata": {},
   "source": [
    "---"
   ]
  },
  {
   "cell_type": "markdown",
   "metadata": {},
   "source": [
    "## iFrames\n",
    "\n",
    "- Às vezes, você vai fazer tudo certo no Selenium e aparentemente não vai funcionar o seu código\n",
    "- Possivelmente o elemento que você está tentando selecionar está dentro de um iframe\n",
    "O iFrame é um elemento HTML que contém outro documento, que é carregado em uma janela separada, mas ainda dentro da página, o que, na prática, para você acessar o elemento do iFrame, teria que acessar essa outra página. "
   ]
  },
  {
   "cell_type": "code",
   "execution_count": 9,
   "metadata": {},
   "outputs": [],
   "source": [
    "# Queremos pegar o pontos por jogo mandante da 1ª linha da tabela\n",
    "from selenium import webdriver\n",
    "from selenium.webdriver.chrome.service import Service\n",
    "from selenium.webdriver.common.by import By\n",
    "from selenium.webdriver.common.keys import Keys\n",
    "from webdriver_manager.chrome import ChromeDriverManager\n",
    "import time\n",
    "\n",
    "link = \"https://pbdatatrader.com.br/jogosdodia\"\n",
    "\n",
    "service = Service(ChromeDriverManager().install())\n",
    "# Alteração no código de inicialização do navegador para usar o modo Headless\n",
    "options = webdriver.ChromeOptions()\n",
    "options.add_argument(r'--user-data-dir=C:\\Users\\albin\\AppData\\Local\\Google\\Chrome\\User Data\\Selenium')\n",
    "navegador = webdriver.Chrome(service=service, options=options)\n",
    "# Normal o restante.\n",
    "navegador.get(link)\n",
    "# navegador.maximize_window()\n",
    "time.sleep(10)\n",
    "\n",
    "iframe1 = navegador.find_element(By.TAG_NAME, 'iframe')\n",
    "navegador.switch_to.frame(iframe1)\n",
    "iframe2 = navegador.find_element(By.TAG_NAME, 'iframe')\n",
    "navegador.switch_to.frame(iframe2)"
   ]
  },
  {
   "cell_type": "code",
   "execution_count": 12,
   "metadata": {},
   "outputs": [
    {
     "data": {
      "text/plain": [
       "'1,31'"
      ]
     },
     "execution_count": 12,
     "metadata": {},
     "output_type": "execute_result"
    }
   ],
   "source": [
    "pontos_por_jogo_mandante_xpath_1 = '//*[@id=\"pvExplorationHost\"]/div/div/exploration/div/explore-canvas/div/div[2]/div/div[2]/div[2]/visual-container-repeat/visual-container[19]/transform/div/div[3]/div/div/visual-modern/div/div/div[2]/div[1]/div[2]/div/div[1]/div/div/div[8]'\n",
    "navegador.find_element(By.XPATH, pontos_por_jogo_mandante_xpath_1).text"
   ]
  },
  {
   "cell_type": "markdown",
   "metadata": {},
   "source": [
    "Para podermos então selecionar elementos dentro de um iframe, precisamos estar no iframe, podemos fazer isso usando o `switch_to.frame(iframe)` se houver mais de um iframe na página, atentar-se para ter que ir para o correto, mesmo que esteja um dentro do outro, como no exemplo acima. "
   ]
  },
  {
   "cell_type": "markdown",
   "metadata": {},
   "source": [
    "---"
   ]
  },
  {
   "cell_type": "markdown",
   "metadata": {},
   "source": [
    "## Como burlar qualquer Captcha\n"
   ]
  },
  {
   "cell_type": "markdown",
   "metadata": {},
   "source": []
  },
  {
   "cell_type": "code",
   "execution_count": 18,
   "metadata": {},
   "outputs": [],
   "source": [
    "from selenium import webdriver\n",
    "from selenium.webdriver.chrome.service import Service\n",
    "from selenium.webdriver.common.by import By\n",
    "from selenium.webdriver.common.keys import Keys\n",
    "from webdriver_manager.chrome import ChromeDriverManager\n",
    "from anticaptchaofficial.recaptchav2proxyless import *\n",
    "import time\n",
    "from dotenv import load_dotenv\n",
    "import os\n",
    "\n",
    "load_dotenv()\n",
    "\n",
    "my_key = os.getenv('API_KEY')\n",
    "\n",
    "link = \"https://google.com/recaptcha/api2/demo\"\n",
    "\n",
    "service = Service(ChromeDriverManager().install())\n",
    "options = webdriver.ChromeOptions()\n",
    "options.add_argument(r'--user-data-dir=C:\\Users\\albin\\AppData\\Local\\Google\\Chrome\\User Data\\Selenium')\n",
    "navegador = webdriver.Chrome(service=service, options=options)\n",
    "navegador.get(link)\n",
    "time.sleep(10)\n",
    "# navegador.maximize_window()"
   ]
  },
  {
   "cell_type": "code",
   "execution_count": 23,
   "metadata": {},
   "outputs": [
    {
     "name": "stdout",
     "output_type": "stream",
     "text": [
      "6Le-wvkSAAAAAPBMRTvw0Q4Muexq9bi0DJwx_mJ-\n",
      "making request to createTask\n",
      "could not create task\n",
      "API error ERROR_ZERO_BALANCE: Account has zero or negative balance\n",
      "task finished with error ERROR_ZERO_BALANCE\n"
     ]
    }
   ],
   "source": [
    "data_site_key = navegador.find_element(By.ID, 'recaptcha-demo').get_attribute('data-sitekey')\n",
    "print(data_site_key)\n",
    "\n",
    "solver = recaptchaV2Proxyless()\n",
    "solver.set_verbose(1)\n",
    "solver.set_key(my_key)\n",
    "solver.set_website_url(link)\n",
    "solver.set_website_key(data_site_key)\n",
    "\n",
    "g_response = solver.solve_and_return_solution()\n",
    "if g_response != 0:\n",
    "    print(\"g-response: \"+g_response)\n",
    "    navegador.execute_script(f'document.getElementById(\"g-recaptcha-response\").innerHTML = \"{g_response}\"')\n",
    "    navegador.find_element(By.ID, 'recaptcha-demo-submit').click()\n",
    "else:\n",
    "    print(\"task finished with error \"+solver.error_code)\n",
    "    navegador.execute_script(f'document.getElementById(\"g-recaptcha-response\").innerHTML = \"{g_response}\"')\n",
    "    # navegador.find_element(By.ID, 'recaptcha-demo-submit').click()"
   ]
  }
 ],
 "metadata": {
  "kernelspec": {
   "display_name": ".venv",
   "language": "python",
   "name": "python3"
  },
  "language_info": {
   "codemirror_mode": {
    "name": "ipython",
    "version": 3
   },
   "file_extension": ".py",
   "mimetype": "text/x-python",
   "name": "python",
   "nbconvert_exporter": "python",
   "pygments_lexer": "ipython3",
   "version": "3.12.5"
  }
 },
 "nbformat": 4,
 "nbformat_minor": 2
}
