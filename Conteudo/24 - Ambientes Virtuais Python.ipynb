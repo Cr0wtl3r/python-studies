{
 "cells": [
  {
   "cell_type": "markdown",
   "metadata": {},
   "source": [
    "## Ambientes Virtuais no Python\n",
    "\n",
    "### Essencialmente usamos o virtualenv, mas o anaconda tem um método próprio para isso\n",
    "\n",
    "### Objetivo: Ter outras versões do Python instalados no computador com 2 objetivos:\n",
    "    \n",
    "    1. Usar ferramentas que funcionam apenas com versões específicas do Python\n",
    "    2. Isolar de todo o resto tudo aquilo que é estritamente necessário para o programa rodar. Importante para sites e programas que vão ser distribuídos\n",
    "    \n",
    "### Observação Importante:\n",
    "\n",
    "Quando você cria um ambiente virtual, ele vem praticamente sem nada, então você precisa usar o pip ou o conda para instalar cada pacote que for usar"
   ]
  },
  {
   "cell_type": "markdown",
   "metadata": {},
   "source": [
    "### Comandos importantes do cmd:\n",
    "\n",
    "- Windows:"
   ]
  },
  {
   "cell_type": "markdown",
   "metadata": {},
   "source": [
    "cd Pasta -> navega até aquela pasta <br>\n",
    "cd .. -> volta para a pasta anterior <br>\n",
    "dir -> lista os arquivos contidos na pasta <br>"
   ]
  },
  {
   "cell_type": "markdown",
   "metadata": {},
   "source": [
    "### Comandos do Anaconda para Ambiente Virtual:\n",
    "\n",
    "Link com Detalhes: https://docs.conda.io/projects/conda/en/latest/user-guide/tasks/manage-environments.html\n",
    "\n",
    "- Criar ambiente virtual:\n",
    "  \n",
    "        conda create -n meuambientevirtual"
   ]
  },
  {
   "cell_type": "markdown",
   "metadata": {},
   "source": [
    "- Criar ambiente virtual com versão específica do Python\n",
    "\n",
    "        conda create -n meuambientevirtual python=3.6"
   ]
  },
  {
   "cell_type": "markdown",
   "metadata": {},
   "source": [
    "- Remover ambiente virtual\n",
    "\n",
    "        conda remove --name meuambientevirtual --all"
   ]
  },
  {
   "cell_type": "markdown",
   "metadata": {},
   "source": [
    "- Ativar Ambiente Virtual\n",
    "\n",
    "        conda activate meuambientevirtual"
   ]
  },
  {
   "cell_type": "markdown",
   "metadata": {},
   "source": [
    "- Desativar ambiente virtual\n",
    "\n",
    "        conda deactivate"
   ]
  },
  {
   "cell_type": "markdown",
   "metadata": {},
   "source": [
    "## Python Venv para criar um ambiente virtual\n",
    "\n",
    "#### Link com Detalhes: https://docs.python.org/3/library/venv.html\n",
    "\n",
    "Ambientes virtuais em Python são ferramentas que permitem criar ambientes isolados para projetos, cada um com suas próprias dependências, bibliotecas e versões do Python. Essa prática é essencial para manter a consistência e evitar conflitos entre as dependências de diferentes projetos, especialmente quando múltiplas versões de bibliotecas são necessárias.\n",
    "\n",
    "### Por que usar ambientes virtuais?\n",
    "1. **Isolamento de Dependências**: Cada projeto pode ter suas próprias dependências sem interferir nas configurações globais do sistema ou em outros projetos.\n",
    "\n",
    "2. **Versões de Pacotes**: Diferentes projetos podem exigir diferentes versões das mesmas bibliotecas. Um ambiente virtual permite que cada projeto use a versão correta sem causar conflitos.\n",
    "\n",
    "3. **Reprodutibilidade**: Facilita a reprodução de ambientes de desenvolvimento e produção, garantindo que um projeto funcione da mesma forma em diferentes máquinas.\n",
    "\n",
    "4. **Organização**: Ajuda a manter o ambiente de desenvolvimento limpo e organizado, sem a necessidade de instalar pacotes globalmente."
   ]
  },
  {
   "cell_type": "markdown",
   "metadata": {},
   "source": [
    "\n",
    "### Criando um ambiente virtual com `venv`\n",
    "A partir do Python 3.3, o módulo `venv` está incluído na distribuição padrão do Python.\n",
    "\n",
    "### Passo a passo:\n",
    "* #### Criar um ambiente virtual:\n",
    "\n",
    "        python -m venv nome_do_ambiente\n",
    "\n",
    "Isso criará uma pasta chamada `nome_do_ambiente` que conterá os arquivos do ambiente virtual. Por padrão, é utilizado o nome venv ou .venv (Pra mim preferencial o .venv).\n",
    "\n",
    "* #### Ativar o ambiente virtual:\n",
    "  * **Windows**:\n",
    "\n",
    "                nome_do_ambiente\\Scripts\\activate.bat\n",
    "\n",
    "  * **Linux/macOS**:\n",
    "\n",
    "                source nome_do_ambiente/bin/activate\n",
    "\n",
    "Após a ativação, o prompt de comando indicará que você está no ambiente virtual com o nome entre parenteses normalmente.\n",
    "\n",
    "* #### Instalar pacotes no ambiente virtual:\n",
    "Agora, todos os pacotes que você instalar usando `pip` serão isolados nesse ambiente.\n",
    "\n",
    "        pip install nome_do_pacote\n",
    "\n",
    "* #### Desativar o ambiente virtual:\n",
    "Para desativar o ambiente virtual e retornar ao ambiente global, use:\n",
    "\n",
    "        deactivate\n",
    "\n",
    "\n"
   ]
  },
  {
   "cell_type": "markdown",
   "metadata": {},
   "source": [
    "### Conclusão\n",
    "Os ambientes virtuais são ferramentas cruciais para qualquer desenvolvedor Python, especialmente ao trabalhar em múltiplos projetos. Eles garantem que as dependências sejam gerenciadas de forma eficiente e evitam conflitos entre pacotes, mantendo seus projetos organizados e funcionando corretamente em diferentes ambientes de desenvolvimento e produção."
   ]
  }
 ],
 "metadata": {
  "kernelspec": {
   "display_name": ".venv",
   "language": "python",
   "name": "python3"
  },
  "language_info": {
   "codemirror_mode": {
    "name": "ipython",
    "version": 3
   },
   "file_extension": ".py",
   "mimetype": "text/x-python",
   "name": "python",
   "nbconvert_exporter": "python",
   "pygments_lexer": "ipython3",
   "version": "3.12.5"
  }
 },
 "nbformat": 4,
 "nbformat_minor": 2
}
