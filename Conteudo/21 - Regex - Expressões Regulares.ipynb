{
 "cells": [
  {
   "cell_type": "markdown",
   "metadata": {},
   "source": [
    "# Regex - Expressões Regulares"
   ]
  },
  {
   "cell_type": "markdown",
   "metadata": {},
   "source": [
    "Expressões Regulares (ou Regex) são uma ferramenta poderosa para realizar buscas e manipulações em strings com base em padrões textuais. Em Python, o módulo `re` fornece as funcionalidades para trabalhar com Regex."
   ]
  },
  {
   "cell_type": "markdown",
   "metadata": {},
   "source": [
    "## Introdução às Expressões Regulares\n",
    "\n",
    "Regex é uma sequência de caracteres que define um padrão de busca. Esse padrão pode ser usado para identificar partes de uma string, validar formatos de dados, substituir conteúdo, entre outras operações.\n",
    "\n",
    "Importando o Módulo `re`\n",
    "Antes de utilizar Regex, você precisa importar o módulo `re`:\n",
    "\n",
    "    import re\n",
    "\n",
    "### Componentes Básicos de Regex\n",
    "Aqui estão alguns dos elementos mais comuns usados em expressões regulares:\n",
    "\n",
    "#### Metacaracteres:\n",
    "\n",
    "* `.` : Corresponde a qualquer caractere, exceto uma nova linha (\\n).\n",
    "* `^` : Inicia com o padrão.\n",
    "* `$` : Termina com o padrão.\n",
    "* `[]` : Indica uma classe de caracteres.\n",
    "* `\\` : Usado para escapar metacaracteres.\n",
    "* `|` : Ou (or).\n",
    "* `()` : Agrupamento.\n",
    "* `*` : Zero ou mais repetições.\n",
    "* `+` : Uma ou mais repetições.\n",
    "* `?` : Zero ou uma repetição.\n",
    "* `{n}` : Exatamente n repetições.\n",
    "* `{n,m}` : Entre n e m repetições.\n",
    "\n",
    "#### Classes de Caracteres:\n",
    "\n",
    "* `\\d` : Qualquer dígito (equivalente a [0-9]).\n",
    "* `\\D` : Qualquer caractere que não seja um dígito.\n",
    "* `\\w` : Qualquer caractere alfanumérico (equivalente a [a-zA-Z0-9_]).\n",
    "* `\\W` : Qualquer caractere que não seja alfanumérico.\n",
    "* `\\s` : Qualquer espaço em branco (espaço, tab, nova linha).\n",
    "* `\\S` : Qualquer caractere que não seja espaço em branco."
   ]
  },
  {
   "cell_type": "markdown",
   "metadata": {},
   "source": [
    "## Operações Básicas com Regex"
   ]
  },
  {
   "cell_type": "markdown",
   "metadata": {},
   "source": [
    "### 1. Buscar Padrões:\n",
    "* `re.search()`: Procura pelo padrão em qualquer lugar da string."
   ]
  },
  {
   "cell_type": "code",
   "execution_count": 1,
   "metadata": {},
   "outputs": [
    {
     "name": "stdout",
     "output_type": "stream",
     "text": [
      "Found: 2024\n"
     ]
    }
   ],
   "source": [
    "import re\n",
    "\n",
    "pattern = r'\\d{4}'\n",
    "text = \"The year is 2024.\"\n",
    "\n",
    "match = re.search(pattern, text)\n",
    "if match:\n",
    "    print(f\"Found: {match.group()}\")  # Output: Found: 2024\n"
   ]
  },
  {
   "cell_type": "markdown",
   "metadata": {},
   "source": [
    "* `re.match()`: Procura pelo padrão apenas no início da string."
   ]
  },
  {
   "cell_type": "code",
   "execution_count": 2,
   "metadata": {},
   "outputs": [
    {
     "name": "stdout",
     "output_type": "stream",
     "text": [
      "Match at start: The\n"
     ]
    }
   ],
   "source": [
    "pattern = r'The'\n",
    "text = \"The year is 2024.\"\n",
    "\n",
    "match = re.match(pattern, text)\n",
    "if match:\n",
    "    print(f\"Match at start: {match.group()}\")  # Output: Match at start: The"
   ]
  },
  {
   "cell_type": "markdown",
   "metadata": {},
   "source": [
    "* `re.findall()`: Retorna todas as ocorrências do padrão na string."
   ]
  },
  {
   "cell_type": "code",
   "execution_count": 3,
   "metadata": {},
   "outputs": [
    {
     "name": "stdout",
     "output_type": "stream",
     "text": [
      "['2022', '2023', '2024']\n"
     ]
    }
   ],
   "source": [
    "\n",
    "pattern = r'\\d+'\n",
    "text = \"The years are 2022, 2023, and 2024.\"\n",
    "\n",
    "matches = re.findall(pattern, text)\n",
    "print(matches)  # Output: ['2022', '2023', '2024']"
   ]
  },
  {
   "cell_type": "markdown",
   "metadata": {},
   "source": [
    "### 2. Substituir Texto:\n",
    "* `re.sub()`: Substitui todas as ocorrências de um padrão por outro texto."
   ]
  },
  {
   "cell_type": "code",
   "execution_count": 4,
   "metadata": {},
   "outputs": [
    {
     "name": "stdout",
     "output_type": "stream",
     "text": [
      "The year is XXXX.\n"
     ]
    }
   ],
   "source": [
    "pattern = r'\\d{4}'\n",
    "text = \"The year is 2024.\"\n",
    "\n",
    "new_text = re.sub(pattern, 'XXXX', text)\n",
    "print(new_text)  # Output: The year is XXXX."
   ]
  },
  {
   "cell_type": "markdown",
   "metadata": {},
   "source": [
    "### 3. Dividir Strings:\n",
    "* `re.split()`: Divide uma string com base no padrão especificado."
   ]
  },
  {
   "cell_type": "code",
   "execution_count": 5,
   "metadata": {},
   "outputs": [
    {
     "name": "stdout",
     "output_type": "stream",
     "text": [
      "['This', 'is', 'a', 'test.']\n"
     ]
    }
   ],
   "source": [
    "\n",
    "pattern = r'\\s+'\n",
    "text = \"This is a test.\"\n",
    "\n",
    "split_text = re.split(pattern, text)\n",
    "print(split_text)  # Output: ['This', 'is', 'a', 'test.']"
   ]
  },
  {
   "cell_type": "markdown",
   "metadata": {},
   "source": [
    "## Avançando com Regex"
   ]
  },
  {
   "cell_type": "markdown",
   "metadata": {},
   "source": [
    "\n",
    "### 1. Grupos e Referências\n",
    "Grupos permitem capturar partes específicas de uma correspondência. Isso é útil quando você deseja extrair ou reutilizar partes da string."
   ]
  },
  {
   "cell_type": "code",
   "execution_count": 6,
   "metadata": {},
   "outputs": [
    {
     "name": "stdout",
     "output_type": "stream",
     "text": [
      "Area Code: 123\n"
     ]
    }
   ],
   "source": [
    "\n",
    "pattern = r'(\\d{3})-(\\d{3})-(\\d{4})'\n",
    "text = \"Phone number: 123-456-7890\"\n",
    "\n",
    "match = re.search(pattern, text)\n",
    "if match:\n",
    "    area_code = match.group(1)\n",
    "    print(f\"Area Code: {area_code}\")  # Output: Area Code: 123"
   ]
  },
  {
   "cell_type": "markdown",
   "metadata": {},
   "source": [
    "Você pode também referenciar grupos durante a substituição:"
   ]
  },
  {
   "cell_type": "code",
   "execution_count": 7,
   "metadata": {},
   "outputs": [
    {
     "name": "stdout",
     "output_type": "stream",
     "text": [
      "Phone number: 123-456-####\n"
     ]
    }
   ],
   "source": [
    "pattern = r'(\\d{3})-(\\d{3})-(\\d{4})'\n",
    "text = \"Phone number: 123-456-7890\"\n",
    "\n",
    "new_text = re.sub(pattern, r'\\1-\\2-####', text)\n",
    "print(new_text)  # Output: Phone number: 123-456-####"
   ]
  },
  {
   "cell_type": "markdown",
   "metadata": {},
   "source": [
    "### 2. Lookahead e Lookbehind\n",
    "Lookahead e Lookbehind permitem que você procure padrões que são precedidos ou seguidos por outro padrão sem incluir esses padrões na correspondência.\n",
    "\n",
    "* Lookahead (`(?=...)`): Verifica se o padrão seguinte corresponde."
   ]
  },
  {
   "cell_type": "code",
   "execution_count": 8,
   "metadata": {},
   "outputs": [
    {
     "name": "stdout",
     "output_type": "stream",
     "text": [
      "Matched value: 100\n"
     ]
    }
   ],
   "source": [
    "pattern = r'\\d+(?= dollars)'\n",
    "text = \"He paid 100 dollars and 200 euros.\"\n",
    "\n",
    "match = re.search(pattern, text)\n",
    "if match:\n",
    "    print(f\"Matched value: {match.group()}\")  # Output: Matched value: 100"
   ]
  },
  {
   "cell_type": "markdown",
   "metadata": {},
   "source": [
    "\n",
    "* Lookbehind (`(?<=...)`): Verifica se o padrão anterior corresponde."
   ]
  },
  {
   "cell_type": "code",
   "execution_count": 9,
   "metadata": {},
   "outputs": [
    {
     "name": "stdout",
     "output_type": "stream",
     "text": [
      "Matched value: 100\n"
     ]
    }
   ],
   "source": [
    "pattern = r'(?<=\\$)\\d+'\n",
    "text = \"He paid $100.\"\n",
    "\n",
    "match = re.search(pattern, text)\n",
    "if match:\n",
    "    print(f\"Matched value: {match.group()}\")  # Output: Matched value: 100"
   ]
  },
  {
   "cell_type": "markdown",
   "metadata": {},
   "source": [
    "\n",
    "## Dicas e Boas Práticas\n",
    "**Use `r''` (raw strings) para definir suas expressões regulares**: Isso evita que o Python interprete caracteres de escape dentro da string.\n",
    "\n",
    "**Teste suas Regex online**: Ferramentas como [regex101.com](https://regex101.com/) são ótimas para visualizar como suas expressões regulares estão funcionando.\n",
    "\n",
    "**Comente Regex Complexas**: Expressões regulares podem ser difíceis de ler. Utilize comentários quando possível."
   ]
  },
  {
   "cell_type": "code",
   "execution_count": 10,
   "metadata": {},
   "outputs": [
    {
     "name": "stdout",
     "output_type": "stream",
     "text": [
      "('55', '9', '9999', '9999')\n"
     ]
    }
   ],
   "source": [
    "import re\n",
    "\n",
    "pattern = re.compile(r\"\"\"\n",
    "    (\\d{2})    # Captura os primeiros 3 dígitos\n",
    "    -          # Hífen\n",
    "    (\\d{1})    # Captura os próximos 2 dígitos\n",
    "    -          # Outro hífen\n",
    "    (\\d{4})\n",
    "    -          # Outro hífen\n",
    "    (\\d{4})    # Captura os últimos 4 dígitos\n",
    "    \"\"\", re.VERBOSE)\n",
    "\n",
    "text = \"55-9-9999-9999\"\n",
    "match = pattern.search(text)\n",
    "if match:\n",
    "    print(match.groups())  # Output: ('123', '45', '6789')\n"
   ]
  },
  {
   "cell_type": "markdown",
   "metadata": {},
   "source": [
    "## Conclusão\n",
    "Expressões Regulares são ferramentas extremamente poderosas e flexíveis para manipulação de strings em Python. Com elas, é possível realizar desde tarefas simples, como validação de emails, até tarefas complexas, como extração de dados de logs e textos. A prática constante é a melhor forma de dominar Regex, além de fazer uso de recursos e ferramentas que facilitam sua criação e compreensão."
   ]
  },
  {
   "cell_type": "markdown",
   "metadata": {},
   "source": [
    "# REGEX"
   ]
  },
  {
   "cell_type": "markdown",
   "metadata": {},
   "source": [
    "### Operadores:\n",
    "* `[]` - Conjunto de caracteres;\n",
    "* `\\` - Sequência especial de caracteres;\n",
    "* `^` - Buscar elementos no início da String;\n",
    "* `$` - Buscar elementos no final da String;\n",
    "* `*` Buscar zero ou mais repetições de uma String;\n",
    "* `+` - Uma ou mais aparições de uma String;\n",
    "* `?` - Zero ou uma aparição;\n",
    "* `|` - Busca um caractere ou outro;\n",
    "* `{}` - Quantidade específica de caracteres;\n",
    "* `[^]` - Diferente de um caractere especificado logo após o `^`\n",
    "* `()` - Apenas para agrupar regras e definir ordem de aplicação (igual matemática)"
   ]
  },
  {
   "cell_type": "markdown",
   "metadata": {},
   "source": [
    "### Especificando Caracteres:\n",
    "* `.`: Qualquer caractere\n",
    "* `\\d` : Qualquer dígito (equivalente a [0-9]).\n",
    "* `\\D` : Qualquer caractere que não seja um dígito.\n",
    "* `\\w` : Qualquer caractere alfanumérico (equivalente a [a-zA-Z0-9_]).\n",
    "* `\\W` : Qualquer caractere que não seja alfanumérico.\n",
    "* `\\s` : Qualquer espaço em branco (espaço, tab, nova linha).\n",
    "* `\\S` : Qualquer caractere que não seja espaço em branco.\n",
    "\n",
    "**OBS: Lembre de usar a string como ra string (`r'string aqui dentro'`)**"
   ]
  },
  {
   "cell_type": "markdown",
   "metadata": {},
   "source": [
    "## Funções\n",
    "### Lembre de importar a biblioteca `re`\n",
    "* `re.compile('padrão_regex')` -> Compilar uma padrão Regex\n",
    "* `re.search(padrão_compilado, texto)` -> procura uma ocorrência do padrão no texto (re.match só procura na 1ª linha do texto)\n",
    "* `re.findall(padrão_compilado, texto)` -> encontra todas as ocorrências do padrão em um texto - armazena em uma lista\n",
    "* `re.finditer(padrão_compilado, texto)` -> encontra todas as ocorrências e armazena em um iterador"
   ]
  },
  {
   "cell_type": "code",
   "execution_count": 11,
   "metadata": {},
   "outputs": [],
   "source": [
    "texto = \"\"\"\n",
    "Bom dia,\n",
    "\n",
    "Seguem os orçamentos solicitados:\n",
    "\n",
    "\n",
    "Cerveja importada (330 ml) - R$12,30598615178 - bebida\n",
    "Cerveja nacional (0,5 litros) - R$6,10 - bebida\n",
    "Garrafa de vinho (750ml) - R$39,90 - bebida\n",
    "Água (garrafa de 1,5 litros) - R$3,30 - bebida\n",
    "Alface (1 unidade) - R$3,50 - comida\n",
    "Cebolas (1kg) - R$5,10 - comida\n",
    "Batatas (1 kg) - R$5,20 - comida\n",
    "Tomates (1 kg) - R$7,90 - comida\n",
    "Laranjas (1 kg) - R$4,70 - comida\n",
    "Bananas (1kg) - R$5,50 - comida\n",
    "Maçãs (1 kg) - R$8,30 - comida\n",
    "Queijo fresco (1 kg) - R$42,90 - comida\n",
    "Uma dúzia de ovos(12) - R$9,80 - comida\n",
    "Arroz (1 kg) - R$5,70 - comida\n",
    "Um quilo de pão (1 kg) - R$7,20 - comida\n",
    "Leite (1 litro) - R$5,20 - bebida\n",
    "Azeite (1 unidade) - R$20 - tempero\n",
    "Pimenta Reino (20g) - R$5 - tempero\n",
    "\n",
    "\n",
    "Favor informar as quantidades desejadas\n",
    "para emissão da Nota Fiscal.\n",
    "\n",
    "Att.,\"\"\""
   ]
  },
  {
   "cell_type": "markdown",
   "metadata": {},
   "source": [
    "### Método Compile\n",
    "O método `compile()` serve para passar para o Python qual o padrão estamos procurando. Qual será o padrão desejado. "
   ]
  },
  {
   "cell_type": "code",
   "execution_count": 12,
   "metadata": {},
   "outputs": [],
   "source": [
    "padrao = re.compile(\"comida\")"
   ]
  },
  {
   "cell_type": "markdown",
   "metadata": {},
   "source": [
    "### Método Findall\n",
    "O método `findall()` serve para percorrer a string passada a procurar todas as ocorrências do padrão passado nela e retornar uma lista com essas ocorrêcias. "
   ]
  },
  {
   "cell_type": "code",
   "execution_count": 13,
   "metadata": {},
   "outputs": [
    {
     "name": "stdout",
     "output_type": "stream",
     "text": [
      "11\n"
     ]
    }
   ],
   "source": [
    "padrao_comida = re.compile(\"comida\")\n",
    "#Buscando comiga\n",
    "resultado_comida = re.findall(padrao_comida,texto)\n",
    "print(len(resultado_comida))"
   ]
  },
  {
   "cell_type": "markdown",
   "metadata": {},
   "source": [
    "### Método Search\n",
    "O método `search()` serve para identificar em quail posição o elemento foi encontrado a primeira vez, bem como identificar o tipo (que normalmente será retornado como um objeto) e qual o padrão usado para pesquisar."
   ]
  },
  {
   "cell_type": "code",
   "execution_count": 14,
   "metadata": {},
   "outputs": [
    {
     "name": "stdout",
     "output_type": "stream",
     "text": [
      "<re.Match object; span=(271, 277), match='comida'>\n"
     ]
    }
   ],
   "source": [
    "padrao = re.compile(\"comida\")\n",
    "resultado = re.search(padrao,texto)\n",
    "print(resultado)"
   ]
  },
  {
   "cell_type": "markdown",
   "metadata": {},
   "source": [
    "### Método Finditer\n",
    "O método `finditer()` serve para retornar um objeto iterável que permite percorrê-los em um loop for, onde nos será retornado o objeto com as mesmas informações do `search()`. Como uma junção do `findall()` + `search()`.\n"
   ]
  },
  {
   "cell_type": "code",
   "execution_count": 15,
   "metadata": {},
   "outputs": [
    {
     "name": "stdout",
     "output_type": "stream",
     "text": [
      "<callable_iterator object at 0x000002433C2A08B0>\n",
      "<re.Match object; span=(271, 277), match='comida'>\n",
      "<re.Match object; span=(303, 309), match='comida'>\n",
      "<re.Match object; span=(336, 342), match='comida'>\n",
      "<re.Match object; span=(369, 375), match='comida'>\n",
      "<re.Match object; span=(403, 409), match='comida'>\n",
      "<re.Match object; span=(435, 441), match='comida'>\n",
      "<re.Match object; span=(466, 472), match='comida'>\n",
      "<re.Match object; span=(506, 512), match='comida'>\n",
      "<re.Match object; span=(546, 552), match='comida'>\n",
      "<re.Match object; span=(577, 583), match='comida'>\n",
      "<re.Match object; span=(618, 624), match='comida'>\n"
     ]
    }
   ],
   "source": [
    "padrao_comida = re.compile(\"comida\")\n",
    "#Buscando comiga\n",
    "resultado_comida = re.finditer(padrao_comida,texto)\n",
    "print(resultado_comida)\n",
    "\n",
    "for item in resultado_comida:\n",
    "    print(item)"
   ]
  },
  {
   "cell_type": "markdown",
   "metadata": {},
   "source": [
    "### Ex: Quantos itens"
   ]
  },
  {
   "cell_type": "code",
   "execution_count": 16,
   "metadata": {},
   "outputs": [
    {
     "name": "stdout",
     "output_type": "stream",
     "text": [
      "11\n",
      "11\n"
     ]
    }
   ],
   "source": [
    "import re\n",
    "\n",
    "\n",
    "padrao_comida = re.compile(\"comida\")\n",
    "#Buscando comiga\n",
    "resultado_comida = re.findall(padrao_comida,texto)\n",
    "print(len(resultado_comida))\n",
    "\n",
    "# Definindo o padrão Regex sobre as bebidas\n",
    "padrao_bebida = re.compile(\"comida\")\n",
    "# Bucando bebida\n",
    "resultado_bebida = re.findall(padrao_bebida,texto)\n",
    "print(len(resultado_bebida))"
   ]
  },
  {
   "cell_type": "markdown",
   "metadata": {},
   "source": [
    "**Obs: Sempre que for procurar algum caractere que está nas listas acima, deve-se usar uma \"Contra-barra\" antes do caractere (e se possível, usar a raw string).**"
   ]
  },
  {
   "cell_type": "code",
   "execution_count": 17,
   "metadata": {},
   "outputs": [
    {
     "name": "stdout",
     "output_type": "stream",
     "text": [
      "['$', '$', '$', '$', '$', '$', '$', '$', '$', '$', '$', '$', '$', '$', '$', '$', '$', '$']\n",
      "18\n"
     ]
    }
   ],
   "source": [
    "padrao = re.compile(r\"\\$\")\n",
    "resultado = re.findall(padrao, texto)\n",
    "print(resultado)\n",
    "print(len(resultado))"
   ]
  },
  {
   "cell_type": "markdown",
   "metadata": {},
   "source": [
    "#### Ex: Extrair números"
   ]
  },
  {
   "cell_type": "code",
   "execution_count": 18,
   "metadata": {},
   "outputs": [
    {
     "name": "stdout",
     "output_type": "stream",
     "text": [
      "['330', '12,30598615178', '0,5', '6,10', '750', '39,90', '1,5', '3,30', '1', '3,50', '1', '5,10', '1', '5,20', '1', '7,90', '1', '4,70', '1', '5,50', '1', '8,30', '1', '42,90', '12', '9,80', '1', '5,70', '1', '7,20', '1', '5,20', '1', '20', '20', '5']\n"
     ]
    }
   ],
   "source": [
    "pattern = re.compile(r\"\\d+,?\\d*\")\n",
    "resultado = re.findall(pattern,texto)\n",
    "print(resultado)"
   ]
  },
  {
   "cell_type": "code",
   "execution_count": 19,
   "metadata": {},
   "outputs": [
    {
     "name": "stdout",
     "output_type": "stream",
     "text": [
      "['Nome', 'Idade', 'Salario']\n",
      "['Nome', 'Albino', 'Idade', 'Salario']\n"
     ]
    }
   ],
   "source": [
    "texto2 = \"Nome: Albino Idade: 27 Salario: 1500\"\n",
    "padrao = re.compile(r\"(\\w+):\")\n",
    "padrao2 = re.compile(r\"[a-zA-Z]+\")\n",
    "resultado = re.findall(padrao, texto2)\n",
    "resultado2 = re.findall(padrao2, texto2)\n",
    "print(resultado)\n",
    "print(resultado2)"
   ]
  },
  {
   "cell_type": "markdown",
   "metadata": {},
   "source": [
    "#### Ex: Extrair quantos ml (do 1º item)"
   ]
  },
  {
   "cell_type": "code",
   "execution_count": 20,
   "metadata": {},
   "outputs": [
    {
     "name": "stdout",
     "output_type": "stream",
     "text": [
      "<re.Match object; span=(65, 73), match='(330 ml)'>\n"
     ]
    }
   ],
   "source": [
    "# padrao = re.compile(r\"(\\d+,?\\d*)\\s?ml\") ## Para filstrar todos os itens que tem ml\n",
    "# padrao = re.compile(r\"(\\d+,?\\d*)\\s?ml\")\n",
    "# padrao = re.compile(r'\\(.+\\)')\n",
    "padrao = re.compile(r'\\(\\d+\\s?\\w+\\)')\n",
    "resultado = re.search(padrao, texto)\n",
    "print(resultado)"
   ]
  },
  {
   "cell_type": "markdown",
   "metadata": {},
   "source": [
    "#### Ex: Preço do 1º item"
   ]
  },
  {
   "cell_type": "code",
   "execution_count": 21,
   "metadata": {},
   "outputs": [
    {
     "name": "stdout",
     "output_type": "stream",
     "text": [
      "R$12,30598615178\n"
     ]
    }
   ],
   "source": [
    "padrao = re.compile(r'R\\$\\d+,?\\d*')\n",
    "resultado = re.search(padrao, texto)\n",
    "print(resultado.group(0))  # type: ignore"
   ]
  },
  {
   "cell_type": "markdown",
   "metadata": {},
   "source": [
    "#### Ex: Todos os preços"
   ]
  },
  {
   "cell_type": "code",
   "execution_count": 22,
   "metadata": {},
   "outputs": [
    {
     "name": "stdout",
     "output_type": "stream",
     "text": [
      "['R$12,30', 'R$6,10', 'R$39,90', 'R$3,30', 'R$3,50', 'R$5,10', 'R$5,20', 'R$7,90', 'R$4,70', 'R$5,50', 'R$8,30', 'R$42,90', 'R$9,80', 'R$5,70', 'R$7,20', 'R$5,20', 'R$20', 'R$5']\n"
     ]
    }
   ],
   "source": [
    "padrao = re.compile(r'R\\$\\s?\\d+,?\\d{0,2}')\n",
    "resultado = re.findall(padrao, texto)\n",
    "print(resultado)"
   ]
  },
  {
   "cell_type": "code",
   "execution_count": 23,
   "metadata": {},
   "outputs": [],
   "source": [
    "texto = \"\"\"\n",
    "Bom dia,\n",
    "\n",
    "Seguem os orçamentos solicitados:\n",
    "\n",
    "\n",
    "Cerveja importada (330 ml) - R$12,30598615178 - bebida\n",
    "Cerveja nacional (0,5 litros) - R$6,10 - bebida\n",
    "Garrafa de vinho (750ml) - R$39,90 - bebida\n",
    "Água (garrafa de 1,5 litros) - R$3,30 - bebida\n",
    "Alface (1 unidade) - R$3,50 - comida\n",
    "Cebolas (1kg) - R$5,10 - comida\n",
    "Batatas (1 kg) - R$5,20 - comida\n",
    "Tomates (1 kg) - R$7,90 - comida\n",
    "Laranjas (1 kg) - R$4,70 - comida\n",
    "Bananas (1kg) - R$5,50 - comida\n",
    "Maçãs (1 kg) - R$8,30 - comida\n",
    "Queijo fresco (1 kg) - R$42,90 - comida\n",
    "Uma dúzia de ovos(12) - R$9,80 - comida\n",
    "Arroz (1 kg) - R$5,70 - comida\n",
    "Um quilo de pão (1 kg) - R$7,20 - comida\n",
    "Leite (1 litro) - R$5,20 - bebida\n",
    "Azeite (1 unidade) - R$20 - tempero\n",
    "Pimenta Reino (20g) - R$5 - tempero\n",
    "\n",
    "\n",
    "Favor informar as quantidades desejadas\n",
    "para emissão da Nota Fiscal.\n",
    "\n",
    "Att.,\"\"\""
   ]
  },
  {
   "cell_type": "markdown",
   "metadata": {},
   "source": [
    "#### Ex: Quantidades dos itens"
   ]
  },
  {
   "cell_type": "code",
   "execution_count": 24,
   "metadata": {},
   "outputs": [
    {
     "name": "stdout",
     "output_type": "stream",
     "text": [
      "['330 ml', '0,5 litros', '750ml', '1,5 litros', '1 unidade', '1kg', '1 kg', '1 kg', '1 kg', '1kg', '1 kg', '1 kg', '12', '1 kg', '1 kg', '1 litro', '1 unidade', '20g']\n"
     ]
    }
   ],
   "source": [
    "padrao = re.compile(r\"\"\"\\([a-zA-Z ]*(.+)\\)\"\"\")\n",
    "resultado = re.findall(padrao, texto)\n",
    "print(resultado)"
   ]
  },
  {
   "cell_type": "markdown",
   "metadata": {},
   "source": [
    "#### Ex: Links"
   ]
  },
  {
   "cell_type": "code",
   "execution_count": 25,
   "metadata": {},
   "outputs": [],
   "source": [
    "texto2 = \"\"\"\n",
    "Olá\n",
    "\n",
    "Segue o relatório de SEO para os seguintes sites:\n",
    "https://portalhashtag.com\n",
    "http://hashtagtreinamentos.com\n",
    "https://www.wikipedia.org/\n",
    "www.bcb.gov.br/\n",
    "gmail.co\n",
    "\n",
    "Qualquer dúvida estamos à disposição\"\"\""
   ]
  },
  {
   "cell_type": "code",
   "execution_count": 26,
   "metadata": {},
   "outputs": [
    {
     "name": "stdout",
     "output_type": "stream",
     "text": [
      "[('https://portalhashtag.com', 'https://', '', 'com'), ('http://hashtagtreinamentos.com', 'http://', '', 'com'), ('https://www.wikipedia.org', 'https://', 'www.', 'org'), ('www.bcb.gov.br', '', 'www.', 'gov.br')] \n",
      "\n",
      "https://portalhashtag.com\n",
      "http://hashtagtreinamentos.com\n",
      "https://www.wikipedia.org\n",
      "www.bcb.gov.br\n"
     ]
    }
   ],
   "source": [
    "padrao = re.compile(r\"((https?://)?(www\\.)?\\w+\\.(com\\.br|com|org|gov\\.br))\")\n",
    "resultado1 = re.findall(padrao, texto2)\n",
    "resultado2 = re.finditer(padrao, texto2)\n",
    "print(f'{resultado1} \\n')\n",
    "for item in resultado2:\n",
    "    print(item.group(0))"
   ]
  },
  {
   "cell_type": "code",
   "execution_count": 27,
   "metadata": {},
   "outputs": [],
   "source": [
    "informacoes = [\n",
    "    \"http://hashtagtreinamentos.com\", \n",
    "    \"https://vimeo.com/\",\n",
    "    \"https://youtube.com/\",\n",
    "    \"Pesquisar no Google: http://google.com\",\n",
    "    \"http://wikipedia.org\",\n",
    "    \"http://google.com\",\n",
    "    \"http://bcb.gov.br/\",\n",
    "    \"Pesquisar no Bing\",\n",
    "]"
   ]
  },
  {
   "cell_type": "markdown",
   "metadata": {},
   "source": [
    "- ^ – buscar elementos no início da string;"
   ]
  },
  {
   "cell_type": "code",
   "execution_count": 28,
   "metadata": {},
   "outputs": [
    {
     "name": "stdout",
     "output_type": "stream",
     "text": [
      "[['http'], ['http'], ['http'], [], ['http'], ['http'], ['http'], []]\n"
     ]
    }
   ],
   "source": [
    "padrao = re.compile(r\"^http\")\n",
    "resultado = [re.findall(padrao, item) for item in informacoes]\n",
    "\n",
    "print(resultado)\n"
   ]
  },
  {
   "cell_type": "markdown",
   "metadata": {},
   "source": [
    "- $ – buscar elementos no final da string;"
   ]
  },
  {
   "cell_type": "code",
   "execution_count": 29,
   "metadata": {},
   "outputs": [
    {
     "name": "stdout",
     "output_type": "stream",
     "text": [
      "[['.com'], ['.com/'], ['.com/'], ['.com'], [], ['.com'], [], []]\n"
     ]
    }
   ],
   "source": [
    "padrao = re.compile(r\".com/?$\")\n",
    "resultado = [re.findall(padrao, item) for item in informacoes]\n",
    "\n",
    "print(resultado)"
   ]
  },
  {
   "cell_type": "markdown",
   "metadata": {},
   "source": [
    "- [^] - diferente de um caractere especificado logo após o ^"
   ]
  },
  {
   "cell_type": "code",
   "execution_count": 30,
   "metadata": {},
   "outputs": [
    {
     "name": "stdout",
     "output_type": "stream",
     "text": [
      "[['http://hashtagtreinamentos.com'], ['https://vimeo.com/'], ['https://youtube.com/'], ['http://google.com'], ['http://wikipedia.org'], ['http://google.com'], [], []]\n"
     ]
    }
   ],
   "source": [
    "padrao = re.compile(r\"http[a-z:/]+\\.[^g].+\")\n",
    "resultado = [re.findall(padrao, item) for item in informacoes]\n",
    "\n",
    "print(resultado)"
   ]
  }
 ],
 "metadata": {
  "kernelspec": {
   "display_name": ".venv",
   "language": "python",
   "name": "python3"
  },
  "language_info": {
   "codemirror_mode": {
    "name": "ipython",
    "version": 3
   },
   "file_extension": ".py",
   "mimetype": "text/x-python",
   "name": "python",
   "nbconvert_exporter": "python",
   "pygments_lexer": "ipython3",
   "version": "3.12.5"
  }
 },
 "nbformat": 4,
 "nbformat_minor": 2
}
