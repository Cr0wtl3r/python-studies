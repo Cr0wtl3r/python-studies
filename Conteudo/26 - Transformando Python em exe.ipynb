{
 "cells": [
  {
   "cell_type": "markdown",
   "metadata": {},
   "source": [
    "## Transformando Códigos em Python para Executáveis\n",
    "\n",
    "Transformar um código Python em um executável é um passo importante quando você deseja distribuir seu software para usuários finais que não possuem o interpretador Python instalado em suas máquinas. Existem várias ferramentas para fazer isso, cada uma com suas próprias características, vantagens e desvantagens.\n",
    "\n",
    "### Ferramentas Principais\n",
    "\n",
    "#### 1. **PyInstaller**\n",
    "**Funcionalidade**:\n",
    "- O PyInstaller é uma das ferramentas mais populares para transformar scripts Python em executáveis. Ele suporta várias plataformas, como Windows, macOS e Linux.\n",
    "  \n",
    "**Desempenho**:\n",
    "- O desempenho do executável gerado pelo PyInstaller é geralmente bom. Ele embala o interpretador Python e as bibliotecas necessárias, o que pode resultar em um tamanho de arquivo relativamente grande.\n",
    "\n",
    "**Uso**:\n",
    "- O PyInstaller oferece suporte a uma ampla gama de bibliotecas, incluindo aquelas que utilizam extensões C. Ele pode criar um único executável (`--onefile`) ou uma pasta com todos os arquivos necessários (`--onedir`).\n",
    "\n",
    "**Exemplo de Criação**:\n",
    "```bash\n",
    "pyinstaller --onefile --name MeuPrograma meu_script.py\n",
    "```\n",
    "O comando acima cria um executável chamado `MeuPrograma` a partir de `meu_script.py`.\n",
    "\n",
    "#### 2. **Nuitka**\n",
    "**Funcionalidade**:\n",
    "- Nuitka é um compilador que transforma código Python em código C/C++ antes de criar o executável. Ele gera executáveis otimizados que podem oferecer melhor desempenho em comparação com outras ferramentas.\n",
    "\n",
    "**Desempenho**:\n",
    "- Por compilar o código em C/C++, os executáveis gerados pelo Nuitka geralmente têm melhor desempenho. No entanto, o tempo de compilação pode ser maior, e o processo pode ser mais complexo.\n",
    "\n",
    "**Uso**:\n",
    "- Nuitka é ideal para aplicações que exigem alto desempenho. Ele pode ser usado para criar executáveis no Windows, macOS e Linux.\n",
    "\n",
    "**Exemplo de Criação**:\n",
    "```bash\n",
    "nuitka --standalone --mingw64 --output-dir=dist meu_script.py\n",
    "```\n",
    "Esse comando compila `meu_script.py` em um executável standalone, utilizando o compilador MinGW no Windows.\n",
    "\n",
    "#### 3. **Py2exe**\n",
    "**Funcionalidade**:\n",
    "- Py2exe é uma ferramenta específica para Windows que converte scripts Python em executáveis.\n",
    "\n",
    "**Desempenho**:\n",
    "- Embora simples de usar, o Py2exe está limitado ao Windows e, em alguns casos, pode não oferecer o mesmo nível de suporte a bibliotecas complexas como o PyInstaller.\n",
    "\n",
    "**Uso**:\n",
    "- Py2exe é ideal para scripts simples que precisam ser distribuídos como executáveis para usuários do Windows.\n",
    "\n",
    "**Exemplo de Criação**:\n",
    "- Primeiro, crie um arquivo `setup.py` com o seguinte conteúdo:\n",
    "```python\n",
    "from distutils.core import setup\n",
    "import py2exe\n",
    "\n",
    "setup(console=['meu_script.py'])\n",
    "```\n",
    "- Em seguida, execute:\n",
    "```bash\n",
    "python setup.py py2exe\n",
    "```\n",
    "Isso gerará um executável a partir de `meu_script.py`.\n",
    "\n",
    "#### 4. **cx_Freeze**\n",
    "**Funcionalidade**:\n",
    "- cx_Freeze é outra ferramenta que suporta a criação de executáveis em múltiplas plataformas (Windows, macOS, Linux). Ela permite que você crie tanto executáveis quanto pacotes de instalação.\n",
    "\n",
    "**Desempenho**:\n",
    "- O desempenho dos executáveis criados pelo cx_Freeze é comparável ao do PyInstaller. É uma opção sólida, especialmente para aplicações multi-plataforma.\n",
    "\n",
    "**Uso**:\n",
    "- cx_Freeze é uma escolha flexível e poderosa para desenvolvedores que precisam de suporte multiplataforma e integração com sistemas de construção mais complexos.\n",
    "\n",
    "**Exemplo de Criação**:\n",
    "- Crie um arquivo `setup.py`:\n",
    "```python\n",
    "import sys\n",
    "from cx_Freeze import setup, Executable\n",
    "\n",
    "setup(\n",
    "    name=\"MeuPrograma\",\n",
    "    version=\"0.1\",\n",
    "    description=\"Minha aplicação em Python\",\n",
    "    executables=[Executable(\"meu_script.py\", base=None)],\n",
    ")\n",
    "```\n",
    "- Execute o seguinte comando:\n",
    "```bash\n",
    "python setup.py build\n",
    "```\n",
    "O comando acima cria um executável a partir de `meu_script.py`.\n",
    "\n",
    "---\n",
    "\n",
    "### Considerações Finais\n",
    "\n",
    "Escolher a ferramenta certa depende das necessidades específicas do seu projeto:\n",
    "\n",
    "- **PyInstaller** é a melhor escolha para a maioria dos projetos devido à sua simplicidade e suporte amplo.\n",
    "- **Nuitka** é ideal se o desempenho for uma prioridade.\n",
    "- **Py2exe** é útil para projetos simples no Windows.\n",
    "- **cx_Freeze** é uma alternativa sólida se você precisa de uma solução multi-plataforma.\n",
    "\n",
    "Cada uma dessas ferramentas oferece diferentes níveis de controle e complexidade no processo de criação de executáveis, então experimente a que melhor se adapta às suas necessidades e ambiente de desenvolvimento."
   ]
  },
  {
   "cell_type": "markdown",
   "metadata": {},
   "source": [
    "# Transformando Códigos em Python para Executáveis\n",
    "\n",
    "### Objetivo:\n",
    "\n",
    "Os arquivos do jupyter que temos até aqui no curso são scripts que podemos usar para rodar códigos e fazer diversas tarefas.\n",
    "\n",
    "Mas, algumas vezes, não seremos nós que iremos rodar os códigos e também não necessariamente o computador que vai executar o código necessariamente tem python instalado.\n",
    "\n",
    "Por isso, podemos transformar esses códigos em arquivos .exe (executáveis que funcionam em qualquer computador).\n",
    "\n",
    "### Cuidados\n",
    "\n",
    "Para códigos simples, basta fazermos a conversão de python para executável, mas em muitos códigos, temos que pensar se precisamos fazer alguma adaptação.\n",
    "\n",
    "Ex: Se o nosso código abre algum arquivo do nosso computador, temos que tornar essa ação de abrir o arquivo algo que funcione em qualquer computador.\n",
    "\n",
    "Sempre precisamos olhar o código e pensar: ele funcionaria em qualquer computador? Tem alguma coisa aqui nele que impede de funcionar no computador de outro pessoa? Se necessário, fazemos as adaptações. Vamos aprender como.\n",
    "\n",
    "### Funcionamento:\n",
    "\n",
    "- Passo 1 - Seu código deve estar funcionando sem erros no jupyter\n",
    "\n",
    "- Passo 2 - Transformar o código jupyter em scripts python padrão (extensão .py). Seu código deve estar funcionando nesse formato também.\n",
    "\n",
    "- Passo 3 - Usar uma biblioteca de conversão (pyinstaller ou auto-py-to-exe) para transformar o código em executável.\n",
    "\n",
    "- Passo 4 - Testar e adaptar o que for necessário."
   ]
  },
  {
   "cell_type": "markdown",
   "metadata": {},
   "source": [
    "# Python para exe com códigos simples\n",
    "\n",
    "### Códigos que não interagem com outros arquivos ou ferramentas do computador\n",
    "\n",
    "Usaremos a biblioteca pyinstaller\n",
    "\n",
    "- Passo 1 - Instalar o pyinstaller\n",
    "\n",
    "- Passo 2 - Executar o pyinstaller\n",
    "\n",
    "pyinstaller -w nome_do_programa.py"
   ]
  },
  {
   "cell_type": "code",
   "execution_count": null,
   "metadata": {},
   "outputs": [],
   "source": [
    "import pyautogui as pg\n",
    "\n",
    "pg.PAUSE = 0.7\n",
    "\n",
    "pg.press('win')\n",
    "pg.write('notepad')\n",
    "pg.press('Enter')\n",
    "pg.write('Teste de executavel funcional')\n"
   ]
  },
  {
   "cell_type": "markdown",
   "metadata": {},
   "source": [
    "### Atenção no resultado\n",
    "\n",
    "Repare que o programa final vai ficar extremamente pesado.\n",
    "\n",
    "Isso porque o pyinstaller vai incluir todas as bibliotecas que temos instaladas no programa final, para garantir que ele vai funcionar.\n",
    "\n",
    "Para evitar isso, precisaremos criar um ambiente virtual exclusivo para esse programa, vamos ver na prática como funciona na próxima aula"
   ]
  },
  {
   "cell_type": "markdown",
   "metadata": {},
   "source": [
    "### Observações Úteis\n",
    "\n",
    "- Se o nome do seu arquivo .py tiver mais de uma palavra, na hora de testar, coloque o nome dele entre aspas duplas.<br>Ex:  python \"Gabarito - SMS.py\"\n",
    "- Se o seu antivírus verificar o pyinstaller, não precisa se preocupar, é normal e tá tudo certo\n",
    "- Provavelmente a 1ª vez que você rodar o seu programa, o antivírus vai verificar ele também\n",
    "- A pasta dist é o que pode ser distribuído. Você pode compactar ela em um zip e mandar para quem você quiser"
   ]
  },
  {
   "cell_type": "markdown",
   "metadata": {},
   "source": [
    "OBS: Para deixar o executável e a pasta (caso não crie o executável como onefile) menor, o ideal é utilizar um ambiente virtual para a instalação dos pacotes necessários. Como o venv."
   ]
  },
  {
   "cell_type": "markdown",
   "metadata": {},
   "source": [
    "---"
   ]
  },
  {
   "cell_type": "markdown",
   "metadata": {},
   "source": [
    "# Python para executável em programas mais complexos\n",
    "\n",
    "### Objetivo:\n",
    "\n",
    "Muitas vezes nossos códigos puxam informações de outros arquivos ou, no caso de webscraping, usam outros arquivos como o chromedriver.exe para funcionar.\n",
    "\n",
    "Nesses casos, precisamos não só tomar alguns cuidados, mas também adaptar o nosso código para funcionar.\n",
    "\n",
    "### O que usaremos:\n",
    "\n",
    "- auto-py-to-exe para transformar o arquivo python em executável\n",
    "- pathlib ou os para adaptar todos os \"caminhos dos arquivos\"\n",
    "- Alternativamente, podemos usar o tkinter para permitir a gente escolher manualmente o arquivo, independente do computador que vamos rodar o programa\n",
    "\n",
    "Vamos ver como isso funciona na prática\n",
    "\n",
    "- Referências Úteis:\n",
    "    1. https://dev.to/eshleron/how-to-convert-py-to-exe-step-by-step-guide-3cfi\n",
    "    2. https://pypi.org/project/auto-py-to-exe/"
   ]
  },
  {
   "cell_type": "markdown",
   "metadata": {},
   "source": [
    "### Vamos rodar com um exemplo que temos na hashtag. Como pegar os links de vídeos do youtube\n",
    "\n"
   ]
  },
  {
   "cell_type": "markdown",
   "metadata": {},
   "source": [
    "### Importações"
   ]
  },
  {
   "cell_type": "code",
   "execution_count": 11,
   "metadata": {},
   "outputs": [],
   "source": [
    "#importar bibliotecas\n",
    "import time, urllib\n",
    "from IPython.display import display\n",
    "from selenium import webdriver \n",
    "import pandas as pd \n",
    "import numpy as np\n",
    "from selenium.webdriver.common.by import By \n",
    "from selenium.webdriver.support.ui import WebDriverWait \n",
    "from selenium.webdriver.support import expected_conditions as EC\n",
    "from selenium.webdriver.common.keys import Keys\n",
    "from selenium.common.exceptions import StaleElementReferenceException\n",
    "from tkinter import *\n",
    "import tkinter.filedialog\n",
    "from tkinter import messagebox"
   ]
  },
  {
   "cell_type": "markdown",
   "metadata": {},
   "source": [
    "### Pegando o arquivo em Excel do nosso computador "
   ]
  },
  {
   "cell_type": "code",
   "execution_count": 12,
   "metadata": {},
   "outputs": [
    {
     "data": {
      "text/html": [
       "<div>\n",
       "<style scoped>\n",
       "    .dataframe tbody tr th:only-of-type {\n",
       "        vertical-align: middle;\n",
       "    }\n",
       "\n",
       "    .dataframe tbody tr th {\n",
       "        vertical-align: top;\n",
       "    }\n",
       "\n",
       "    .dataframe thead th {\n",
       "        text-align: right;\n",
       "    }\n",
       "</style>\n",
       "<table border=\"1\" class=\"dataframe\">\n",
       "  <thead>\n",
       "    <tr style=\"text-align: right;\">\n",
       "      <th></th>\n",
       "      <th>ÿCanais</th>\n",
       "    </tr>\n",
       "  </thead>\n",
       "  <tbody>\n",
       "    <tr>\n",
       "      <th>0</th>\n",
       "      <td>https://www.youtube.com/channel/UCw0leRmeaX7R_...</td>\n",
       "    </tr>\n",
       "    <tr>\n",
       "      <th>1</th>\n",
       "      <td>https://www.youtube.com/user/ninjadoexcel</td>\n",
       "    </tr>\n",
       "  </tbody>\n",
       "</table>\n",
       "</div>"
      ],
      "text/plain": [
       "                                             ÿCanais\n",
       "0  https://www.youtube.com/channel/UCw0leRmeaX7R_...\n",
       "1          https://www.youtube.com/user/ninjadoexcel"
      ]
     },
     "metadata": {},
     "output_type": "display_data"
    }
   ],
   "source": [
    "root= tkinter.Tk()\n",
    "arquivo = tkinter.filedialog.askopenfilename(title = \"Selecione o Arquivo csv com Canais e Keywords\")\n",
    "root.destroy()\n",
    "\n",
    "buscas_df = pd.read_csv(arquivo, encoding = 'ISO-8859-1', sep=';')\n",
    "display(buscas_df.head())"
   ]
  },
  {
   "cell_type": "markdown",
   "metadata": {},
   "source": [
    "### Pegandos os links no youtube "
   ]
  },
  {
   "cell_type": "code",
   "execution_count": 15,
   "metadata": {},
   "outputs": [
    {
     "name": "stdout",
     "output_type": "stream",
     "text": [
      "Pegamos 3963 vídeos do Canal https://www.youtube.com/channel/UCw0leRmeaX7R_9BDd3TvCzg\n",
      "Pegamos 15 vídeos do Canal https://www.youtube.com/user/ninjadoexcel\n"
     ]
    }
   ],
   "source": [
    "buscas_canais = buscas_df['ÿCanais'].unique()\n",
    "# ler videos de todas as buscas\n",
    "driver = webdriver.Chrome() \n",
    "\n",
    "hrefs = []\n",
    "delay = 5\n",
    " \n",
    "# pegando os itens dos canais\n",
    "for canal in buscas_canais:\n",
    "    if canal is np.nan:\n",
    "        break\n",
    "    hrefs.append(canal)\n",
    "    driver.get(canal)\n",
    "    myElem = WebDriverWait(driver, delay).until(EC.presence_of_element_located((By.CLASS_NAME, 'yt-tab-shape-wiz__tab')))\n",
    "    time.sleep(2)\n",
    "    tab = driver.find_elements(By.CLASS_NAME, 'yt-tab-shape-wiz__tab')[1].click()\n",
    "    time.sleep(2)\n",
    "    altura = 0\n",
    "    nova_altura = 1\n",
    "    while nova_altura > altura:\n",
    "            altura = driver.execute_script(\"return document.documentElement.scrollHeight\")\n",
    "            driver.execute_script(\"window.scrollTo(0, \" + str(altura) + \");\")\n",
    "            time.sleep(3)\n",
    "            nova_altura = driver.execute_script(\"return document.documentElement.scrollHeight\")\n",
    "    videos = driver.find_elements(By.ID, 'thumbnail')\n",
    "    try:\n",
    "        for video in videos:\n",
    "            meu_link = video.get_attribute('href')\n",
    "            if meu_link:\n",
    "                if not 'googleadservices' in meu_link: \n",
    "                    hrefs.append(meu_link)\n",
    "    except StaleElementReferenceException:\n",
    "        time.sleep(2)\n",
    "        videos = driver.find_elements(By.ID, 'thumbnail')\n",
    "        for video in videos:\n",
    "            meu_link = video.get_attribute('href')\n",
    "            if meu_link:\n",
    "                if not 'googleadservices' in meu_link: \n",
    "                    hrefs.append(meu_link)\n",
    "    print('Pegamos {} vídeos do Canal {}'.format(len(videos), canal))\n",
    "\n",
    "driver.quit()"
   ]
  },
  {
   "cell_type": "markdown",
   "metadata": {},
   "source": [
    "### Gerando arquivo final "
   ]
  },
  {
   "cell_type": "code",
   "execution_count": 16,
   "metadata": {},
   "outputs": [],
   "source": [
    "#salvando o resultado em um csv\n",
    "hrefs_df = pd.DataFrame(hrefs)\n",
    "hrefs_df.to_csv(r'Canais Prontos.csv', sep=',', encoding='utf-8')\n",
    "root= tkinter.Tk()\n",
    "messagebox.showinfo(\"Programa Finalizado com Sucesso\", \"Seu arquivo csv foi gerado com sucesso na pasta do Programa\")\n",
    "root.destroy()"
   ]
  }
 ],
 "metadata": {
  "kernelspec": {
   "display_name": ".venv",
   "language": "python",
   "name": "python3"
  },
  "language_info": {
   "codemirror_mode": {
    "name": "ipython",
    "version": 3
   },
   "file_extension": ".py",
   "mimetype": "text/x-python",
   "name": "python",
   "nbconvert_exporter": "python",
   "pygments_lexer": "ipython3",
   "version": "3.12.5"
  }
 },
 "nbformat": 4,
 "nbformat_minor": 2
}
