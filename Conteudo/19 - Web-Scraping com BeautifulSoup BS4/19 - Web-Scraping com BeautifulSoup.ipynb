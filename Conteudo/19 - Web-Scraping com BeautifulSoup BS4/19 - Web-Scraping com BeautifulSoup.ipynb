{
 "cells": [
  {
   "cell_type": "markdown",
   "metadata": {},
   "source": [
    "# Web-Scraping com Beautiful Soup (BS4)"
   ]
  },
  {
   "cell_type": "markdown",
   "metadata": {},
   "source": [
    "O Beautiful Soup é um pacote Python que simplifica a extração de dados de páginas HTML. Ele é inferior ao Selenium por N motivos, como por exemplo, só trabalhar com páginas estáticas entre outros fatores, só que ele é mais rápido, e excelente para poder pegar dados do HTML de forma mais direta, o que pode ser extremamente útil para gerar ferramentas para Pentest."
   ]
  },
  {
   "cell_type": "markdown",
   "metadata": {},
   "source": [
    "Ele permite acessar e extrair dados do HTML de maneira mais fácil. Podemos por exemplo, extrair links, imagens, textos, etc... acessando direto pelas tags HTML. Como no exemplo abaixo, vamos extrair o título da página simplesmente após iniciar e abrir o arquivo HTML, atribuir a variável titulo o valor `site.title`, ou podemos usar `site.find('title')`."
   ]
  },
  {
   "cell_type": "code",
   "execution_count": 3,
   "metadata": {},
   "outputs": [
    {
     "name": "stdout",
     "output_type": "stream",
     "text": [
      "Título da Página:  Todos os Cursos Hashtag Treinamentos\n"
     ]
    }
   ],
   "source": [
    "from bs4 import BeautifulSoup\n",
    "\n",
    "with open('Pagina Hashtag.html', 'r', encoding='utf-8') as file:\n",
    "    site = BeautifulSoup(file, 'html.parser')\n",
    "    \n",
    "# print(site.prettify())\n",
    "titulo = site.title\n",
    "print(f'Título da Página: {titulo.text}')"
   ]
  },
  {
   "cell_type": "code",
   "execution_count": 4,
   "metadata": {},
   "outputs": [
    {
     "name": "stdout",
     "output_type": "stream",
     "text": [
      "Título do H1: Conheça todos os Cursos da Hashtag Treinamentos\n",
      "<h1 id=\"conheca-todos-os-cursos-da-hashtag-treinamentos\"><span style=\"color: #ff6600;\"><span class=\"has-inline-color\" style=\"color:#112e61\">Conheça todos os Cursos da Hashtag Treinamentos</span></span></h1>\n"
     ]
    }
   ],
   "source": [
    "h1 = site.find('h1')\n",
    "print(f'Título do H1: {h1.text}')\n",
    "print(h1)"
   ]
  },
  {
   "cell_type": "code",
   "execution_count": 5,
   "metadata": {},
   "outputs": [
    {
     "name": "stdout",
     "output_type": "stream",
     "text": [
      "Barra de Navegação: <nav class=\"navbar navbar-expand-md py-0\">\n",
      " <button aria-controls=\"navbarsExampleDefault\" aria-expanded=\"false\" aria-label=\"Toggle navigation\" class=\"navbar-toggler\" data-target=\"#navbarsExampleDefault\" data-toggle=\"collapse\" type=\"button\">\n",
      "  <span class=\"navbar-toggler-icon\">\n",
      "  </span>\n",
      " </button>\n",
      " <div class=\"collapse navbar-collapse\" id=\"navbarsExampleDefault\">\n",
      "  <div class=\"collapse navbar-collapse\" id=\"navbarSupportedContent\">\n",
      "   <ul class=\"navbar-nav ml-auto\" id=\"menu-principal\">\n",
      "    <li class=\"menu-item menu-item-type-post_type menu-item-object-page menu-item-2191 nav-item\" id=\"menu-item-2191\" itemscope=\"itemscope\" itemtype=\"https://www.schema.org/SiteNavigationElement\">\n",
      "     <a class=\"nav-link\" href=\"https://www.hashtagtreinamentos.com/curso-de-excel-online\" title=\"Curso Excel Online\">\n",
      "      Curso Excel Online\n",
      "     </a>\n",
      "    </li>\n",
      "    <li class=\"menu-item menu-item-type-post_type menu-item-object-page menu-item-6293 nav-item\" id=\"menu-item-6293\" itemscope=\"itemscope\" itemtype=\"https://www.schema.org/SiteNavigationElement\">\n",
      "     <a class=\"nav-link\" href=\"https://www.hashtagtreinamentos.com/curso-power-bi\" title=\"Curso Power BI Online\">\n",
      "      Curso Power BI Online\n",
      "     </a>\n",
      "    </li>\n",
      "    <li class=\"menu-item menu-item-type-post_type menu-item-object-page menu-item-9706 nav-item\" id=\"menu-item-9706\" itemscope=\"itemscope\" itemtype=\"https://www.schema.org/SiteNavigationElement\">\n",
      "     <a class=\"nav-link\" href=\"https://www.hashtagtreinamentos.com/curso-python\" title=\"Curso de Python Online\">\n",
      "      Curso de Python Online\n",
      "     </a>\n",
      "    </li>\n",
      "    <li class=\"menu-item menu-item-type-custom menu-item-object-custom menu-item-has-children dropdown menu-item-16313 nav-item\" id=\"menu-item-16313\" itemscope=\"itemscope\" itemtype=\"https://www.schema.org/SiteNavigationElement\">\n",
      "     <a aria-expanded=\"false\" aria-haspopup=\"true\" class=\"dropdown-toggle nav-link disabled\" href=\"https://www.hashtagtreinamentos.com/todos-os-cursos#\" id=\"menu-item-dropdown-16313\" title=\"Outros Cursos\">\n",
      "      Outros Cursos\n",
      "     </a>\n",
      "     <ul aria-labelledby=\"menu-item-dropdown-16313\" class=\"dropdown-menu\" role=\"menu\">\n",
      "      <li class=\"menu-item menu-item-type-post_type menu-item-object-page menu-item-17042 nav-item\" id=\"menu-item-17042\" itemscope=\"itemscope\" itemtype=\"https://www.schema.org/SiteNavigationElement\">\n",
      "       <a class=\"dropdown-item\" href=\"https://www.hashtagtreinamentos.com/curso-sql\" title=\"Curso de SQL\">\n",
      "        Curso de SQL\n",
      "       </a>\n",
      "      </li>\n",
      "      <li class=\"menu-item menu-item-type-post_type menu-item-object-page menu-item-6686 nav-item\" id=\"menu-item-6686\" itemscope=\"itemscope\" itemtype=\"https://www.schema.org/SiteNavigationElement\">\n",
      "       <a class=\"dropdown-item\" href=\"https://www.hashtagtreinamentos.com/curso-vba-excel\" title=\"Curso de VBA Excel\">\n",
      "        Curso de VBA Excel\n",
      "       </a>\n",
      "      </li>\n",
      "      <li class=\"menu-item menu-item-type-post_type menu-item-object-page menu-item-19806 nav-item\" id=\"menu-item-19806\" itemscope=\"itemscope\" itemtype=\"https://www.schema.org/SiteNavigationElement\">\n",
      "       <a class=\"dropdown-item\" href=\"https://www.hashtagtreinamentos.com/curso-powerpoint\" title=\"Curso de PowerPoint Online\">\n",
      "        Curso de PowerPoint Online\n",
      "       </a>\n",
      "      </li>\n",
      "      <li class=\"menu-item menu-item-type-custom menu-item-object-custom menu-item-6302 nav-item\" id=\"menu-item-6302\" itemscope=\"itemscope\" itemtype=\"https://www.schema.org/SiteNavigationElement\">\n",
      "       <a class=\"dropdown-item\" href=\"https://www.hashtagtreinamentos.com/todos-os-cursos-hashtag-treinamentos\" title=\"Todos os Cursos\">\n",
      "        Todos os Cursos\n",
      "       </a>\n",
      "      </li>\n",
      "     </ul>\n",
      "    </li>\n",
      "    <li class=\"menu-item menu-item-type-post_type menu-item-object-page menu-item-10581 nav-item\" id=\"menu-item-10581\" itemscope=\"itemscope\" itemtype=\"https://www.schema.org/SiteNavigationElement\">\n",
      "     <a class=\"nav-link\" href=\"https://www.hashtagtreinamentos.com/treinamentos-corporativos\" title=\"Treinamentos para Empresas\">\n",
      "      Treinamentos para Empresas\n",
      "     </a>\n",
      "    </li>\n",
      "    <li class=\"menu-item menu-item-type-post_type menu-item-object-page menu-item-58 nav-item\" id=\"menu-item-58\" itemscope=\"itemscope\" itemtype=\"https://www.schema.org/SiteNavigationElement\">\n",
      "     <a class=\"nav-link\" href=\"https://www.hashtagtreinamentos.com/blog\" title=\"Blog\">\n",
      "      Blog\n",
      "     </a>\n",
      "    </li>\n",
      "    <li class=\"menu-item menu-item-type-post_type menu-item-object-page menu-item-221 nav-item\" id=\"menu-item-221\" itemscope=\"itemscope\" itemtype=\"https://www.schema.org/SiteNavigationElement\">\n",
      "     <a class=\"nav-link\" href=\"https://www.hashtagtreinamentos.com/contato\" title=\"Contato\">\n",
      "      Contato\n",
      "     </a>\n",
      "    </li>\n",
      "   </ul>\n",
      "  </div>\n",
      " </div>\n",
      "</nav>\n",
      "\n"
     ]
    }
   ],
   "source": [
    "barra_navegacao = site.find('nav')\n",
    "print(f'Barra de Navegação: {barra_navegacao.prettify()}')"
   ]
  },
  {
   "cell_type": "code",
   "execution_count": 6,
   "metadata": {},
   "outputs": [
    {
     "name": "stdout",
     "output_type": "stream",
     "text": [
      "Links da Barra de Navegação: [<a class=\"nav-link\" href=\"https://www.hashtagtreinamentos.com/curso-de-excel-online\" title=\"Curso Excel Online\">Curso Excel Online</a>, <a class=\"nav-link\" href=\"https://www.hashtagtreinamentos.com/curso-power-bi\" title=\"Curso Power BI Online\">Curso Power BI Online</a>, <a class=\"nav-link\" href=\"https://www.hashtagtreinamentos.com/curso-python\" title=\"Curso de Python Online\">Curso de Python Online</a>, <a aria-expanded=\"false\" aria-haspopup=\"true\" class=\"dropdown-toggle nav-link disabled\" href=\"https://www.hashtagtreinamentos.com/todos-os-cursos#\" id=\"menu-item-dropdown-16313\" title=\"Outros Cursos\">Outros Cursos</a>, <a class=\"dropdown-item\" href=\"https://www.hashtagtreinamentos.com/curso-sql\" title=\"Curso de SQL\">Curso de SQL</a>, <a class=\"dropdown-item\" href=\"https://www.hashtagtreinamentos.com/curso-vba-excel\" title=\"Curso de VBA Excel\">Curso de VBA Excel</a>, <a class=\"dropdown-item\" href=\"https://www.hashtagtreinamentos.com/curso-powerpoint\" title=\"Curso de PowerPoint Online\">Curso de PowerPoint Online</a>, <a class=\"dropdown-item\" href=\"https://www.hashtagtreinamentos.com/todos-os-cursos-hashtag-treinamentos\" title=\"Todos os Cursos\">Todos os Cursos</a>, <a class=\"nav-link\" href=\"https://www.hashtagtreinamentos.com/treinamentos-corporativos\" title=\"Treinamentos para Empresas\">Treinamentos para Empresas</a>, <a class=\"nav-link\" href=\"https://www.hashtagtreinamentos.com/blog\" title=\"Blog\">Blog</a>, <a class=\"nav-link\" href=\"https://www.hashtagtreinamentos.com/contato\" title=\"Contato\">Contato</a>]\n",
      "Espaço\n",
      "<a class=\"nav-link\" href=\"https://www.hashtagtreinamentos.com/curso-de-excel-online\" title=\"Curso Excel Online\">Curso Excel Online</a>\n",
      "{'title': 'Curso Excel Online', 'href': 'https://www.hashtagtreinamentos.com/curso-de-excel-online', 'class': ['nav-link']}\n",
      "https://www.hashtagtreinamentos.com/curso-de-excel-online\n",
      "Link: Curso Excel Online, URL: https://www.hashtagtreinamentos.com/curso-de-excel-online\n",
      "Link: Curso Power BI Online, URL: https://www.hashtagtreinamentos.com/curso-power-bi\n",
      "Link: Curso de Python Online, URL: https://www.hashtagtreinamentos.com/curso-python\n",
      "Link: Outros Cursos, URL: https://www.hashtagtreinamentos.com/todos-os-cursos#\n",
      "Link: Curso de SQL, URL: https://www.hashtagtreinamentos.com/curso-sql\n",
      "Link: Curso de VBA Excel, URL: https://www.hashtagtreinamentos.com/curso-vba-excel\n",
      "Link: Curso de PowerPoint Online, URL: https://www.hashtagtreinamentos.com/curso-powerpoint\n",
      "Link: Todos os Cursos, URL: https://www.hashtagtreinamentos.com/todos-os-cursos-hashtag-treinamentos\n",
      "Link: Treinamentos para Empresas, URL: https://www.hashtagtreinamentos.com/treinamentos-corporativos\n",
      "Link: Blog, URL: https://www.hashtagtreinamentos.com/blog\n",
      "Link: Contato, URL: https://www.hashtagtreinamentos.com/contato\n"
     ]
    }
   ],
   "source": [
    "links_barra_navegacao = barra_navegacao.find_all('a')\n",
    "print(f'Links da Barra de Navegação: {links_barra_navegacao}') # retonrar os links em formato de lista\n",
    "print('Espaço')\n",
    "print(f'{links_barra_navegacao[0]}')\n",
    "print(f'{links_barra_navegacao[0].attrs}') # Mostra os atributos do primeiro link em formato de dicionário\n",
    "print(f'{links_barra_navegacao[0]['href']}') # Mostra o link do primeiro link\n",
    "\n",
    "for links in links_barra_navegacao:\n",
    "    print(f'Link: {links.text}, URL: {links[\"href\"]}')"
   ]
  },
  {
   "cell_type": "markdown",
   "metadata": {},
   "source": [
    "### Encontrando elementos com várias regras específicas"
   ]
  },
  {
   "cell_type": "code",
   "execution_count": 7,
   "metadata": {},
   "outputs": [
    {
     "name": "stdout",
     "output_type": "stream",
     "text": [
      "[<button aria-controls=\"navbarsExampleDefault\" aria-expanded=\"false\" aria-label=\"Toggle navigation\" class=\"navbar-toggler\" data-target=\"#navbarsExampleDefault\" data-toggle=\"collapse\" type=\"button\"> <span class=\"navbar-toggler-icon\"></span> </button>, <a class=\"nav-link\" href=\"https://www.hashtagtreinamentos.com/curso-de-excel-online\" title=\"Curso Excel Online\">Curso Excel Online</a>, <a class=\"nav-link\" href=\"https://www.hashtagtreinamentos.com/curso-power-bi\" title=\"Curso Power BI Online\">Curso Power BI Online</a>, <a class=\"nav-link\" href=\"https://www.hashtagtreinamentos.com/curso-python\" title=\"Curso de Python Online\">Curso de Python Online</a>, <a aria-expanded=\"false\" aria-haspopup=\"true\" class=\"dropdown-toggle nav-link disabled\" href=\"https://www.hashtagtreinamentos.com/todos-os-cursos#\" id=\"menu-item-dropdown-16313\" title=\"Outros Cursos\">Outros Cursos</a>, <a class=\"dropdown-item\" href=\"https://www.hashtagtreinamentos.com/curso-sql\" title=\"Curso de SQL\">Curso de SQL</a>, <a class=\"dropdown-item\" href=\"https://www.hashtagtreinamentos.com/curso-vba-excel\" title=\"Curso de VBA Excel\">Curso de VBA Excel</a>, <a class=\"dropdown-item\" href=\"https://www.hashtagtreinamentos.com/curso-powerpoint\" title=\"Curso de PowerPoint Online\">Curso de PowerPoint Online</a>, <a class=\"dropdown-item\" href=\"https://www.hashtagtreinamentos.com/todos-os-cursos-hashtag-treinamentos\" title=\"Todos os Cursos\">Todos os Cursos</a>, <a class=\"nav-link\" href=\"https://www.hashtagtreinamentos.com/treinamentos-corporativos\" title=\"Treinamentos para Empresas\">Treinamentos para Empresas</a>, <a class=\"nav-link\" href=\"https://www.hashtagtreinamentos.com/blog\" title=\"Blog\">Blog</a>, <a class=\"nav-link\" href=\"https://www.hashtagtreinamentos.com/contato\" title=\"Contato\">Contato</a>]\n"
     ]
    }
   ],
   "source": [
    "elementos_navegacao = barra_navegacao.find_all(['a', 'button'])\n",
    "print(elementos_navegacao)"
   ]
  },
  {
   "cell_type": "markdown",
   "metadata": {},
   "source": [
    "### Outras regras para encontrar elementos\n",
    "* Por classe\n",
    "* Por id\n",
    "* Por atributos\n",
    "* Por texto\n",
    "* Por pedaços de texto"
   ]
  },
  {
   "cell_type": "code",
   "execution_count": 10,
   "metadata": {},
   "outputs": [
    {
     "name": "stdout",
     "output_type": "stream",
     "text": [
      "Subtítulo: <h2 class=\"h1 tit centro\">Todos os Cursos da Hashtag Treinamentos</h2>\n"
     ]
    }
   ],
   "source": [
    "# Por classe\n",
    "subtitulo = site.find(class_='tit')\n",
    "print(f'Subtítulo: {subtitulo}')"
   ]
  },
  {
   "cell_type": "code",
   "execution_count": 11,
   "metadata": {},
   "outputs": [
    {
     "name": "stdout",
     "output_type": "stream",
     "text": [
      "Cabeçalho: <header class=\"\" id=\"header\" role=\"banner\"><div class=\"container-fluid\"><div class=\"row\"><div class=\"logo col-md-2 col-6 align-self-center\"> <a class=\"custom-logo-link\" href=\"https://www.hashtagtreinamentos.com/\" rel=\"home\"><img alt=\"Hashtag Treinamentos\" class=\"custom-logo lazyloaded\" data-ll-status=\"loaded\" height=\"73\" sizes=\"(max-width: 153px) 100vw, 153px\" src=\"./Pagina Hashtag_files/logo_nova.png.webp\" srcset=\"https://www.hashtagtreinamentos.com/wp-content/uploads/2019/04/logo_nova.png.webp 153w,https://www.hashtagtreinamentos.com/wp-content/uploads/2019/04/logo_nova-150x73.png.webp 150w\" width=\"153\"/><noscript><img alt=\"Hashtag Treinamentos\" class=\"custom-logo\" height=\"73\" sizes=\"(max-width: 153px) 100vw, 153px\" src=\"https://www.hashtagtreinamentos.com/wp-content/uploads/2019/04/logo_nova.png.webp\" srcset=\"https://www.hashtagtreinamentos.com/wp-content/uploads/2019/04/logo_nova.png.webp 153w,https://www.hashtagtreinamentos.com/wp-content/uploads/2019/04/logo_nova-150x73.png.webp 150w\" width=\"153\"/></noscript></a></div><div class=\"col-md-10 align-self-center d-md-block d-none text-right\"><div class=\"menu_geral\"><div class=\"navbar navbar-default d-table ml-auto mt-0 py-0\" id=\"main-navigation\"><nav class=\"navbar navbar-expand-md py-0\"> <button aria-controls=\"navbarsExampleDefault\" aria-expanded=\"false\" aria-label=\"Toggle navigation\" class=\"navbar-toggler\" data-target=\"#navbarsExampleDefault\" data-toggle=\"collapse\" type=\"button\"> <span class=\"navbar-toggler-icon\"></span> </button><div class=\"collapse navbar-collapse\" id=\"navbarsExampleDefault\"><div class=\"collapse navbar-collapse\" id=\"navbarSupportedContent\"><ul class=\"navbar-nav ml-auto\" id=\"menu-principal\"><li class=\"menu-item menu-item-type-post_type menu-item-object-page menu-item-2191 nav-item\" id=\"menu-item-2191\" itemscope=\"itemscope\" itemtype=\"https://www.schema.org/SiteNavigationElement\"><a class=\"nav-link\" href=\"https://www.hashtagtreinamentos.com/curso-de-excel-online\" title=\"Curso Excel Online\">Curso Excel Online</a></li><li class=\"menu-item menu-item-type-post_type menu-item-object-page menu-item-6293 nav-item\" id=\"menu-item-6293\" itemscope=\"itemscope\" itemtype=\"https://www.schema.org/SiteNavigationElement\"><a class=\"nav-link\" href=\"https://www.hashtagtreinamentos.com/curso-power-bi\" title=\"Curso Power BI Online\">Curso Power BI Online</a></li><li class=\"menu-item menu-item-type-post_type menu-item-object-page menu-item-9706 nav-item\" id=\"menu-item-9706\" itemscope=\"itemscope\" itemtype=\"https://www.schema.org/SiteNavigationElement\"><a class=\"nav-link\" href=\"https://www.hashtagtreinamentos.com/curso-python\" title=\"Curso de Python Online\">Curso de Python Online</a></li><li class=\"menu-item menu-item-type-custom menu-item-object-custom menu-item-has-children dropdown menu-item-16313 nav-item\" id=\"menu-item-16313\" itemscope=\"itemscope\" itemtype=\"https://www.schema.org/SiteNavigationElement\"><a aria-expanded=\"false\" aria-haspopup=\"true\" class=\"dropdown-toggle nav-link disabled\" href=\"https://www.hashtagtreinamentos.com/todos-os-cursos#\" id=\"menu-item-dropdown-16313\" title=\"Outros Cursos\">Outros Cursos</a><ul aria-labelledby=\"menu-item-dropdown-16313\" class=\"dropdown-menu\" role=\"menu\"><li class=\"menu-item menu-item-type-post_type menu-item-object-page menu-item-17042 nav-item\" id=\"menu-item-17042\" itemscope=\"itemscope\" itemtype=\"https://www.schema.org/SiteNavigationElement\"><a class=\"dropdown-item\" href=\"https://www.hashtagtreinamentos.com/curso-sql\" title=\"Curso de SQL\">Curso de SQL</a></li><li class=\"menu-item menu-item-type-post_type menu-item-object-page menu-item-6686 nav-item\" id=\"menu-item-6686\" itemscope=\"itemscope\" itemtype=\"https://www.schema.org/SiteNavigationElement\"><a class=\"dropdown-item\" href=\"https://www.hashtagtreinamentos.com/curso-vba-excel\" title=\"Curso de VBA Excel\">Curso de VBA Excel</a></li><li class=\"menu-item menu-item-type-post_type menu-item-object-page menu-item-19806 nav-item\" id=\"menu-item-19806\" itemscope=\"itemscope\" itemtype=\"https://www.schema.org/SiteNavigationElement\"><a class=\"dropdown-item\" href=\"https://www.hashtagtreinamentos.com/curso-powerpoint\" title=\"Curso de PowerPoint Online\">Curso de PowerPoint Online</a></li><li class=\"menu-item menu-item-type-custom menu-item-object-custom menu-item-6302 nav-item\" id=\"menu-item-6302\" itemscope=\"itemscope\" itemtype=\"https://www.schema.org/SiteNavigationElement\"><a class=\"dropdown-item\" href=\"https://www.hashtagtreinamentos.com/todos-os-cursos-hashtag-treinamentos\" title=\"Todos os Cursos\">Todos os Cursos</a></li></ul></li><li class=\"menu-item menu-item-type-post_type menu-item-object-page menu-item-10581 nav-item\" id=\"menu-item-10581\" itemscope=\"itemscope\" itemtype=\"https://www.schema.org/SiteNavigationElement\"><a class=\"nav-link\" href=\"https://www.hashtagtreinamentos.com/treinamentos-corporativos\" title=\"Treinamentos para Empresas\">Treinamentos para Empresas</a></li><li class=\"menu-item menu-item-type-post_type menu-item-object-page menu-item-58 nav-item\" id=\"menu-item-58\" itemscope=\"itemscope\" itemtype=\"https://www.schema.org/SiteNavigationElement\"><a class=\"nav-link\" href=\"https://www.hashtagtreinamentos.com/blog\" title=\"Blog\">Blog</a></li><li class=\"menu-item menu-item-type-post_type menu-item-object-page menu-item-221 nav-item\" id=\"menu-item-221\" itemscope=\"itemscope\" itemtype=\"https://www.schema.org/SiteNavigationElement\"><a class=\"nav-link\" href=\"https://www.hashtagtreinamentos.com/contato\" title=\"Contato\">Contato</a></li></ul></div></div></nav></div></div><div class=\"social\"> <a class=\"mr-3\" href=\"https://www.facebook.com/hashtagtreinamentos/\" target=\"_blank\"><i class=\"fab fa-facebook-f\"></i></a> <a class=\"mr-3\" href=\"https://www.youtube.com/channel/UCw0leRmeaX7R_9BDd3TvCzg\" target=\"_blank\"><i class=\"fab fa-youtube\"></i></a> <a href=\"https://www.instagram.com/hashtagtreinamentos/\" target=\"_blank\"><i class=\"fab fa-instagram\"></i></a></div></div><div class=\"col-6 d-md-none\"><div class=\"fullnavBtn\" id=\"toggle\"> <span class=\"top\"></span> <span class=\"middle\"></span> <span class=\"bottom\"></span></div><div id=\"fullnav\"><nav class=\"navbar navbar-dark pr-lg-0\"><div class=\"collapsed navbar-collapse\" id=\"navbarSupportedContent\"><ul class=\"navbar-nav mx-auto\" id=\"menu-principal-1\"><li class=\"menu-item menu-item-type-post_type menu-item-object-page menu-item-2191 nav-item\" itemscope=\"itemscope\" itemtype=\"https://www.schema.org/SiteNavigationElement\"><a class=\"nav-link\" href=\"https://www.hashtagtreinamentos.com/curso-de-excel-online\" title=\"Curso Excel Online\">Curso Excel Online</a></li><li class=\"menu-item menu-item-type-post_type menu-item-object-page menu-item-6293 nav-item\" itemscope=\"itemscope\" itemtype=\"https://www.schema.org/SiteNavigationElement\"><a class=\"nav-link\" href=\"https://www.hashtagtreinamentos.com/curso-power-bi\" title=\"Curso Power BI Online\">Curso Power BI Online</a></li><li class=\"menu-item menu-item-type-post_type menu-item-object-page menu-item-9706 nav-item\" itemscope=\"itemscope\" itemtype=\"https://www.schema.org/SiteNavigationElement\"><a class=\"nav-link\" href=\"https://www.hashtagtreinamentos.com/curso-python\" title=\"Curso de Python Online\">Curso de Python Online</a></li><li class=\"menu-item menu-item-type-custom menu-item-object-custom menu-item-has-children dropdown menu-item-16313 nav-item\" itemscope=\"itemscope\" itemtype=\"https://www.schema.org/SiteNavigationElement\"><a aria-expanded=\"false\" aria-haspopup=\"true\" class=\"dropdown-toggle nav-link disabled\" href=\"https://www.hashtagtreinamentos.com/todos-os-cursos#\" id=\"menu-item-dropdown-16313\" title=\"Outros Cursos\">Outros Cursos</a><ul aria-labelledby=\"menu-item-dropdown-16313\" class=\"dropdown-menu\" role=\"menu\"><li class=\"menu-item menu-item-type-post_type menu-item-object-page menu-item-17042 nav-item\" itemscope=\"itemscope\" itemtype=\"https://www.schema.org/SiteNavigationElement\"><a class=\"dropdown-item\" href=\"https://www.hashtagtreinamentos.com/curso-sql\" title=\"Curso de SQL\">Curso de SQL</a></li><li class=\"menu-item menu-item-type-post_type menu-item-object-page menu-item-6686 nav-item\" itemscope=\"itemscope\" itemtype=\"https://www.schema.org/SiteNavigationElement\"><a class=\"dropdown-item\" href=\"https://www.hashtagtreinamentos.com/curso-vba-excel\" title=\"Curso de VBA Excel\">Curso de VBA Excel</a></li><li class=\"menu-item menu-item-type-post_type menu-item-object-page menu-item-19806 nav-item\" itemscope=\"itemscope\" itemtype=\"https://www.schema.org/SiteNavigationElement\"><a class=\"dropdown-item\" href=\"https://www.hashtagtreinamentos.com/curso-powerpoint\" title=\"Curso de PowerPoint Online\">Curso de PowerPoint Online</a></li><li class=\"menu-item menu-item-type-custom menu-item-object-custom menu-item-6302 nav-item\" itemscope=\"itemscope\" itemtype=\"https://www.schema.org/SiteNavigationElement\"><a class=\"dropdown-item\" href=\"https://www.hashtagtreinamentos.com/todos-os-cursos-hashtag-treinamentos\" title=\"Todos os Cursos\">Todos os Cursos</a></li></ul></li><li class=\"menu-item menu-item-type-post_type menu-item-object-page menu-item-10581 nav-item\" itemscope=\"itemscope\" itemtype=\"https://www.schema.org/SiteNavigationElement\"><a class=\"nav-link\" href=\"https://www.hashtagtreinamentos.com/treinamentos-corporativos\" title=\"Treinamentos para Empresas\">Treinamentos para Empresas</a></li><li class=\"menu-item menu-item-type-post_type menu-item-object-page menu-item-58 nav-item\" itemscope=\"itemscope\" itemtype=\"https://www.schema.org/SiteNavigationElement\"><a class=\"nav-link\" href=\"https://www.hashtagtreinamentos.com/blog\" title=\"Blog\">Blog</a></li><li class=\"menu-item menu-item-type-post_type menu-item-object-page menu-item-221 nav-item\" itemscope=\"itemscope\" itemtype=\"https://www.schema.org/SiteNavigationElement\"><a class=\"nav-link\" href=\"https://www.hashtagtreinamentos.com/contato\" title=\"Contato\">Contato</a></li></ul></div></nav><div class=\"social\"> <a class=\"mr-3\" href=\"https://www.facebook.com/hashtagtreinamentos/\" target=\"_blank\"><i class=\"fab fa-facebook-f\"></i></a> <a class=\"mr-3\" href=\"https://www.youtube.com/channel/UCw0leRmeaX7R_9BDd3TvCzg\" target=\"_blank\"><i class=\"fab fa-youtube\"></i></a> <a href=\"https://www.instagram.com/hashtagtreinamentos/\" target=\"_blank\"><i class=\"fab fa-instagram\"></i></a></div></div></div></div></div></header>\n"
     ]
    }
   ],
   "source": [
    "# Por id\n",
    "cabecalho = site.find(id='header')\n",
    "print(f'Cabeçalho: {cabecalho}')"
   ]
  },
  {
   "cell_type": "code",
   "execution_count": 12,
   "metadata": {},
   "outputs": [
    {
     "name": "stdout",
     "output_type": "stream",
     "text": [
      "Cabeçalho 2: <header class=\"\" id=\"header\" role=\"banner\"><div class=\"container-fluid\"><div class=\"row\"><div class=\"logo col-md-2 col-6 align-self-center\"> <a class=\"custom-logo-link\" href=\"https://www.hashtagtreinamentos.com/\" rel=\"home\"><img alt=\"Hashtag Treinamentos\" class=\"custom-logo lazyloaded\" data-ll-status=\"loaded\" height=\"73\" sizes=\"(max-width: 153px) 100vw, 153px\" src=\"./Pagina Hashtag_files/logo_nova.png.webp\" srcset=\"https://www.hashtagtreinamentos.com/wp-content/uploads/2019/04/logo_nova.png.webp 153w,https://www.hashtagtreinamentos.com/wp-content/uploads/2019/04/logo_nova-150x73.png.webp 150w\" width=\"153\"/><noscript><img alt=\"Hashtag Treinamentos\" class=\"custom-logo\" height=\"73\" sizes=\"(max-width: 153px) 100vw, 153px\" src=\"https://www.hashtagtreinamentos.com/wp-content/uploads/2019/04/logo_nova.png.webp\" srcset=\"https://www.hashtagtreinamentos.com/wp-content/uploads/2019/04/logo_nova.png.webp 153w,https://www.hashtagtreinamentos.com/wp-content/uploads/2019/04/logo_nova-150x73.png.webp 150w\" width=\"153\"/></noscript></a></div><div class=\"col-md-10 align-self-center d-md-block d-none text-right\"><div class=\"menu_geral\"><div class=\"navbar navbar-default d-table ml-auto mt-0 py-0\" id=\"main-navigation\"><nav class=\"navbar navbar-expand-md py-0\"> <button aria-controls=\"navbarsExampleDefault\" aria-expanded=\"false\" aria-label=\"Toggle navigation\" class=\"navbar-toggler\" data-target=\"#navbarsExampleDefault\" data-toggle=\"collapse\" type=\"button\"> <span class=\"navbar-toggler-icon\"></span> </button><div class=\"collapse navbar-collapse\" id=\"navbarsExampleDefault\"><div class=\"collapse navbar-collapse\" id=\"navbarSupportedContent\"><ul class=\"navbar-nav ml-auto\" id=\"menu-principal\"><li class=\"menu-item menu-item-type-post_type menu-item-object-page menu-item-2191 nav-item\" id=\"menu-item-2191\" itemscope=\"itemscope\" itemtype=\"https://www.schema.org/SiteNavigationElement\"><a class=\"nav-link\" href=\"https://www.hashtagtreinamentos.com/curso-de-excel-online\" title=\"Curso Excel Online\">Curso Excel Online</a></li><li class=\"menu-item menu-item-type-post_type menu-item-object-page menu-item-6293 nav-item\" id=\"menu-item-6293\" itemscope=\"itemscope\" itemtype=\"https://www.schema.org/SiteNavigationElement\"><a class=\"nav-link\" href=\"https://www.hashtagtreinamentos.com/curso-power-bi\" title=\"Curso Power BI Online\">Curso Power BI Online</a></li><li class=\"menu-item menu-item-type-post_type menu-item-object-page menu-item-9706 nav-item\" id=\"menu-item-9706\" itemscope=\"itemscope\" itemtype=\"https://www.schema.org/SiteNavigationElement\"><a class=\"nav-link\" href=\"https://www.hashtagtreinamentos.com/curso-python\" title=\"Curso de Python Online\">Curso de Python Online</a></li><li class=\"menu-item menu-item-type-custom menu-item-object-custom menu-item-has-children dropdown menu-item-16313 nav-item\" id=\"menu-item-16313\" itemscope=\"itemscope\" itemtype=\"https://www.schema.org/SiteNavigationElement\"><a aria-expanded=\"false\" aria-haspopup=\"true\" class=\"dropdown-toggle nav-link disabled\" href=\"https://www.hashtagtreinamentos.com/todos-os-cursos#\" id=\"menu-item-dropdown-16313\" title=\"Outros Cursos\">Outros Cursos</a><ul aria-labelledby=\"menu-item-dropdown-16313\" class=\"dropdown-menu\" role=\"menu\"><li class=\"menu-item menu-item-type-post_type menu-item-object-page menu-item-17042 nav-item\" id=\"menu-item-17042\" itemscope=\"itemscope\" itemtype=\"https://www.schema.org/SiteNavigationElement\"><a class=\"dropdown-item\" href=\"https://www.hashtagtreinamentos.com/curso-sql\" title=\"Curso de SQL\">Curso de SQL</a></li><li class=\"menu-item menu-item-type-post_type menu-item-object-page menu-item-6686 nav-item\" id=\"menu-item-6686\" itemscope=\"itemscope\" itemtype=\"https://www.schema.org/SiteNavigationElement\"><a class=\"dropdown-item\" href=\"https://www.hashtagtreinamentos.com/curso-vba-excel\" title=\"Curso de VBA Excel\">Curso de VBA Excel</a></li><li class=\"menu-item menu-item-type-post_type menu-item-object-page menu-item-19806 nav-item\" id=\"menu-item-19806\" itemscope=\"itemscope\" itemtype=\"https://www.schema.org/SiteNavigationElement\"><a class=\"dropdown-item\" href=\"https://www.hashtagtreinamentos.com/curso-powerpoint\" title=\"Curso de PowerPoint Online\">Curso de PowerPoint Online</a></li><li class=\"menu-item menu-item-type-custom menu-item-object-custom menu-item-6302 nav-item\" id=\"menu-item-6302\" itemscope=\"itemscope\" itemtype=\"https://www.schema.org/SiteNavigationElement\"><a class=\"dropdown-item\" href=\"https://www.hashtagtreinamentos.com/todos-os-cursos-hashtag-treinamentos\" title=\"Todos os Cursos\">Todos os Cursos</a></li></ul></li><li class=\"menu-item menu-item-type-post_type menu-item-object-page menu-item-10581 nav-item\" id=\"menu-item-10581\" itemscope=\"itemscope\" itemtype=\"https://www.schema.org/SiteNavigationElement\"><a class=\"nav-link\" href=\"https://www.hashtagtreinamentos.com/treinamentos-corporativos\" title=\"Treinamentos para Empresas\">Treinamentos para Empresas</a></li><li class=\"menu-item menu-item-type-post_type menu-item-object-page menu-item-58 nav-item\" id=\"menu-item-58\" itemscope=\"itemscope\" itemtype=\"https://www.schema.org/SiteNavigationElement\"><a class=\"nav-link\" href=\"https://www.hashtagtreinamentos.com/blog\" title=\"Blog\">Blog</a></li><li class=\"menu-item menu-item-type-post_type menu-item-object-page menu-item-221 nav-item\" id=\"menu-item-221\" itemscope=\"itemscope\" itemtype=\"https://www.schema.org/SiteNavigationElement\"><a class=\"nav-link\" href=\"https://www.hashtagtreinamentos.com/contato\" title=\"Contato\">Contato</a></li></ul></div></div></nav></div></div><div class=\"social\"> <a class=\"mr-3\" href=\"https://www.facebook.com/hashtagtreinamentos/\" target=\"_blank\"><i class=\"fab fa-facebook-f\"></i></a> <a class=\"mr-3\" href=\"https://www.youtube.com/channel/UCw0leRmeaX7R_9BDd3TvCzg\" target=\"_blank\"><i class=\"fab fa-youtube\"></i></a> <a href=\"https://www.instagram.com/hashtagtreinamentos/\" target=\"_blank\"><i class=\"fab fa-instagram\"></i></a></div></div><div class=\"col-6 d-md-none\"><div class=\"fullnavBtn\" id=\"toggle\"> <span class=\"top\"></span> <span class=\"middle\"></span> <span class=\"bottom\"></span></div><div id=\"fullnav\"><nav class=\"navbar navbar-dark pr-lg-0\"><div class=\"collapsed navbar-collapse\" id=\"navbarSupportedContent\"><ul class=\"navbar-nav mx-auto\" id=\"menu-principal-1\"><li class=\"menu-item menu-item-type-post_type menu-item-object-page menu-item-2191 nav-item\" itemscope=\"itemscope\" itemtype=\"https://www.schema.org/SiteNavigationElement\"><a class=\"nav-link\" href=\"https://www.hashtagtreinamentos.com/curso-de-excel-online\" title=\"Curso Excel Online\">Curso Excel Online</a></li><li class=\"menu-item menu-item-type-post_type menu-item-object-page menu-item-6293 nav-item\" itemscope=\"itemscope\" itemtype=\"https://www.schema.org/SiteNavigationElement\"><a class=\"nav-link\" href=\"https://www.hashtagtreinamentos.com/curso-power-bi\" title=\"Curso Power BI Online\">Curso Power BI Online</a></li><li class=\"menu-item menu-item-type-post_type menu-item-object-page menu-item-9706 nav-item\" itemscope=\"itemscope\" itemtype=\"https://www.schema.org/SiteNavigationElement\"><a class=\"nav-link\" href=\"https://www.hashtagtreinamentos.com/curso-python\" title=\"Curso de Python Online\">Curso de Python Online</a></li><li class=\"menu-item menu-item-type-custom menu-item-object-custom menu-item-has-children dropdown menu-item-16313 nav-item\" itemscope=\"itemscope\" itemtype=\"https://www.schema.org/SiteNavigationElement\"><a aria-expanded=\"false\" aria-haspopup=\"true\" class=\"dropdown-toggle nav-link disabled\" href=\"https://www.hashtagtreinamentos.com/todos-os-cursos#\" id=\"menu-item-dropdown-16313\" title=\"Outros Cursos\">Outros Cursos</a><ul aria-labelledby=\"menu-item-dropdown-16313\" class=\"dropdown-menu\" role=\"menu\"><li class=\"menu-item menu-item-type-post_type menu-item-object-page menu-item-17042 nav-item\" itemscope=\"itemscope\" itemtype=\"https://www.schema.org/SiteNavigationElement\"><a class=\"dropdown-item\" href=\"https://www.hashtagtreinamentos.com/curso-sql\" title=\"Curso de SQL\">Curso de SQL</a></li><li class=\"menu-item menu-item-type-post_type menu-item-object-page menu-item-6686 nav-item\" itemscope=\"itemscope\" itemtype=\"https://www.schema.org/SiteNavigationElement\"><a class=\"dropdown-item\" href=\"https://www.hashtagtreinamentos.com/curso-vba-excel\" title=\"Curso de VBA Excel\">Curso de VBA Excel</a></li><li class=\"menu-item menu-item-type-post_type menu-item-object-page menu-item-19806 nav-item\" itemscope=\"itemscope\" itemtype=\"https://www.schema.org/SiteNavigationElement\"><a class=\"dropdown-item\" href=\"https://www.hashtagtreinamentos.com/curso-powerpoint\" title=\"Curso de PowerPoint Online\">Curso de PowerPoint Online</a></li><li class=\"menu-item menu-item-type-custom menu-item-object-custom menu-item-6302 nav-item\" itemscope=\"itemscope\" itemtype=\"https://www.schema.org/SiteNavigationElement\"><a class=\"dropdown-item\" href=\"https://www.hashtagtreinamentos.com/todos-os-cursos-hashtag-treinamentos\" title=\"Todos os Cursos\">Todos os Cursos</a></li></ul></li><li class=\"menu-item menu-item-type-post_type menu-item-object-page menu-item-10581 nav-item\" itemscope=\"itemscope\" itemtype=\"https://www.schema.org/SiteNavigationElement\"><a class=\"nav-link\" href=\"https://www.hashtagtreinamentos.com/treinamentos-corporativos\" title=\"Treinamentos para Empresas\">Treinamentos para Empresas</a></li><li class=\"menu-item menu-item-type-post_type menu-item-object-page menu-item-58 nav-item\" itemscope=\"itemscope\" itemtype=\"https://www.schema.org/SiteNavigationElement\"><a class=\"nav-link\" href=\"https://www.hashtagtreinamentos.com/blog\" title=\"Blog\">Blog</a></li><li class=\"menu-item menu-item-type-post_type menu-item-object-page menu-item-221 nav-item\" itemscope=\"itemscope\" itemtype=\"https://www.schema.org/SiteNavigationElement\"><a class=\"nav-link\" href=\"https://www.hashtagtreinamentos.com/contato\" title=\"Contato\">Contato</a></li></ul></div></nav><div class=\"social\"> <a class=\"mr-3\" href=\"https://www.facebook.com/hashtagtreinamentos/\" target=\"_blank\"><i class=\"fab fa-facebook-f\"></i></a> <a class=\"mr-3\" href=\"https://www.youtube.com/channel/UCw0leRmeaX7R_9BDd3TvCzg\" target=\"_blank\"><i class=\"fab fa-youtube\"></i></a> <a href=\"https://www.instagram.com/hashtagtreinamentos/\" target=\"_blank\"><i class=\"fab fa-instagram\"></i></a></div></div></div></div></div></header>\n"
     ]
    }
   ],
   "source": [
    "# Por atributos\n",
    "cabecalho_2 = site.find(role='banner')\n",
    "print(f'Cabeçalho 2: {cabecalho_2}')"
   ]
  },
  {
   "cell_type": "code",
   "execution_count": 13,
   "metadata": {},
   "outputs": [
    {
     "name": "stdout",
     "output_type": "stream",
     "text": [
      "Cabeçalho 3: <header class=\"\" id=\"header\" role=\"banner\"><div class=\"container-fluid\"><div class=\"row\"><div class=\"logo col-md-2 col-6 align-self-center\"> <a class=\"custom-logo-link\" href=\"https://www.hashtagtreinamentos.com/\" rel=\"home\"><img alt=\"Hashtag Treinamentos\" class=\"custom-logo lazyloaded\" data-ll-status=\"loaded\" height=\"73\" sizes=\"(max-width: 153px) 100vw, 153px\" src=\"./Pagina Hashtag_files/logo_nova.png.webp\" srcset=\"https://www.hashtagtreinamentos.com/wp-content/uploads/2019/04/logo_nova.png.webp 153w,https://www.hashtagtreinamentos.com/wp-content/uploads/2019/04/logo_nova-150x73.png.webp 150w\" width=\"153\"/><noscript><img alt=\"Hashtag Treinamentos\" class=\"custom-logo\" height=\"73\" sizes=\"(max-width: 153px) 100vw, 153px\" src=\"https://www.hashtagtreinamentos.com/wp-content/uploads/2019/04/logo_nova.png.webp\" srcset=\"https://www.hashtagtreinamentos.com/wp-content/uploads/2019/04/logo_nova.png.webp 153w,https://www.hashtagtreinamentos.com/wp-content/uploads/2019/04/logo_nova-150x73.png.webp 150w\" width=\"153\"/></noscript></a></div><div class=\"col-md-10 align-self-center d-md-block d-none text-right\"><div class=\"menu_geral\"><div class=\"navbar navbar-default d-table ml-auto mt-0 py-0\" id=\"main-navigation\"><nav class=\"navbar navbar-expand-md py-0\"> <button aria-controls=\"navbarsExampleDefault\" aria-expanded=\"false\" aria-label=\"Toggle navigation\" class=\"navbar-toggler\" data-target=\"#navbarsExampleDefault\" data-toggle=\"collapse\" type=\"button\"> <span class=\"navbar-toggler-icon\"></span> </button><div class=\"collapse navbar-collapse\" id=\"navbarsExampleDefault\"><div class=\"collapse navbar-collapse\" id=\"navbarSupportedContent\"><ul class=\"navbar-nav ml-auto\" id=\"menu-principal\"><li class=\"menu-item menu-item-type-post_type menu-item-object-page menu-item-2191 nav-item\" id=\"menu-item-2191\" itemscope=\"itemscope\" itemtype=\"https://www.schema.org/SiteNavigationElement\"><a class=\"nav-link\" href=\"https://www.hashtagtreinamentos.com/curso-de-excel-online\" title=\"Curso Excel Online\">Curso Excel Online</a></li><li class=\"menu-item menu-item-type-post_type menu-item-object-page menu-item-6293 nav-item\" id=\"menu-item-6293\" itemscope=\"itemscope\" itemtype=\"https://www.schema.org/SiteNavigationElement\"><a class=\"nav-link\" href=\"https://www.hashtagtreinamentos.com/curso-power-bi\" title=\"Curso Power BI Online\">Curso Power BI Online</a></li><li class=\"menu-item menu-item-type-post_type menu-item-object-page menu-item-9706 nav-item\" id=\"menu-item-9706\" itemscope=\"itemscope\" itemtype=\"https://www.schema.org/SiteNavigationElement\"><a class=\"nav-link\" href=\"https://www.hashtagtreinamentos.com/curso-python\" title=\"Curso de Python Online\">Curso de Python Online</a></li><li class=\"menu-item menu-item-type-custom menu-item-object-custom menu-item-has-children dropdown menu-item-16313 nav-item\" id=\"menu-item-16313\" itemscope=\"itemscope\" itemtype=\"https://www.schema.org/SiteNavigationElement\"><a aria-expanded=\"false\" aria-haspopup=\"true\" class=\"dropdown-toggle nav-link disabled\" href=\"https://www.hashtagtreinamentos.com/todos-os-cursos#\" id=\"menu-item-dropdown-16313\" title=\"Outros Cursos\">Outros Cursos</a><ul aria-labelledby=\"menu-item-dropdown-16313\" class=\"dropdown-menu\" role=\"menu\"><li class=\"menu-item menu-item-type-post_type menu-item-object-page menu-item-17042 nav-item\" id=\"menu-item-17042\" itemscope=\"itemscope\" itemtype=\"https://www.schema.org/SiteNavigationElement\"><a class=\"dropdown-item\" href=\"https://www.hashtagtreinamentos.com/curso-sql\" title=\"Curso de SQL\">Curso de SQL</a></li><li class=\"menu-item menu-item-type-post_type menu-item-object-page menu-item-6686 nav-item\" id=\"menu-item-6686\" itemscope=\"itemscope\" itemtype=\"https://www.schema.org/SiteNavigationElement\"><a class=\"dropdown-item\" href=\"https://www.hashtagtreinamentos.com/curso-vba-excel\" title=\"Curso de VBA Excel\">Curso de VBA Excel</a></li><li class=\"menu-item menu-item-type-post_type menu-item-object-page menu-item-19806 nav-item\" id=\"menu-item-19806\" itemscope=\"itemscope\" itemtype=\"https://www.schema.org/SiteNavigationElement\"><a class=\"dropdown-item\" href=\"https://www.hashtagtreinamentos.com/curso-powerpoint\" title=\"Curso de PowerPoint Online\">Curso de PowerPoint Online</a></li><li class=\"menu-item menu-item-type-custom menu-item-object-custom menu-item-6302 nav-item\" id=\"menu-item-6302\" itemscope=\"itemscope\" itemtype=\"https://www.schema.org/SiteNavigationElement\"><a class=\"dropdown-item\" href=\"https://www.hashtagtreinamentos.com/todos-os-cursos-hashtag-treinamentos\" title=\"Todos os Cursos\">Todos os Cursos</a></li></ul></li><li class=\"menu-item menu-item-type-post_type menu-item-object-page menu-item-10581 nav-item\" id=\"menu-item-10581\" itemscope=\"itemscope\" itemtype=\"https://www.schema.org/SiteNavigationElement\"><a class=\"nav-link\" href=\"https://www.hashtagtreinamentos.com/treinamentos-corporativos\" title=\"Treinamentos para Empresas\">Treinamentos para Empresas</a></li><li class=\"menu-item menu-item-type-post_type menu-item-object-page menu-item-58 nav-item\" id=\"menu-item-58\" itemscope=\"itemscope\" itemtype=\"https://www.schema.org/SiteNavigationElement\"><a class=\"nav-link\" href=\"https://www.hashtagtreinamentos.com/blog\" title=\"Blog\">Blog</a></li><li class=\"menu-item menu-item-type-post_type menu-item-object-page menu-item-221 nav-item\" id=\"menu-item-221\" itemscope=\"itemscope\" itemtype=\"https://www.schema.org/SiteNavigationElement\"><a class=\"nav-link\" href=\"https://www.hashtagtreinamentos.com/contato\" title=\"Contato\">Contato</a></li></ul></div></div></nav></div></div><div class=\"social\"> <a class=\"mr-3\" href=\"https://www.facebook.com/hashtagtreinamentos/\" target=\"_blank\"><i class=\"fab fa-facebook-f\"></i></a> <a class=\"mr-3\" href=\"https://www.youtube.com/channel/UCw0leRmeaX7R_9BDd3TvCzg\" target=\"_blank\"><i class=\"fab fa-youtube\"></i></a> <a href=\"https://www.instagram.com/hashtagtreinamentos/\" target=\"_blank\"><i class=\"fab fa-instagram\"></i></a></div></div><div class=\"col-6 d-md-none\"><div class=\"fullnavBtn\" id=\"toggle\"> <span class=\"top\"></span> <span class=\"middle\"></span> <span class=\"bottom\"></span></div><div id=\"fullnav\"><nav class=\"navbar navbar-dark pr-lg-0\"><div class=\"collapsed navbar-collapse\" id=\"navbarSupportedContent\"><ul class=\"navbar-nav mx-auto\" id=\"menu-principal-1\"><li class=\"menu-item menu-item-type-post_type menu-item-object-page menu-item-2191 nav-item\" itemscope=\"itemscope\" itemtype=\"https://www.schema.org/SiteNavigationElement\"><a class=\"nav-link\" href=\"https://www.hashtagtreinamentos.com/curso-de-excel-online\" title=\"Curso Excel Online\">Curso Excel Online</a></li><li class=\"menu-item menu-item-type-post_type menu-item-object-page menu-item-6293 nav-item\" itemscope=\"itemscope\" itemtype=\"https://www.schema.org/SiteNavigationElement\"><a class=\"nav-link\" href=\"https://www.hashtagtreinamentos.com/curso-power-bi\" title=\"Curso Power BI Online\">Curso Power BI Online</a></li><li class=\"menu-item menu-item-type-post_type menu-item-object-page menu-item-9706 nav-item\" itemscope=\"itemscope\" itemtype=\"https://www.schema.org/SiteNavigationElement\"><a class=\"nav-link\" href=\"https://www.hashtagtreinamentos.com/curso-python\" title=\"Curso de Python Online\">Curso de Python Online</a></li><li class=\"menu-item menu-item-type-custom menu-item-object-custom menu-item-has-children dropdown menu-item-16313 nav-item\" itemscope=\"itemscope\" itemtype=\"https://www.schema.org/SiteNavigationElement\"><a aria-expanded=\"false\" aria-haspopup=\"true\" class=\"dropdown-toggle nav-link disabled\" href=\"https://www.hashtagtreinamentos.com/todos-os-cursos#\" id=\"menu-item-dropdown-16313\" title=\"Outros Cursos\">Outros Cursos</a><ul aria-labelledby=\"menu-item-dropdown-16313\" class=\"dropdown-menu\" role=\"menu\"><li class=\"menu-item menu-item-type-post_type menu-item-object-page menu-item-17042 nav-item\" itemscope=\"itemscope\" itemtype=\"https://www.schema.org/SiteNavigationElement\"><a class=\"dropdown-item\" href=\"https://www.hashtagtreinamentos.com/curso-sql\" title=\"Curso de SQL\">Curso de SQL</a></li><li class=\"menu-item menu-item-type-post_type menu-item-object-page menu-item-6686 nav-item\" itemscope=\"itemscope\" itemtype=\"https://www.schema.org/SiteNavigationElement\"><a class=\"dropdown-item\" href=\"https://www.hashtagtreinamentos.com/curso-vba-excel\" title=\"Curso de VBA Excel\">Curso de VBA Excel</a></li><li class=\"menu-item menu-item-type-post_type menu-item-object-page menu-item-19806 nav-item\" itemscope=\"itemscope\" itemtype=\"https://www.schema.org/SiteNavigationElement\"><a class=\"dropdown-item\" href=\"https://www.hashtagtreinamentos.com/curso-powerpoint\" title=\"Curso de PowerPoint Online\">Curso de PowerPoint Online</a></li><li class=\"menu-item menu-item-type-custom menu-item-object-custom menu-item-6302 nav-item\" itemscope=\"itemscope\" itemtype=\"https://www.schema.org/SiteNavigationElement\"><a class=\"dropdown-item\" href=\"https://www.hashtagtreinamentos.com/todos-os-cursos-hashtag-treinamentos\" title=\"Todos os Cursos\">Todos os Cursos</a></li></ul></li><li class=\"menu-item menu-item-type-post_type menu-item-object-page menu-item-10581 nav-item\" itemscope=\"itemscope\" itemtype=\"https://www.schema.org/SiteNavigationElement\"><a class=\"nav-link\" href=\"https://www.hashtagtreinamentos.com/treinamentos-corporativos\" title=\"Treinamentos para Empresas\">Treinamentos para Empresas</a></li><li class=\"menu-item menu-item-type-post_type menu-item-object-page menu-item-58 nav-item\" itemscope=\"itemscope\" itemtype=\"https://www.schema.org/SiteNavigationElement\"><a class=\"nav-link\" href=\"https://www.hashtagtreinamentos.com/blog\" title=\"Blog\">Blog</a></li><li class=\"menu-item menu-item-type-post_type menu-item-object-page menu-item-221 nav-item\" itemscope=\"itemscope\" itemtype=\"https://www.schema.org/SiteNavigationElement\"><a class=\"nav-link\" href=\"https://www.hashtagtreinamentos.com/contato\" title=\"Contato\">Contato</a></li></ul></div></nav><div class=\"social\"> <a class=\"mr-3\" href=\"https://www.facebook.com/hashtagtreinamentos/\" target=\"_blank\"><i class=\"fab fa-facebook-f\"></i></a> <a class=\"mr-3\" href=\"https://www.youtube.com/channel/UCw0leRmeaX7R_9BDd3TvCzg\" target=\"_blank\"><i class=\"fab fa-youtube\"></i></a> <a href=\"https://www.instagram.com/hashtagtreinamentos/\" target=\"_blank\"><i class=\"fab fa-instagram\"></i></a></div></div></div></div></div></header>\n"
     ]
    }
   ],
   "source": [
    "# Usando mais de um atributo e parâmetro\n",
    "cabecalho_3 = site.find(id='header', role='banner')\n",
    "print(f'Cabeçalho 3: {cabecalho_3}')"
   ]
  },
  {
   "cell_type": "code",
   "execution_count": 16,
   "metadata": {},
   "outputs": [
    {
     "name": "stdout",
     "output_type": "stream",
     "text": [
      "Logo: <img alt=\"Hashtag Treinamentos\" class=\"custom-logo lazyloaded\" data-ll-status=\"loaded\" height=\"73\" sizes=\"(max-width: 153px) 100vw, 153px\" src=\"./Pagina Hashtag_files/logo_nova.png.webp\" srcset=\"https://www.hashtagtreinamentos.com/wp-content/uploads/2019/04/logo_nova.png.webp 153w,https://www.hashtagtreinamentos.com/wp-content/uploads/2019/04/logo_nova-150x73.png.webp 150w\" width=\"153\"/>\n"
     ]
    }
   ],
   "source": [
    "# Caso um parâmetro de pesquisa tenha hifen, necessítasse passar ele como um dicionário\n",
    "logo = site.find(\"img\", {\"data-ll-status\":\"loaded\", \"class\":'custom-logo'})\n",
    "print(f'Logo: {logo}')\n"
   ]
  },
  {
   "cell_type": "markdown",
   "metadata": {},
   "source": [
    "#### Busca por texto:\n",
    "* Texto exato"
   ]
  },
  {
   "cell_type": "code",
   "execution_count": 21,
   "metadata": {},
   "outputs": [
    {
     "name": "stdout",
     "output_type": "stream",
     "text": [
      "Texto: Foco no Mercado\n"
     ]
    }
   ],
   "source": [
    "foco_mercado = site.find(string='Foco no Mercado')\n",
    "print(f'Texto: {foco_mercado}')"
   ]
  },
  {
   "cell_type": "markdown",
   "metadata": {},
   "source": [
    "* Texto contendo\n",
    "  Para usarmos a filtragem com trechos do tendo contendo determinado detalhe, precisaremos usar regex"
   ]
  },
  {
   "cell_type": "code",
   "execution_count": 20,
   "metadata": {},
   "outputs": [
    {
     "name": "stdout",
     "output_type": "stream",
     "text": [
      "Textos contendo \"alunos\": ['Mais de 50.000 de alunos formados por Todos os Cursos da Hashtag', 'Nos últimos anos, a Hashtag Treinamentos transformou a vida de milhares de alunos no Brasil e no Mundo com seus cursos!']\n"
     ]
    }
   ],
   "source": [
    "import re\n",
    "\n",
    "textos = site.find_all(string=re.compile('alunos'))\n",
    "\n",
    "print(f'Textos contendo \"alunos\": {textos}')\n",
    "\n"
   ]
  },
  {
   "cell_type": "markdown",
   "metadata": {},
   "source": [
    "## Navegação por Parent e Contents"
   ]
  },
  {
   "cell_type": "markdown",
   "metadata": {},
   "source": [
    "Para podermos navegar no DOM da página utilizando BS4, usaremos o método `.parent` para identificar o elemento imediatamente \"acima\" do nosso elemento e o método `.contents` para ver os filhos desse elemento."
   ]
  },
  {
   "cell_type": "markdown",
   "metadata": {},
   "source": [
    "* Parent: Mostra o elemento imediatamente acima do nosso elemento"
   ]
  },
  {
   "cell_type": "code",
   "execution_count": 30,
   "metadata": {},
   "outputs": [
    {
     "name": "stdout",
     "output_type": "stream",
     "text": [
      "Parent: <mark class=\"has-inline-color\" style=\"background-color:rgba(0, 0, 0, 0);color:#112e61\">\n",
      " Mais de 50.000 de alunos formados por Todos os Cursos da Hashtag\n",
      "</mark>\n",
      "\n",
      "Parent 2: <h2 id=\"mais-de-50-000-de-alunos-formados-por-todos-os-cursos-da-hashtag\">\n",
      " <mark class=\"has-inline-color\" style=\"background-color:rgba(0, 0, 0, 0);color:#112e61\">\n",
      "  Mais de 50.000 de alunos formados por Todos os Cursos da Hashtag\n",
      " </mark>\n",
      "</h2>\n",
      "\n"
     ]
    }
   ],
   "source": [
    "parent = textos[0].parent\n",
    "print(f'Parent: {parent.prettify()}')\n",
    "\n",
    "parent_2 = textos[0].parent.parent\n",
    "print(f'Parent 2: {parent_2.prettify()}')\n"
   ]
  },
  {
   "cell_type": "markdown",
   "metadata": {},
   "source": [
    "* Contents: Mostra todos os filhos desse elemento"
   ]
  },
  {
   "cell_type": "code",
   "execution_count": 36,
   "metadata": {},
   "outputs": [
    {
     "name": "stdout",
     "output_type": "stream",
     "text": [
      "Botão: <button aria-controls=\"navbarsExampleDefault\" aria-expanded=\"false\" aria-label=\"Toggle navigation\" class=\"navbar-toggler\" data-target=\"#navbarsExampleDefault\" data-toggle=\"collapse\" type=\"button\">\n",
      " <span class=\"navbar-toggler-icon\">\n",
      " </span>\n",
      "</button>\n",
      "\n",
      "Botão Contents: [' ', <span class=\"navbar-toggler-icon\"></span>, ' ']\n"
     ]
    }
   ],
   "source": [
    "barra_navegacao = site.find('nav')\n",
    "# print(f'Barra de Navegação: {barra_navegacao.contents}')\n",
    "\n",
    "botao = barra_navegacao.contents[1]\n",
    "print(f'Botão: {botao.prettify()}')\n",
    "print(f'Botão Contents: {botao.contents}')\n"
   ]
  },
  {
   "cell_type": "code",
   "execution_count": 40,
   "metadata": {},
   "outputs": [
    {
     "name": "stdout",
     "output_type": "stream",
     "text": [
      "[<mark class=\"has-inline-color\" style=\"background-color:rgba(0, 0, 0, 0);color:#112e61\">Mais de 50.000 de alunos formados por Todos os Cursos da Hashtag</mark>]\n",
      "\n",
      "['Mais de 50.000 de alunos formados por Todos os Cursos da Hashtag']\n"
     ]
    }
   ],
   "source": [
    "titulo_alunos = site.find(id='mais-de-50-000-de-alunos-formados-por-todos-os-cursos-da-hashtag')\n",
    "print(titulo_alunos.contents)\n",
    "print()\n",
    "print(titulo_alunos.contents[0].contents)"
   ]
  },
  {
   "cell_type": "markdown",
   "metadata": {},
   "source": [
    "## Beautiful Soup em sites extenos (online)\n"
   ]
  },
  {
   "cell_type": "code",
   "execution_count": 62,
   "metadata": {},
   "outputs": [],
   "source": [
    "from bs4 import BeautifulSoup\n",
    "import requests\n",
    "import re\n",
    "\n",
    "url = 'https://coinmarketcap.com/pt-br/'\n",
    "requisicao = requests.get(url)\n",
    "site = BeautifulSoup(requisicao.text, 'html.parser')"
   ]
  },
  {
   "cell_type": "code",
   "execution_count": 66,
   "metadata": {},
   "outputs": [
    {
     "name": "stdout",
     "output_type": "stream",
     "text": [
      "• Bitcoin : R$325,023.86\n",
      "• Ethereum : R$14,152.55\n",
      "• Tether : R$5.48\n",
      "• BNB : R$3,043.96\n",
      "• Solana : R$774.69\n",
      "• USDC : R$5.48\n",
      "• XRP : R$3.27\n",
      "• Toncoin : R$36.44\n",
      "• Dogecoin : R$0.5695\n",
      "• TRON : R$0.9015\n"
     ]
    },
    {
     "name": "stderr",
     "output_type": "stream",
     "text": [
      "<>:4: SyntaxWarning: invalid escape sequence '\\$'\n",
      "<>:4: SyntaxWarning: invalid escape sequence '\\$'\n",
      "C:\\Windows\\Temp\\ipykernel_21156\\1616019939.py:4: SyntaxWarning: invalid escape sequence '\\$'\n",
      "  print(f\"• {linha.find(class_='ehyBa-d').text} : {linha.find(string=re.compile(\"\\$\"))}\")\n",
      "C:\\Windows\\Temp\\ipykernel_21156\\1616019939.py:4: SyntaxWarning: invalid escape sequence '\\$'\n",
      "  print(f\"• {linha.find(class_='ehyBa-d').text} : {linha.find(string=re.compile(\"\\$\"))}\")\n"
     ]
    },
    {
     "ename": "AttributeError",
     "evalue": "'NoneType' object has no attribute 'text'",
     "output_type": "error",
     "traceback": [
      "\u001b[1;31m---------------------------------------------------------------------------\u001b[0m",
      "\u001b[1;31mAttributeError\u001b[0m                            Traceback (most recent call last)",
      "Cell \u001b[1;32mIn[66], line 4\u001b[0m\n\u001b[0;32m      2\u001b[0m linhas \u001b[38;5;241m=\u001b[39m tbody\u001b[38;5;241m.\u001b[39mfind_all(\u001b[38;5;124m'\u001b[39m\u001b[38;5;124mtr\u001b[39m\u001b[38;5;124m'\u001b[39m)\n\u001b[0;32m      3\u001b[0m \u001b[38;5;28;01mfor\u001b[39;00m linha \u001b[38;5;129;01min\u001b[39;00m linhas:\n\u001b[1;32m----> 4\u001b[0m     \u001b[38;5;28mprint\u001b[39m(\u001b[38;5;124mf\u001b[39m\u001b[38;5;124m\"\u001b[39m\u001b[38;5;124m• \u001b[39m\u001b[38;5;132;01m{\u001b[39;00m\u001b[43mlinha\u001b[49m\u001b[38;5;241;43m.\u001b[39;49m\u001b[43mfind\u001b[49m\u001b[43m(\u001b[49m\u001b[43mclass_\u001b[49m\u001b[38;5;241;43m=\u001b[39;49m\u001b[38;5;124;43m'\u001b[39;49m\u001b[38;5;124;43mehyBa-d\u001b[39;49m\u001b[38;5;124;43m'\u001b[39;49m\u001b[43m)\u001b[49m\u001b[38;5;241;43m.\u001b[39;49m\u001b[43mtext\u001b[49m\u001b[38;5;132;01m}\u001b[39;00m\u001b[38;5;124m : \u001b[39m\u001b[38;5;132;01m{\u001b[39;00mlinha\u001b[38;5;241m.\u001b[39mfind(string\u001b[38;5;241m=\u001b[39mre\u001b[38;5;241m.\u001b[39mcompile(\u001b[38;5;124m\"\u001b[39m\u001b[38;5;124m\\\u001b[39m\u001b[38;5;124m$\u001b[39m\u001b[38;5;124m\"\u001b[39m))\u001b[38;5;132;01m}\u001b[39;00m\u001b[38;5;124m\"\u001b[39m)\n",
      "\u001b[1;31mAttributeError\u001b[0m: 'NoneType' object has no attribute 'text'"
     ]
    }
   ],
   "source": [
    "tbody = site.find('tbody')\n",
    "linhas = tbody.find_all('tr')\n",
    "for linha in linhas:\n",
    "    print(f\"• {linha.find(class_='ehyBa-d').text} : {linha.find(string=re.compile(\"\\$\"))}\")"
   ]
  },
  {
   "cell_type": "markdown",
   "metadata": {},
   "source": [
    "---"
   ]
  },
  {
   "cell_type": "code",
   "execution_count": null,
   "metadata": {},
   "outputs": [],
   "source": [
    "from bs4 import BeautifulSoup\n",
    "import requests\n",
    "import re\n",
    "\n",
    "url = 'https://coinmarketcap.com/pt-br/'\n",
    "requisicao = requests.get(url)\n",
    "site = BeautifulSoup(requisicao.text, 'html.parser')"
   ]
  },
  {
   "cell_type": "code",
   "execution_count": 73,
   "metadata": {},
   "outputs": [
    {
     "name": "stdout",
     "output_type": "stream",
     "text": [
      "• Bitcoin : R$325,023.86\n",
      "• Ethereum : R$14,152.55\n",
      "• Tether : R$5.48\n",
      "• BNB : R$3,043.96\n",
      "• Solana : R$774.69\n",
      "• USDC : R$5.48\n",
      "• XRP : R$3.27\n",
      "• Toncoin : R$36.44\n",
      "• Dogecoin : R$0.5695\n",
      "• TRON : R$0.9015\n"
     ]
    }
   ],
   "source": [
    "tbody = site.find('tbody')\n",
    "linhas = tbody.find_all('tr')\n",
    "\n",
    "for linha in linhas:\n",
    "    try:\n",
    "        print(f\"• {linha.find(class_='ehyBa-d').text} : {linha.find(string=re.compile(\"\\\\$\"))}\")\n",
    "    except AttributeError or SyntaxWarning:\n",
    "        break"
   ]
  },
  {
   "cell_type": "markdown",
   "metadata": {},
   "source": [
    "## Filtrar textos mais diretamente\n",
    "Como podemos pegar todo o texto de um elemento da página, como no exemplo acima, podemos pegar todo o texto da linha e filtrar a string com as regras de pesquisa para encontrar o texto desejado."
   ]
  },
  {
   "cell_type": "code",
   "execution_count": 83,
   "metadata": {},
   "outputs": [
    {
     "name": "stdout",
     "output_type": "stream",
     "text": [
      "• Bitcoin : R$325,023.86\n",
      "• Ethereum : R$14,152.55\n",
      "• Tether : R$5.48\n",
      "• BNB : R$3,043.96\n",
      "• Solana : R$774.69\n",
      "• USDC : R$5.48\n",
      "• XRP : R$3.27\n",
      "• Toncoin : R$36.44\n",
      "• Dogecoin : R$0.5695\n",
      "• TRON : R$0.9015\n",
      "• ADA : 0.35\n",
      "• AVAX : 22.98\n",
      "• SHIB : 0.00\n",
      "• DOT : 4.55\n",
      "• BCH : 336.41\n",
      "• LINK : 10.34\n",
      "• LEO : 5.88\n",
      "• DAI : 1.00\n",
      "• LTC : 62.97\n",
      "• MATIC : 0.47\n",
      "• NEAR : 4.03\n",
      "• KAS : 0.16\n",
      "• UNI : 6.39\n",
      "• ICP : 7.41\n",
      "• PEPE : 0.00\n",
      "• APT : 6.18\n",
      "• XMR : 158.34\n",
      "• XLM : 0.10\n",
      "• ETC : 19.01\n",
      "• FDUSD : 1.00\n",
      "• CRO : 0.09\n",
      "• FET : 0.90\n",
      "• OKB : 37.22\n",
      "• SUI : 0.85\n",
      "• STX : 1.47\n",
      "• FIL : 3.65\n",
      "• TAO : 290.75\n",
      "• AAVE : 135.60\n",
      "• MNT : 0.59\n",
      "• HBAR : 0.05\n",
      "• VET : 0.02\n",
      "• ARB : 0.54\n",
      "• ATOM : 4.72\n",
      "• IMX : 1.16\n",
      "• INJ : 18.59\n",
      "• MKR : 1936.69\n",
      "• RENDER : 4.51\n",
      "• OP : 1.37\n",
      "• AR : 23.35\n",
      "• WIF : 1.53\n",
      "• GRT : 0.14\n",
      "• BGB : 0.94\n",
      "• RUNE : 3.86\n",
      "• BONK : 0.00\n",
      "• FLOKI : 0.00\n",
      "• THETA : 1.17\n",
      "• HNT : 7.22\n",
      "• FTM : 0.40\n",
      "• NOT : 0.01\n",
      "• ALGO : 0.13\n",
      "• JUP : 0.78\n",
      "• TIA : 5.04\n",
      "• PYTH : 0.28\n",
      "• JASMY : 0.02\n",
      "• LDO : 1.08\n",
      "• KCS : 8.05\n",
      "• ONDO : 0.67\n",
      "• CORE : 1.02\n",
      "• BTT : 0.00\n",
      "• PYUSD : 1.00\n",
      "• SEI : 0.27\n",
      "• BRETT : 0.09\n",
      "• BSV : 42.57\n",
      "• FLOW : 0.55\n",
      "• QNT : 63.17\n",
      "• EOS : 0.50\n",
      "• EGLD : 27.51\n",
      "• USDD : 1.00\n",
      "• OM : 0.86\n",
      "• AXS : 4.79\n",
      "• NEO : 10.00\n",
      "• GT : 7.51\n",
      "• ZEC : 42.21\n",
      "• BEAM : 0.01\n",
      "• XTZ : 0.68\n",
      "• XEC : 0.00\n",
      "• DYDX : 1.07\n",
      "• FLR : 0.02\n",
      "• 1000SATS : 0.00\n",
      "• XAUt : 2514.13\n",
      "• CFX : 0.14\n",
      "• ORDI : 29.34\n",
      "• ENS : 18.65\n",
      "• SAND : 0.26\n",
      "• AKT : 2.46\n",
      "• W : 0.23\n",
      "• GALA : 0.02\n",
      "• KLAY : 0.16\n",
      "• STRK : 0.35\n",
      "• RON : 1.66\n"
     ]
    }
   ],
   "source": [
    "tbody = site.find('tbody')\n",
    "linhas = tbody.find_all('tr')\n",
    "\n",
    "for linha in linhas:\n",
    "    texto_linha = linha.get_text(separator=';')\n",
    "    lista_textos = texto_linha.split(';')\n",
    "    # print(lista_textos)\n",
    "    nome = lista_textos[1]\n",
    "    preco = lista_textos[3]\n",
    "    print(f\"• {nome} : {preco}\")"
   ]
  }
 ],
 "metadata": {
  "kernelspec": {
   "display_name": ".venv",
   "language": "python",
   "name": "python3"
  },
  "language_info": {
   "codemirror_mode": {
    "name": "ipython",
    "version": 3
   },
   "file_extension": ".py",
   "mimetype": "text/x-python",
   "name": "python",
   "nbconvert_exporter": "python",
   "pygments_lexer": "ipython3",
   "version": "3.12.5"
  }
 },
 "nbformat": 4,
 "nbformat_minor": 2
}
