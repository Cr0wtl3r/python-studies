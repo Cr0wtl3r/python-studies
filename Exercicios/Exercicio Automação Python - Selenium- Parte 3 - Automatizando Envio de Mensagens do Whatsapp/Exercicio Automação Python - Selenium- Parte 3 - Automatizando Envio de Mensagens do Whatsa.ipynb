{
 "cells": [
  {
   "cell_type": "markdown",
   "id": "cf42a93c",
   "metadata": {},
   "source": [
    "### Cuidados!\n",
    " \n",
    "1. Whatsapp não gosta de nenhum tipo de automação\n",
    "2. Isso pode dar merda, já to avisando\n",
    "3. Isso não é o uso da API oficial do Whatsapp, o próprio whatsapp tem uma API oficial. Se o seu objetivo é fazer envio em massa ou criar aqueles robozinhos que respondem automaticamente no whatsapp, então use a API oficial\n",
    "4. Meu objetivo é 100% educacional\n",
    "\n",
    "### Dito isso, bora automatizar o envio de mensagens no Whatsapp\n",
    "\n",
    "- Vamos usar o Selenium (vídeo da configuração na descrição)\n",
    "- Temos 1 alternativa muito boa:\n",
    "- Usar o https://web.whatsapp.com/send?phone=numero&text=texto (mais fácil, mais seguro, mas mais demorado)\n"
   ]
  },
  {
   "cell_type": "code",
   "execution_count": 17,
   "id": "dc363f99",
   "metadata": {},
   "outputs": [],
   "source": [
    "import urllib\n",
    "import time\n",
    "import pandas as pd\n",
    "from selenium import webdriver\n",
    "import os\n",
    "from selenium.webdriver.chrome.service import Service\n",
    "from selenium.webdriver.common.by import By\n",
    "from selenium.webdriver.common.keys import Keys\n",
    "from webdriver_manager.chrome import ChromeDriverManager\n",
    "from selenium.webdriver.support.ui import WebDriverWait\n",
    "from selenium.webdriver.support import expected_conditions as EC\n",
    "\n",
    "\n",
    "service = Service(ChromeDriverManager().install())\n",
    "options = webdriver.ChromeOptions()\n",
    "options.add_argument(r'--user-data-dir=C:\\Users\\albin\\AppData\\Local\\Google\\Chrome\\User Data\\Selenium')\n",
    "navegador = webdriver.Chrome(service=service, options=options)\n",
    "navegador.get('https://web.whatsapp.com/')\n",
    "\n",
    "WebDriverWait(navegador, 20).until(EC.presence_of_element_located((By.XPATH, '//*[@id=\"app\"]/div/div[2]/div[4]/div/div/div[2]/div[2]/button/div/div')))\n",
    "navegador.maximize_window()"
   ]
  },
  {
   "cell_type": "code",
   "execution_count": 18,
   "id": "5ec2043b",
   "metadata": {},
   "outputs": [],
   "source": [
    "tabela = pd.read_excel('Envios.xlsx')"
   ]
  },
  {
   "cell_type": "code",
   "execution_count": 19,
   "id": "73522134",
   "metadata": {},
   "outputs": [
    {
     "name": "stdout",
     "output_type": "stream",
     "text": [
      "https://web.whatsapp.com/send?phone=5554936181097&text=E%20a%C3%AD%2C%20Albino%20Marques%2C%20tudo%20certo%3F\n",
      "https://web.whatsapp.com/send?phone=599653&text=Coe%20Alon%20Hashtag%2C%20bora%20surfar%3F\n",
      "https://web.whatsapp.com/send?phone=55959512659&text=Viajou%2C%20Lira%20Hashtag.%20Olha%20isso%3A\n"
     ]
    }
   ],
   "source": [
    "for linha in tabela.itertuples():\n",
    "    index, nome, mensagem, arquivo, telefone = linha\n",
    "    telefone = int(telefone)\n",
    "\n",
    "    texto = mensagem.replace(\"fulano\", nome)\n",
    "    texto = urllib.parse.quote(texto)\n",
    "\n",
    "    link =  f'https://web.whatsapp.com/send?phone={telefone}&text={texto}'\n",
    "    print(link)\n",
    "    navegador.get(link)\n",
    "\n",
    "    while len(navegador.find_elements(By.ID, 'side')) <1:\n",
    "        time.sleep(1)\n",
    "    time.sleep(2)\n",
    "\n",
    "    if len(navegador.find_elements(By.XPATH, '//*[@id=\"app\"]/div/span[2]/div/span/div/div/div/div/div/div[1]')) < 1:\n",
    "        navegador.find_element(By.XPATH, '//*[@id=\"main\"]/footer/div[1]/div/span[2]/div/div[2]/div[2]/button').click()\n",
    "        time.sleep(1)\n",
    "\n",
    "        if arquivo != 'N':\n",
    "            file_path = os.path.abspath(f'arquivos/{arquivo}')\n",
    "            navegador.find_element(By.XPATH, '//*[@id=\"main\"]/footer/div[1]/div/span[2]/div/div[1]/div[2]/div/div/div/span').click()\n",
    "            navegador.find_element(By.XPATH, '//*[@id=\"main\"]/footer/div[1]/div/span[2]/div/div[1]/div[2]/div/span/div/ul/div/div[1]/li/div/input').send_keys(file_path)\n",
    "            time.sleep(2)\n",
    "            navegador.find_element(By.XPATH, '//*[@id=\"app\"]/div/div[2]/div[2]/div[2]/span/div/div/div/div[2]/div/div[2]/div[2]/div/div/span').click()\n",
    "            time.sleep(5)\n",
    "    else:\n",
    "        pass"
   ]
  }
 ],
 "metadata": {
  "kernelspec": {
   "display_name": "Python 3 (ipykernel)",
   "language": "python",
   "name": "python3"
  },
  "language_info": {
   "codemirror_mode": {
    "name": "ipython",
    "version": 3
   },
   "file_extension": ".py",
   "mimetype": "text/x-python",
   "name": "python",
   "nbconvert_exporter": "python",
   "pygments_lexer": "ipython3",
   "version": "3.12.5"
  }
 },
 "nbformat": 4,
 "nbformat_minor": 5
}
