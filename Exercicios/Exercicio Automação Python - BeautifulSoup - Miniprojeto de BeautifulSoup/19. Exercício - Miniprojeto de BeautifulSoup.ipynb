{
 "cells": [
  {
   "cell_type": "code",
   "execution_count": 22,
   "metadata": {},
   "outputs": [],
   "source": [
    "from bs4 import BeautifulSoup\n",
    "import requests\n",
    "import re\n",
    "\n",
    "url = \"https://coinmarketcap.com/pt-br/\"\n",
    "requisicao = requests.get(url)\n",
    "site = BeautifulSoup(requisicao.text, \"html.parser\")"
   ]
  },
  {
   "cell_type": "code",
   "execution_count": 27,
   "metadata": {},
   "outputs": [
    {
     "name": "stdout",
     "output_type": "stream",
     "text": [
      "{'Bitcoin': {'nome': 'Bitcoin', 'codigo': 'BTC', 'preco': 'R$325,107.03', 'var_1h': '0.23%', 'var_24h': '-1.10%', 'var_7d': '-2.66%', 'market_cap': 'R$6,416,065,153,499', 'volume': 'R$149,959,565,251'}, 'Ethereum': {'nome': 'Ethereum', 'codigo': 'ETH', 'preco': 'R$14,163.70', 'var_1h': '0.29%', 'var_24h': '-1.48%', 'var_7d': '-5.63%', 'market_cap': 'R$1,703,032,504,626', 'volume': 'R$66,444,891,539'}, 'Tether': {'nome': 'Tether', 'codigo': 'USDT', 'preco': 'R$5.48', 'var_1h': '0.01%', 'var_24h': '1.30%', 'var_7d': '0.41%', 'market_cap': 'R$642,790,200,378', 'volume': 'R$265,051,184,787'}, 'BNB': {'nome': 'BNB', 'codigo': 'BNB', 'preco': 'R$3,039.74', 'var_1h': '-0.01%', 'var_24h': '-1.11%', 'var_7d': '5.07%', 'market_cap': 'R$443,227,481,001', 'volume': 'R$11,187,572,328'}, 'Solana': {'nome': 'Solana', 'codigo': 'SOL', 'preco': 'R$776.14', 'var_1h': '0.16%', 'var_24h': '-2.02%', 'var_7d': '-3.92%', 'market_cap': 'R$362,013,307,794', 'volume': 'R$9,197,411,729'}, 'USDC': {'nome': 'USDC', 'codigo': 'USDC', 'preco': 'R$5.48', 'var_1h': '0.01%', 'var_24h': '1.35%', 'var_7d': '0.42%', 'market_cap': 'R$190,856,377,250', 'volume': 'R$26,791,099,681'}, 'XRP': {'nome': 'XRP', 'codigo': 'XRP', 'preco': 'R$3.28', 'var_1h': '0.37%', 'var_24h': '-0.33%', 'var_7d': '3.28%', 'market_cap': 'R$183,973,579,428', 'volume': 'R$6,191,448,021'}, 'Toncoin': {'nome': 'Toncoin', 'codigo': 'TON', 'preco': 'R$36.81', 'var_1h': '0.93%', 'var_24h': '-0.39%', 'var_7d': '-6.32%', 'market_cap': 'R$92,964,414,656', 'volume': 'R$1,268,731,246'}, 'Dogecoin': {'nome': 'Dogecoin', 'codigo': 'DOGE', 'preco': 'R$0.5689', 'var_1h': '0.09%', 'var_24h': '-0.18%', 'var_7d': '-2.08%', 'market_cap': 'R$82,844,382,042', 'volume': 'R$2,752,063,955'}, 'TRON': {'nome': 'TRON', 'codigo': 'TRX', 'preco': 'R$0.9001', 'var_1h': '0.28%', 'var_24h': '13.30%', 'var_7d': '26.15%', 'market_cap': 'R$78,234,816,092', 'volume': 'R$10,200,280,390'}}\n"
     ]
    }
   ],
   "source": [
    "tbody = site.find(\"tbody\")\n",
    "linhas = tbody.find_all(\"tr\")\n",
    "moedas = {}\n",
    "\n",
    "for linha in linhas:\n",
    "    try:\n",
    "        valores = linha.find_all(string=re.compile(\"\\\\$\"))\n",
    "        variacoes = linha.find_all(string=re.compile(\"\\\\%\"))\n",
    "\n",
    "        nome = linha.find(class_=\"ehyBa-d\").text\n",
    "        codigo = linha.find(class_=\"coin-item-symbol\").text\n",
    "        preco = valores[0]\n",
    "\n",
    "        for i, percentual in enumerate(variacoes):\n",
    "            if \"ivvJzO\" in percentual.parent[\"class\"]:\n",
    "                variacoes[i] = f\"-{percentual}\"\n",
    "\n",
    "        var_1h = variacoes[0]\n",
    "        var_24h = variacoes[1]\n",
    "        var_7d = variacoes[2]\n",
    "        market_cap = valores[2]\n",
    "        volume = valores[3]\n",
    "        dic = {\n",
    "            \"nome\": nome,\n",
    "            \"codigo\": codigo,\n",
    "            \"preco\": preco,\n",
    "            \"var_1h\": var_1h,\n",
    "            \"var_24h\": var_24h,\n",
    "            \"var_7d\": var_7d,\n",
    "            \"market_cap\": market_cap,\n",
    "            \"volume\": volume,\n",
    "        }\n",
    "        moedas[nome] = dic\n",
    "    except AttributeError:\n",
    "        break\n",
    "\n",
    "print(moedas)"
   ]
  }
 ],
 "metadata": {
  "kernelspec": {
   "display_name": ".venv",
   "language": "python",
   "name": "python3"
  },
  "language_info": {
   "codemirror_mode": {
    "name": "ipython",
    "version": 3
   },
   "file_extension": ".py",
   "mimetype": "text/x-python",
   "name": "python",
   "nbconvert_exporter": "python",
   "pygments_lexer": "ipython3",
   "version": "3.12.5"
  }
 },
 "nbformat": 4,
 "nbformat_minor": 2
}
