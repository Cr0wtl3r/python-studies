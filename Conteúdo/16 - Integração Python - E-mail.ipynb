{
 "cells": [
  {
   "cell_type": "markdown",
   "metadata": {},
   "source": [
    "# Integração Python com Outlook\n",
    "### Funciona para qualquer e-mail: corporativo, gmail, hotmail, etc.\n",
    "\n",
    "* Passo 1: Importar win32 e inicializar o outlook."
   ]
  },
  {
   "cell_type": "code",
   "execution_count": null,
   "metadata": {},
   "outputs": [],
   "source": [
    "import win32com.client as win32\n",
    "\n",
    "outlook = win32.Dispatch('Outlook.Application')"
   ]
  },
  {
   "cell_type": "markdown",
   "metadata": {},
   "source": [
    "* Passo 2: Escrever o e-mail e disparar."
   ]
  },
  {
   "cell_type": "code",
   "execution_count": null,
   "metadata": {},
   "outputs": [],
   "source": [
    "mail = outlook.CreateItem(0)\n",
    "mail.To = \"teste_email@example.com\"\n",
    "mail.CC = \"teste_email2@example.com\"\n",
    "mail.BCC = \"teste_email3@example.com\"\n",
    "mail.Subject = \"Teste de e-mail com Python\"\n",
    "mail.Body = \"Este é um teste de e-mail enviado via Python.\"\n",
    "# ou mail.HTMLBody = \"<html><body>Este é um teste de e-mail enviado com Python.</body></html>\"\n",
    "\n",
    "# Anexos (pode colocar quantos quiser):\n",
    "attachment = r'C:\\Users\\nome_do_arquivo.pdf'\n",
    "mail.Attachments.Add(attachment)\n",
    "\n",
    "mail.Send()"
   ]
  },
  {
   "cell_type": "markdown",
   "metadata": {},
   "source": [
    "## Desafio Python e E-mail\n",
    "\n",
    "### Descrição\n",
    "\n",
    "Digamos que você trabalha em uma indústria e está responsável pela área de inteligência de negócio.\n",
    "\n",
    "Todo dia, você, a equipe ou até mesmo um programa, gera um report diferente para cada área da empresa:\n",
    "- Financeiro\n",
    "- Logística\n",
    "- Manutenção\n",
    "- Marketing\n",
    "- Operaçções\n",
    "- Produção\n",
    "- Vendas\n",
    "\n",
    "Cada um desses reports deve ser enviado por e-mail para o Gerente de cada área.\n",
    "\n",
    "Crie um programa que façaa isso automaticamente. A relação de Gerentes (com seus respectivos e-mails) e áreas está no arquivo 'Enviar E-mails.xlsx'.\n",
    "\n",
    "Dica: Use o pandas read_excel para ler o arquivo dos e-mails que isso vai facilitar."
   ]
  },
  {
   "cell_type": "code",
   "execution_count": null,
   "metadata": {},
   "outputs": [],
   "source": [
    "import pandas as pd\n",
    "import win32com.client as win32\n",
    "outlook = win32.Dispatch('outlook.application')\n",
    "gerentes_df = pd.read_excel('Enviar E-mails.xlsx')\n",
    "#gerentes_df.info()\n",
    "\n",
    "for i, email in enumerate(gerentes_df['E-mail']):\n",
    "    gerente = gerentes_df.loc[i, 'Gerente']\n",
    "    area = gerentes_df.loc[i, 'Relatório']\n",
    "\n",
    "    mail = outlook.CreateItem(0)\n",
    "    mail.To = email\n",
    "    mail.Subject = 'Relatório de {}'.format(area)\n",
    "    mail.Body = '''\n",
    "    Prezado {}, \n",
    "    Segue em anexo o Relatório de {}, conforme solicitado.\n",
    "    Qualquer dúvida estou à disposição.\n",
    "    Att.,\n",
    "    '''.format(gerente, area)\n",
    "    attachment  = r'C:\\Users\\joaop\\Google Drive\\Python Impressionador\\{}.xlsx'.format(area)\n",
    "    mail.Attachments.Add(attachment)\n",
    "\n",
    "    mail.Send()"
   ]
  },
  {
   "cell_type": "markdown",
   "metadata": {},
   "source": [
    "## Localizar Email e Anexo com Python\n",
    "\n",
    "Podemos utilizar a biblioteca `imap_tools` para conectar ao servidor de e-mail e ler os e-mails. Iremos especificar o e-mail e senha para o programa (podendo usar um arquivo .env se for o caso) e depois a comunicação com o servidor de e-mail através de do `MailBox` usando o método `login`."
   ]
  },
  {
   "cell_type": "code",
   "execution_count": null,
   "metadata": {},
   "outputs": [],
   "source": [
    "from imap_tools import MailBox, AND # type: ignore\n",
    "# from senha_email import minha_senha\n",
    "\n",
    "usuario = \"email_teste@gmail.com\"\n",
    "senha = 'Senha'\n",
    "\n",
    "meu_email = MailBox(\"imap.gmail.com\").login(usuario, senha)"
   ]
  },
  {
   "cell_type": "markdown",
   "metadata": {},
   "source": [
    "Após isso podemos percorrer os e-mails com o método `fetch` e buscar pelos e-mails desejados através do e-mail do remetente e e-mail do destinatário e iterando sobre eles com um loop for para poder verificar se o assunto ou o corpo do e-mail ou titulo para constatar o conteúdo do e-mail. Dessa forma, podemos só \"ler\" os e-mails desejados mesmo. "
   ]
  },
  {
   "cell_type": "code",
   "execution_count": null,
   "metadata": {},
   "outputs": [],
   "source": [
    "# pegar email que foram enviados por um remetente específico\n",
    "\n",
    "lista_emails = meu_email.fetch(AND(from_=\"email_teste@gmail.com\", to=\"email_teste@gmail.com\"))\n",
    "for email in lista_emails:\n",
    "    print(email.subject)\n",
    "    print(email.text)"
   ]
  },
  {
   "cell_type": "markdown",
   "metadata": {},
   "source": [
    "E para pegarmos os anexos de um e-mail caso haja algum, podemos receber a lista dos e-mails do remetente e iterar sobre eles com um loop for para poder verificar se há algum anexo nos e-mail. Se houve, podemos realizar mais uma iteração e pegar os valores do anexo desejado como uma carga útil (payload) usando o método `payload`. Dessa forma, podemos criar um arquivo em nossa máquina com exato o mesmo valor do anexo do e-mail. Ou até mesmo avaliar esse valor binário recebido do e-mail."
   ]
  },
  {
   "cell_type": "code",
   "execution_count": null,
   "metadata": {},
   "outputs": [],
   "source": [
    "# pegar anexo de um email\n",
    "lista_emails = meu_email.fetch(AND(from_=\"email_teste@gmail.com\"))\n",
    "for email in lista_emails:\n",
    "    if len(email.attachments) > 0:\n",
    "        for anexo in email.attachments:\n",
    "            if \"ExemploAnexo\" in anexo.filename:\n",
    "                informacoes_anexo = anexo.payload\n",
    "                with open(\"ExemploAnexo.xlsx\", \"wb\") as arquivo_excel:\n",
    "                    arquivo_excel.write(informacoes_anexo)"
   ]
  },
  {
   "cell_type": "markdown",
   "metadata": {},
   "source": [
    "---"
   ]
  },
  {
   "cell_type": "markdown",
   "metadata": {},
   "source": [
    "## Enviar e-mails pelo gmail com Python\n",
    "Recentemente a Google adotou uma nova política para a autenticação do gmail. Dessa forma, mudou um pouco a forma de habilitar o envio de e-mails e conexões com o mesmo.\n",
    "Podemos utilizar a biblioteca `smtplib` para conectar ao gmail e enviar os e-mails e utilizar a biblioteca `email.messagem` para escrever o corpo do e-mail mais corretamente."
   ]
  },
  {
   "cell_type": "code",
   "execution_count": null,
   "metadata": {},
   "outputs": [],
   "source": [
    "import smtplib\n",
    "import email.message\n",
    "\n",
    "def enviar_email():\n",
    "    corpo_email = \"\"\"\n",
    "    <p>Parágrafo1</p>\n",
    "    <p>Parágrafo2</p>\n",
    "    \"\"\"\n",
    "\n",
    "    msg = email.message.Message()\n",
    "    msg['Subject'] = \"Assunto\"\n",
    "    msg['From'] = 'remetente'\n",
    "    msg['To'] = 'destinatario'\n",
    "    password = 'senha'\n",
    "    msg.add_header('Content-Type', 'text/html')\n",
    "    msg.set_payload(corpo_email )\n",
    "\n",
    "    s = smtplib.SMTP('smtp.gmail.com: 587')\n",
    "    s.starttls()\n",
    "\n",
    "    s.login(msg['From'], password)\n",
    "    s.sendmail(msg['From'], [msg['To']], msg.as_string().encode('utf-8'))\n",
    "    print('Email enviado')\n",
    "\n",
    "    enviar_email()"
   ]
  },
  {
   "cell_type": "markdown",
   "metadata": {},
   "source": [
    "Dessa forma será possível sim enviar e-mails pelo gmail com Python, só que terá que criar uma senha de aplicativos no Gmail para que o programa possa usar ela."
   ]
  }
 ],
 "metadata": {
  "kernelspec": {
   "display_name": ".venv",
   "language": "python",
   "name": "python3"
  },
  "language_info": {
   "codemirror_mode": {
    "name": "ipython",
    "version": 3
   },
   "file_extension": ".py",
   "mimetype": "text/x-python",
   "name": "python",
   "nbconvert_exporter": "python",
   "pygments_lexer": "ipython3",
   "version": "3.12.5"
  }
 },
 "nbformat": 4,
 "nbformat_minor": 2
}
