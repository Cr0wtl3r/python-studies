{
 "cells": [
  {
   "cell_type": "markdown",
   "metadata": {},
   "source": [
    "## Arquivos e Pastas do Computador em Python: Usando ``pathlib`` e ``shutil``\n",
    "A manipulação de arquivos e pastas é uma tarefa comum no desenvolvimento de software, e Python oferece bibliotecas poderosas e flexíveis para essas operações. As bibliotecas ``pathlib`` e ``shutil`` são duas ferramentas essenciais para trabalhar com o sistema de arquivos de maneira eficiente e Pythonica.\n",
    "\n",
    "## 1. Introdução ao ``pathlib``\n",
    "A biblioteca `pathlib` foi introduzida no Python 3.4 como uma forma moderna e orientada a objetos para lidar com sistemas de arquivos. Ela substitui funções tradicionais da biblioteca os para operações de caminho, como os.path.\n",
    "\n",
    "### 1.1 Criação de Objetos Path\n",
    "O principal conceito em ``pathlib`` é a classe Path, que representa um caminho de arquivo ou pasta. A criação de um objeto Path é simples:\n",
    "\n",
    "\n",
    "    from pathlib import Path\n",
    "\n",
    "    # Criação de um objeto Path\n",
    "    caminho = Path('/caminho/para/um/diretorio')\n",
    "\n",
    "\n",
    "### 1.2 Operações Comuns com pathlib\n",
    "#### 1.2.1 Verificando a Existência de Arquivos e Pastas\n",
    "Para verificar se um arquivo ou pasta existe:\n",
    "\n",
    "\n",
    "    if caminho.exists():\n",
    "        print(f\"{caminho} existe\")\n",
    "\n",
    "\n",
    "#### 1.2.2 Criando e Removendo Diretórios\n",
    "Criar diretórios é fácil com o método mkdir():\n",
    "\n",
    "    # Criando um diretório\n",
    "    caminho.mkdir(parents=True, exist_ok=True)  # 'parents=True' cria diretórios pais se não existirem\n",
    "\n",
    "Remover diretórios ou arquivos:\n",
    "\n",
    "    # Removendo um arquivo ou diretório vazio\n",
    "    caminho.unlink()  # Para arquivos\n",
    "    caminho.rmdir()  # Para diretórios vazios\n",
    "\n",
    "\n",
    "#### 1.2.3 Iterando sobre Arquivos em um Diretório\n",
    "Para iterar sobre os arquivos em um diretório:\n",
    "\n",
    "    for arquivo in caminho.iterdir():\n",
    "        print(arquivo.name)  # Imprime o nome de cada arquivo no diretório\n",
    "\n",
    "\n",
    "#### 1.2.4 Lendo e Escrevendo em Arquivos\n",
    "Ler o conteúdo de um arquivo é direto:\n",
    "\n",
    "\n",
    "    conteudo = caminho.read_text()\n",
    "\n",
    "Escrever em um arquivo:\n",
    "\n",
    "    caminho.write_text('Conteúdo do arquivo')\n",
    "\n",
    "\n",
    "## 2. Introdução ao shutil\n",
    "A biblioteca shutil é utilizada para operações de mais alto nível em arquivos e diretórios, como copiar, mover, ou remover árvores inteiras de diretórios.\n",
    "\n",
    "### 2.1 Operações Comuns com shutil\n",
    "#### 2.1.1 Copiando Arquivos e Diretórios\n",
    "Para copiar um arquivo:\n",
    "\n",
    "    import shutil\n",
    "\n",
    "    # Copiar um arquivo\n",
    "    shutil.copy('origem.txt', 'destino.txt')\n",
    "\n",
    "Para copiar um diretório inteiro:\n",
    "\n",
    "    shutil.copytree('/origem/diretorio', '/destino/diretorio')\n",
    "    2.1.2 Movendo Arquivos e Diretórios\n",
    "\n",
    "Mover um arquivo ou diretório:\n",
    "\n",
    "    # Mover arquivo ou diretório\n",
    "    shutil.move('/origem/arquivo', '/destino/arquivo')\n",
    "    2.1.3 Removendo Diretórios e Conteúdo\n",
    "\n",
    "Para remover um diretório e todo o seu conteúdo:\n",
    "\n",
    "    shutil.rmtree('/caminho/para/diretorio')\n",
    "\n",
    "\n",
    "## 3. Exemplos Práticos\n",
    "### 3.1 Organizando Arquivos em Pastas com pathlib e shutil\n",
    "Um exemplo prático é organizar arquivos em diferentes pastas baseadas na extensão do arquivo.\n",
    "\n",
    "    from pathlib import Path\n",
    "    import shutil\n",
    "\n",
    "    # Diretório de origem\n",
    "    origem = Path('/caminho/para/diretorio')\n",
    "\n",
    "    # Criar pastas por tipo de arquivo\n",
    "    for arquivo in origem.iterdir():\n",
    "        if arquivo.is_file():\n",
    "            extensao = arquivo.suffix[1:]  # Pega a extensão sem o ponto\n",
    "            pasta_destino = origem / extensao\n",
    "            pasta_destino.mkdir(exist_ok=True)\n",
    "            shutil.move(str(arquivo), str(pasta_destino / arquivo.name))\n",
    "\n",
    "\n",
    "### 3.2 Backup de Arquivos\n",
    "Você pode facilmente criar um script para fazer backup de arquivos importantes usando shutil:\n",
    "\n",
    "    import shutil\n",
    "    from pathlib import Path\n",
    "\n",
    "    # Caminhos de origem e destino\n",
    "    origem = Path('/caminho/para/arquivos')\n",
    "    destino = Path('/caminho/para/backup')\n",
    "\n",
    "    # Copiar todo o conteúdo do diretório de origem para o destino\n",
    "    shutil.copytree(origem, destino, dirs_exist_ok=True)  # 'dirs_exist_ok=True' não levanta erro se o diretório destino já existir\n",
    "\n",
    "\n",
    "## 4. Conclusão\n",
    "As bibliotecas pathlib e shutil fornecem uma maneira poderosa e flexível de trabalhar com arquivos e pastas no Python. Enquanto pathlib oferece uma interface orientada a objetos para navegar e manipular caminhos, shutil lida com operações de alto nível em arquivos e diretórios. Com essas ferramentas, você pode realizar uma ampla gama de tarefas de manipulação de sistema de arquivos de forma eficiente e Pythonica."
   ]
  },
  {
   "cell_type": "markdown",
   "metadata": {},
   "source": [
    "# Python e Arquivos do Computador"
   ]
  },
  {
   "cell_type": "markdown",
   "metadata": {},
   "source": [
    "## Módulo os e pathlib\n",
    "Os módulos `os` e `pathlib` são uns dos melhores módulos/bibliotecas para controlar as pastas e arquivos do seu computador. Existem alguns outros módulos que podem auxiliar dependendo do que você está querendo fazer, mas em essência conseguiremo usar esses módulos para resolver nossos desafios. \n",
    "Usaremos aqui o `pathlib` por ele funcionar bem independente do sistema operacional que você está usando."
   ]
  },
  {
   "cell_type": "markdown",
   "metadata": {},
   "source": [
    "## Atenção especial\n",
    "Normalmente os caminhos em computadores Windows, Mac ou Linux são diferentes, mas isso é algo que o Pathlib vai resolver para gente."
   ]
  },
  {
   "cell_type": "markdown",
   "metadata": {},
   "source": [
    "### Módulo ``shutil``\n",
    "\n",
    "Para as ações de copiar e colar arquivo, até conseguimos fazer com os módulos os e pathlib, mas é mais difícil e com maior margem de erro. MAS, existe o módulo ``shutil`` para ajudar nisso"
   ]
  },
  {
   "cell_type": "markdown",
   "metadata": {},
   "source": [
    "- Importando os Módulos"
   ]
  },
  {
   "cell_type": "raw",
   "metadata": {},
   "source": [
    "from pathlib import Path"
   ]
  },
  {
   "cell_type": "markdown",
   "metadata": {},
   "source": [
    "- Descobrindo onde está o nosso arquivo"
   ]
  },
  {
   "cell_type": "raw",
   "metadata": {},
   "source": [
    "caminho = Path.cwd()"
   ]
  },
  {
   "cell_type": "markdown",
   "metadata": {},
   "source": [
    "- Navegando até uma pasta específica"
   ]
  },
  {
   "cell_type": "raw",
   "metadata": {},
   "source": [
    "caminho = Path('pasta1/pasta2/pasta3/')"
   ]
  },
  {
   "cell_type": "markdown",
   "metadata": {},
   "source": [
    "- Listando todos os arquivos da Pasta Atual"
   ]
  },
  {
   "cell_type": "raw",
   "metadata": {},
   "source": [
    "arquivos = Path.iterdir()"
   ]
  },
  {
   "cell_type": "markdown",
   "metadata": {},
   "source": [
    "- Criando uma pasta"
   ]
  },
  {
   "cell_type": "raw",
   "metadata": {},
   "source": [
    "Path('pasta/nova_pasta').mkdir()"
   ]
  },
  {
   "cell_type": "markdown",
   "metadata": {},
   "source": [
    "- Verificando se um Arquivo Existe"
   ]
  },
  {
   "cell_type": "raw",
   "metadata": {},
   "source": [
    "arquivo = Path('pasta/arquivo.extensao')\n",
    "arquivo.exists()"
   ]
  },
  {
   "cell_type": "markdown",
   "metadata": {},
   "source": [
    "- Copiando um Arquivo"
   ]
  },
  {
   "cell_type": "raw",
   "metadata": {},
   "source": [
    "import shutil\n",
    "shutil.copy2('arquivo_para_copiar.extensao', 'nome_da_copia_criada.extensao')"
   ]
  },
  {
   "cell_type": "markdown",
   "metadata": {},
   "source": [
    "- Movendo um Arquivo"
   ]
  },
  {
   "cell_type": "raw",
   "metadata": {},
   "source": [
    "2 formas:\n",
    "\n",
    "Path('caminho/arquivo.extensao').rename('caminho_novo/arquivo.extensao')<br>\n",
    "\n",
    "ou\n",
    "\n",
    "shutil.move(Path('caminho/arquivo.extensao'), Path('caminho_novo/arquivo.extensao'))"
   ]
  },
  {
   "cell_type": "markdown",
   "metadata": {},
   "source": [
    "### Vamos listar todos os arquivos de uma pasta"
   ]
  },
  {
   "cell_type": "code",
   "execution_count": 8,
   "metadata": {},
   "outputs": [
    {
     "name": "stdout",
     "output_type": "stream",
     "text": [
      "Arquivos_Lojas\n",
      "<generator object Path.iterdir at 0x0000021712AD1B10>\n",
      "Arquivos_Lojas\\201801_Amazonas Shopping_AM.csv\n",
      "Arquivos_Lojas\\201801_Barra Shopping_RJ.csv\n",
      "Arquivos_Lojas\\201801_BH Shopping_MG.csv\n",
      "Arquivos_Lojas\\201801_Bourbon_SP.csv\n",
      "Arquivos_Lojas\\201801_Buriti Shopping_GO.csv\n",
      "Arquivos_Lojas\\201801_Cidade de Sao Paulo_SP.csv\n",
      "Arquivos_Lojas\\201801_Goiania Shopping_GO.csv\n",
      "Arquivos_Lojas\\201801_Ibirapuera_SP.csv\n",
      "Arquivos_Lojas\\201801_Iguatemi_SP.csv\n",
      "Arquivos_Lojas\\201801_Independência Shopping_MG.csv\n",
      "Arquivos_Lojas\\201801_JK Iguatemi_SP.csv\n",
      "Arquivos_Lojas\\201801_Minas Shopping_MG.csv\n",
      "Arquivos_Lojas\\201801_Morumbi_SP.csv\n",
      "Arquivos_Lojas\\201801_Plaza Shopping_RJ.csv\n",
      "Arquivos_Lojas\\201801_Rio Sul_RJ.csv\n",
      "Arquivos_Lojas\\201801_Shopping Cidade_MG.csv\n",
      "Arquivos_Lojas\\201801_Shopping Leblon_RJ.csv\n",
      "Arquivos_Lojas\\201801_Shopping Tijuca_RJ.csv\n",
      "Arquivos_Lojas\\201802_Amazonas Shopping_AM.csv\n",
      "Arquivos_Lojas\\201802_Barra Shopping_RJ.csv\n",
      "Arquivos_Lojas\\201802_BH Shopping_MG.csv\n",
      "Arquivos_Lojas\\201802_Bourbon_SP.csv\n",
      "Arquivos_Lojas\\201802_Buriti Shopping_GO.csv\n",
      "Arquivos_Lojas\\201802_Cidade de Sao Paulo_SP.csv\n",
      "Arquivos_Lojas\\201802_Goiania Shopping_GO.csv\n",
      "Arquivos_Lojas\\201802_Ibirapuera_SP.csv\n",
      "Arquivos_Lojas\\201802_Iguatemi_SP.csv\n",
      "Arquivos_Lojas\\201802_Independência Shopping_MG.csv\n",
      "Arquivos_Lojas\\201802_JK Iguatemi_SP.csv\n",
      "Arquivos_Lojas\\201802_Minas Shopping_MG.csv\n",
      "Arquivos_Lojas\\201802_Morumbi_SP.csv\n",
      "Arquivos_Lojas\\201802_Plaza Shopping_RJ.csv\n",
      "Arquivos_Lojas\\201802_Rio Sul_RJ.csv\n",
      "Arquivos_Lojas\\201802_Shopping Cidade_MG.csv\n",
      "Arquivos_Lojas\\201802_Shopping Leblon_RJ.csv\n",
      "Arquivos_Lojas\\201802_Shopping Tijuca_RJ.csv\n",
      "Arquivos_Lojas\\201803_Amazonas Shopping_AM.csv\n",
      "Arquivos_Lojas\\201803_Barra Shopping_RJ.csv\n",
      "Arquivos_Lojas\\201803_BH Shopping_MG.csv\n",
      "Arquivos_Lojas\\201803_Bourbon_SP.csv\n",
      "Arquivos_Lojas\\201803_Buriti Shopping_GO.csv\n",
      "Arquivos_Lojas\\201803_Cidade de Sao Paulo_SP.csv\n",
      "Arquivos_Lojas\\201803_Goiania Shopping_GO.csv\n",
      "Arquivos_Lojas\\201803_Ibirapuera_SP.csv\n",
      "Arquivos_Lojas\\201803_Iguatemi_SP.csv\n",
      "Arquivos_Lojas\\201803_Independência Shopping_MG.csv\n",
      "Arquivos_Lojas\\201803_JK Iguatemi_SP.csv\n",
      "Arquivos_Lojas\\201803_Minas Shopping_MG.csv\n",
      "Arquivos_Lojas\\201803_Morumbi_SP.csv\n",
      "Arquivos_Lojas\\201803_Plaza Shopping_RJ.csv\n",
      "Arquivos_Lojas\\201803_Rio Sul_RJ.csv\n",
      "Arquivos_Lojas\\201803_Shopping Cidade_MG.csv\n",
      "Arquivos_Lojas\\201803_Shopping Leblon_RJ.csv\n",
      "Arquivos_Lojas\\201803_Shopping Tijuca_RJ.csv\n",
      "Arquivos_Lojas\\201804_Amazonas Shopping_AM.csv\n",
      "Arquivos_Lojas\\201804_Barra Shopping_RJ.csv\n",
      "Arquivos_Lojas\\201804_BH Shopping_MG.csv\n",
      "Arquivos_Lojas\\201804_Bourbon_SP.csv\n",
      "Arquivos_Lojas\\201804_Buriti Shopping_GO.csv\n",
      "Arquivos_Lojas\\201804_Cidade de Sao Paulo_SP.csv\n",
      "Arquivos_Lojas\\201804_Goiania Shopping_GO.csv\n",
      "Arquivos_Lojas\\201804_Ibirapuera_SP.csv\n",
      "Arquivos_Lojas\\201804_Iguatemi_SP.csv\n",
      "Arquivos_Lojas\\201804_Independência Shopping_MG.csv\n",
      "Arquivos_Lojas\\201804_JK Iguatemi_SP.csv\n",
      "Arquivos_Lojas\\201804_Minas Shopping_MG.csv\n",
      "Arquivos_Lojas\\201804_Morumbi_SP.csv\n",
      "Arquivos_Lojas\\201804_Plaza Shopping_RJ.csv\n",
      "Arquivos_Lojas\\201804_Rio Sul_RJ.csv\n",
      "Arquivos_Lojas\\201804_Shopping Cidade_MG.csv\n",
      "Arquivos_Lojas\\201804_Shopping Leblon_RJ.csv\n",
      "Arquivos_Lojas\\201804_Shopping Tijuca_RJ.csv\n",
      "Arquivos_Lojas\\201901_Amazonas Shopping_AM.csv\n",
      "Arquivos_Lojas\\201901_Barra Shopping_RJ.csv\n",
      "Arquivos_Lojas\\201901_BH Shopping_MG.csv\n",
      "Arquivos_Lojas\\201901_Bourbon_SP.csv\n",
      "Arquivos_Lojas\\201901_Buriti Shopping_GO.csv\n",
      "Arquivos_Lojas\\201901_Cidade de Sao Paulo_SP.csv\n",
      "Arquivos_Lojas\\201901_Goiania Shopping_GO.csv\n",
      "Arquivos_Lojas\\201901_Ibirapuera_SP.csv\n",
      "Arquivos_Lojas\\201901_Iguatemi_SP.csv\n",
      "Arquivos_Lojas\\201901_Independência Shopping_MG.csv\n",
      "Arquivos_Lojas\\201901_JK Iguatemi_SP.csv\n",
      "Arquivos_Lojas\\201901_Minas Shopping_MG.csv\n",
      "Arquivos_Lojas\\201901_Morumbi_SP.csv\n",
      "Arquivos_Lojas\\201901_Plaza Shopping_RJ.csv\n",
      "Arquivos_Lojas\\201901_Rio Sul_RJ.csv\n",
      "Arquivos_Lojas\\201901_Shopping Cidade_MG.csv\n",
      "Arquivos_Lojas\\201901_Shopping Leblon_RJ.csv\n",
      "Arquivos_Lojas\\201901_Shopping Tijuca_RJ.csv\n",
      "Arquivos_Lojas\\201902_Amazonas Shopping_AM.csv\n",
      "Arquivos_Lojas\\201902_Barra Shopping_RJ.csv\n",
      "Arquivos_Lojas\\201902_BH Shopping_MG.csv\n",
      "Arquivos_Lojas\\201902_Bourbon_SP.csv\n",
      "Arquivos_Lojas\\201902_Buriti Shopping_GO.csv\n",
      "Arquivos_Lojas\\201902_Cidade de Sao Paulo_SP.csv\n",
      "Arquivos_Lojas\\201902_Goiania Shopping_GO.csv\n",
      "Arquivos_Lojas\\201902_Ibirapuera_SP.csv\n",
      "Arquivos_Lojas\\201902_Iguatemi_SP.csv\n",
      "Arquivos_Lojas\\201902_Independência Shopping_MG.csv\n",
      "Arquivos_Lojas\\201902_JK Iguatemi_SP.csv\n",
      "Arquivos_Lojas\\201902_Minas Shopping_MG.csv\n",
      "Arquivos_Lojas\\201902_Morumbi_SP.csv\n",
      "Arquivos_Lojas\\201902_Plaza Shopping_RJ.csv\n",
      "Arquivos_Lojas\\201902_Rio Sul_RJ.csv\n",
      "Arquivos_Lojas\\201902_Shopping Cidade_MG.csv\n",
      "Arquivos_Lojas\\201902_Shopping Leblon_RJ.csv\n",
      "Arquivos_Lojas\\201902_Shopping Tijuca_RJ.csv\n",
      "Arquivos_Lojas\\201903_Amazonas Shopping_AM.csv\n",
      "Arquivos_Lojas\\201903_Barra Shopping_RJ.csv\n",
      "Arquivos_Lojas\\201903_BH Shopping_MG.csv\n",
      "Arquivos_Lojas\\201903_Bourbon_SP.csv\n",
      "Arquivos_Lojas\\201903_Buriti Shopping_GO.csv\n",
      "Arquivos_Lojas\\201903_Cidade de Sao Paulo_SP.csv\n",
      "Arquivos_Lojas\\201903_Goiania Shopping_GO.csv\n",
      "Arquivos_Lojas\\201903_Ibirapuera_SP.csv\n",
      "Arquivos_Lojas\\201903_Iguatemi_SP.csv\n",
      "Arquivos_Lojas\\201903_Independência Shopping_MG.csv\n",
      "Arquivos_Lojas\\201903_JK Iguatemi_SP.csv\n",
      "Arquivos_Lojas\\201903_Minas Shopping_MG.csv\n",
      "Arquivos_Lojas\\201903_Morumbi_SP.csv\n",
      "Arquivos_Lojas\\201903_Plaza Shopping_RJ.csv\n",
      "Arquivos_Lojas\\201903_Rio Sul_RJ.csv\n",
      "Arquivos_Lojas\\201903_Shopping Cidade_MG.csv\n",
      "Arquivos_Lojas\\201903_Shopping Leblon_RJ.csv\n",
      "Arquivos_Lojas\\201903_Shopping Tijuca_RJ.csv\n",
      "Arquivos_Lojas\\201904_Amazonas Shopping_AM.csv\n",
      "Arquivos_Lojas\\201904_Barra Shopping_RJ.csv\n",
      "Arquivos_Lojas\\201904_BH Shopping_MG.csv\n",
      "Arquivos_Lojas\\201904_Bourbon_SP.csv\n",
      "Arquivos_Lojas\\201904_Buriti Shopping_GO.csv\n",
      "Arquivos_Lojas\\201904_Cidade de Sao Paulo_SP.csv\n",
      "Arquivos_Lojas\\201904_Goiania Shopping_GO.csv\n",
      "Arquivos_Lojas\\201904_Ibirapuera_SP.csv\n",
      "Arquivos_Lojas\\201904_Iguatemi_SP.csv\n",
      "Arquivos_Lojas\\201904_Independência Shopping_MG.csv\n",
      "Arquivos_Lojas\\201904_JK Iguatemi_SP.csv\n",
      "Arquivos_Lojas\\201904_Minas Shopping_MG.csv\n",
      "Arquivos_Lojas\\201904_Morumbi_SP.csv\n",
      "Arquivos_Lojas\\201904_Plaza Shopping_RJ.csv\n",
      "Arquivos_Lojas\\201904_Rio Sul_RJ.csv\n",
      "Arquivos_Lojas\\201904_Shopping Cidade_MG.csv\n",
      "Arquivos_Lojas\\201904_Shopping Leblon_RJ.csv\n",
      "Arquivos_Lojas\\201904_Shopping Tijuca_RJ.csv\n",
      "Arquivos_Lojas\\202001_Amazonas Shopping_AM.csv\n",
      "Arquivos_Lojas\\202001_Barra Shopping_RJ.csv\n",
      "Arquivos_Lojas\\202001_BH Shopping_MG.csv\n",
      "Arquivos_Lojas\\202001_Bourbon_SP.csv\n",
      "Arquivos_Lojas\\202001_Buriti Shopping_GO.csv\n",
      "Arquivos_Lojas\\202001_Cidade de Sao Paulo_SP.csv\n",
      "Arquivos_Lojas\\202001_Goiania Shopping_GO.csv\n",
      "Arquivos_Lojas\\202001_Ibirapuera_SP.csv\n",
      "Arquivos_Lojas\\202001_Iguatemi_SP.csv\n",
      "Arquivos_Lojas\\202001_Independência Shopping_MG.csv\n",
      "Arquivos_Lojas\\202001_JK Iguatemi_SP.csv\n",
      "Arquivos_Lojas\\202001_Minas Shopping_MG.csv\n",
      "Arquivos_Lojas\\202001_Morumbi_SP.csv\n",
      "Arquivos_Lojas\\202001_Plaza Shopping_RJ.csv\n",
      "Arquivos_Lojas\\202001_Rio Sul_RJ.csv\n",
      "Arquivos_Lojas\\202001_Shopping Cidade_MG.csv\n",
      "Arquivos_Lojas\\202001_Shopping Leblon_RJ.csv\n",
      "Arquivos_Lojas\\202001_Shopping Tijuca_RJ.csv\n",
      "Arquivos_Lojas\\202002_Amazonas Shopping_AM.csv\n",
      "Arquivos_Lojas\\202002_Barra Shopping_RJ.csv\n",
      "Arquivos_Lojas\\202002_BH Shopping_MG.csv\n",
      "Arquivos_Lojas\\202002_Bourbon_SP.csv\n",
      "Arquivos_Lojas\\202002_Buriti Shopping_GO.csv\n",
      "Arquivos_Lojas\\202002_Cidade de Sao Paulo_SP.csv\n",
      "Arquivos_Lojas\\202002_Goiania Shopping_GO.csv\n",
      "Arquivos_Lojas\\202002_Ibirapuera_SP.csv\n",
      "Arquivos_Lojas\\202002_Iguatemi_SP.csv\n",
      "Arquivos_Lojas\\202002_Independência Shopping_MG.csv\n",
      "Arquivos_Lojas\\202002_JK Iguatemi_SP.csv\n",
      "Arquivos_Lojas\\202002_Minas Shopping_MG.csv\n",
      "Arquivos_Lojas\\202002_Morumbi_SP.csv\n",
      "Arquivos_Lojas\\202002_Plaza Shopping_RJ.csv\n",
      "Arquivos_Lojas\\202002_Rio Sul_RJ.csv\n",
      "Arquivos_Lojas\\202002_Shopping Cidade_MG.csv\n",
      "Arquivos_Lojas\\202002_Shopping Leblon_RJ.csv\n",
      "Arquivos_Lojas\\202002_Shopping Tijuca_RJ.csv\n",
      "Arquivos_Lojas\\202003_Amazonas Shopping_AM.csv\n",
      "Arquivos_Lojas\\202003_Barra Shopping_RJ.csv\n",
      "Arquivos_Lojas\\202003_BH Shopping_MG.csv\n",
      "Arquivos_Lojas\\202003_Bourbon_SP.csv\n",
      "Arquivos_Lojas\\202003_Buriti Shopping_GO.csv\n",
      "Arquivos_Lojas\\202003_Cidade de Sao Paulo_SP.csv\n",
      "Arquivos_Lojas\\202003_Goiania Shopping_GO.csv\n",
      "Arquivos_Lojas\\202003_Ibirapuera_SP.csv\n",
      "Arquivos_Lojas\\202003_Iguatemi_SP.csv\n",
      "Arquivos_Lojas\\202003_Independência Shopping_MG.csv\n",
      "Arquivos_Lojas\\202003_JK Iguatemi_SP.csv\n",
      "Arquivos_Lojas\\202003_Minas Shopping_MG.csv\n",
      "Arquivos_Lojas\\202003_Morumbi_SP.csv\n",
      "Arquivos_Lojas\\202003_Plaza Shopping_RJ.csv\n",
      "Arquivos_Lojas\\202003_Rio Sul_RJ.csv\n",
      "Arquivos_Lojas\\202003_Shopping Cidade_MG.csv\n",
      "Arquivos_Lojas\\202003_Shopping Leblon_RJ.csv\n",
      "Arquivos_Lojas\\202003_Shopping Tijuca_RJ.csv\n",
      "Arquivos_Lojas\\202004_Amazonas Shopping_AM.csv\n",
      "Arquivos_Lojas\\202004_Barra Shopping_RJ.csv\n",
      "Arquivos_Lojas\\202004_BH Shopping_MG.csv\n",
      "Arquivos_Lojas\\202004_Bourbon_SP.csv\n",
      "Arquivos_Lojas\\202004_Buriti Shopping_GO.csv\n",
      "Arquivos_Lojas\\202004_Cidade de Sao Paulo_SP.csv\n",
      "Arquivos_Lojas\\202004_Goiania Shopping_GO.csv\n",
      "Arquivos_Lojas\\202004_Ibirapuera_SP.csv\n",
      "Arquivos_Lojas\\202004_Iguatemi_SP.csv\n",
      "Arquivos_Lojas\\202004_Independência Shopping_MG.csv\n",
      "Arquivos_Lojas\\202004_JK Iguatemi_SP.csv\n",
      "Arquivos_Lojas\\202004_Minas Shopping_MG.csv\n",
      "Arquivos_Lojas\\202004_Morumbi_SP.csv\n",
      "Arquivos_Lojas\\202004_Plaza Shopping_RJ.csv\n",
      "Arquivos_Lojas\\202004_Rio Sul_RJ.csv\n",
      "Arquivos_Lojas\\202004_Shopping Cidade_MG.csv\n",
      "Arquivos_Lojas\\202004_Shopping Leblon_RJ.csv\n",
      "Arquivos_Lojas\\202004_Shopping Tijuca_RJ.csv\n"
     ]
    }
   ],
   "source": [
    "from pathlib import Path\n",
    "\n",
    "caminho = Path(rf'Arquivos_Lojas')\n",
    "print(caminho)\n",
    "arquivos = caminho.iterdir()\n",
    "print(arquivos)\n",
    "\n",
    "for arquivo in arquivos:\n",
    "    print(arquivo)  "
   ]
  },
  {
   "cell_type": "markdown",
   "metadata": {},
   "source": [
    "### Agora, vamos verificar se um arquivo que estamos procurando existe na pasta"
   ]
  },
  {
   "cell_type": "code",
   "execution_count": 11,
   "metadata": {},
   "outputs": [
    {
     "name": "stdout",
     "output_type": "stream",
     "text": [
      "Arquivo Existe\n"
     ]
    }
   ],
   "source": [
    "from pathlib import Path\n",
    "\n",
    "caminho = Path(rf'Arquivos_Lojas')\n",
    "\n",
    "if (caminho / Path('201801_Amazonas Shopping_AM.csv')).exists(): ##Atenção, precisa da extensão do arquivo para funcionar.\n",
    "    print('Arquivo Existe')"
   ]
  },
  {
   "cell_type": "markdown",
   "metadata": {},
   "source": [
    "### Criando uma nova pasta"
   ]
  },
  {
   "cell_type": "code",
   "execution_count": 16,
   "metadata": {},
   "outputs": [],
   "source": [
    "from pathlib import Path\n",
    "\n",
    "caminho = Path(rf'Arquivos_Lojas')\n",
    "\n",
    "Path('Pasta auxiliar/Pasta teste').mkdir(parents=True) # Caso a pasta pai não exista (a Pasta Auxiliar) o \"parents=True\" criará a mesma.\n"
   ]
  },
  {
   "cell_type": "markdown",
   "metadata": {},
   "source": [
    "### Criando uma cópia do nosso arquivo na nova pasta que criamos"
   ]
  },
  {
   "cell_type": "code",
   "execution_count": 19,
   "metadata": {},
   "outputs": [
    {
     "data": {
      "text/plain": [
       "WindowsPath('Pasta auxiliar/Pasta teste/201801_Amazonas Shopping_AM_Copy.csv')"
      ]
     },
     "execution_count": 19,
     "metadata": {},
     "output_type": "execute_result"
    }
   ],
   "source": [
    "from pathlib import Path\n",
    "import shutil\n",
    "\n",
    "arquivo_copiar = Path(r'Arquivos_Lojas/201801_Amazonas Shopping_AM.csv')\n",
    "pasta_destino = Path('Pasta auxiliar/Pasta teste/201801_Amazonas Shopping_AM_Copy.csv')\n",
    "shutil.copy2(arquivo_copiar,pasta_destino)"
   ]
  },
  {
   "cell_type": "markdown",
   "metadata": {},
   "source": [
    "### Movendo um arquivo de um lugar para o outro"
   ]
  },
  {
   "cell_type": "code",
   "execution_count": 20,
   "metadata": {},
   "outputs": [
    {
     "data": {
      "text/plain": [
       "'Pasta auxiliar\\\\Pasta teste\\\\201801_Barra Shopping_RJ.csv'"
      ]
     },
     "execution_count": 20,
     "metadata": {},
     "output_type": "execute_result"
    }
   ],
   "source": [
    "from pathlib import Path\n",
    "import shutil\n",
    "\n",
    "arquivo_copiar = Path(r'Arquivos_Lojas/201801_Barra Shopping_RJ.csv')\n",
    "pasta_destino = Path('Pasta auxiliar/Pasta teste/')\n",
    "shutil.move(arquivo_copiar, pasta_destino)"
   ]
  },
  {
   "cell_type": "markdown",
   "metadata": {},
   "source": [
    "### Desafio\n",
    "\n",
    "Você trabalha em uma empresa que tem 18 lojas espalhadas por todo o Brasil e divididas em 5 estados diferentes:\n",
    "- RJ\n",
    "- SP\n",
    "- MG\n",
    "- GO\n",
    "- AM\n",
    "\n",
    "Todo trimestre, são calculados os indicadores de cada funcionário de cada loja e esses indicadores são armazenados em um arquivo em Excel.\n",
    "\n",
    "Cada estado tem 1 Gerente Geral responsável por todas as lojas daqueles estados.\n",
    "\n",
    "Pediram para você enviar para cada Gerente Geral todas as bases de indicadores correspondentes às lojas que ele é responsável, porque a equipe deles precisa desses indicadores.\n",
    "\n",
    "Obs: Não vamos enviar por e-mail porque ainda não aprendemos a fazer isso, mas vamos deixar todos os arquivos em uma pasta única para cada gerente, ou seja, para cada estado.\n",
    "\n",
    "Então o seu desafio é separar todos os arquivos de forma que cada arquivo esteja na pasta do estado correspondente aquele arquivo.\n",
    "\n",
    "Obs: Para pegar o nome de um arquivo como um texto no pathlib, você pode usar Path.name ou arquivo.name:<br>\n",
    "caminho = Path('Pasta/Arquivo.csv')<br>\n",
    "print(caminho.name) -> resposta: 'Arquivo.csv'"
   ]
  },
  {
   "cell_type": "code",
   "execution_count": 42,
   "metadata": {},
   "outputs": [],
   "source": [
    "from pathlib import Path\n",
    "import shutil\n",
    "\n",
    "caminho_base = Path('Arquivos_Lojas')\n",
    "caminho_destinho = ''\n",
    "\n",
    "def create_folder(estado):\n",
    "    caminho_destinho = Path(rf'Pasta auxiliar/{estado.upper()}/').mkdir(parents=True)\n",
    "    return caminho_destinho\n",
    "\n",
    "for arquivo in caminho_base.iterdir():\n",
    "    if 'RJ' in arquivo.name:\n",
    "        caminho_destinho = rf'Pasta auxiliar/RJ/'\n",
    "        if Path(caminho_destinho).exists():\n",
    "            shutil.move(str(arquivo), caminho_destinho)\n",
    "        else:\n",
    "            create_folder('RJ')\n",
    "            shutil.move(str(arquivo), caminho_destinho)\n",
    "    elif 'SP' in arquivo.name:\n",
    "        caminho_destinho = rf'Pasta auxiliar/SP/'\n",
    "        if Path(caminho_destinho).exists():\n",
    "            shutil.move(str(arquivo), caminho_destinho)\n",
    "        else:\n",
    "            create_folder('SP')\n",
    "            shutil.move(str(arquivo), caminho_destinho)\n",
    "    elif 'MG' in arquivo.name:\n",
    "        caminho_destinho = rf'Pasta auxiliar/MG/'\n",
    "        if Path(caminho_destinho).exists():\n",
    "            shutil.move(str(arquivo), caminho_destinho)\n",
    "        else:\n",
    "            create_folder('MG')\n",
    "            shutil.move(str(arquivo), caminho_destinho)\n",
    "    elif 'GO' in arquivo.name:\n",
    "        caminho_destinho = rf'Pasta auxiliar/GO/'\n",
    "        if Path(caminho_destinho).exists():\n",
    "            shutil.move(str(arquivo), caminho_destinho)\n",
    "        else:\n",
    "            create_folder('GO')\n",
    "            shutil.move(str(arquivo), caminho_destinho)\n",
    "    elif 'AM' in arquivo.name:\n",
    "        caminho_destinho = rf'Pasta auxiliar/AM/'\n",
    "        if Path(caminho_destinho).exists():\n",
    "            shutil.move(str(arquivo), caminho_destinho)\n",
    "        else:\n",
    "            create_folder('AM')\n",
    "            shutil.move(str(arquivo), caminho_destinho)"
   ]
  }
 ],
 "metadata": {
  "kernelspec": {
   "display_name": ".venv",
   "language": "python",
   "name": "python3"
  },
  "language_info": {
   "codemirror_mode": {
    "name": "ipython",
    "version": 3
   },
   "file_extension": ".py",
   "mimetype": "text/x-python",
   "name": "python",
   "nbconvert_exporter": "python",
   "pygments_lexer": "ipython3",
   "version": "3.12.5"
  }
 },
 "nbformat": 4,
 "nbformat_minor": 2
}
