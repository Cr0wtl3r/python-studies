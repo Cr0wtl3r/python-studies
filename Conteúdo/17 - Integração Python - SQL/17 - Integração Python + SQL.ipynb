{
 "cells": [
  {
   "cell_type": "markdown",
   "metadata": {},
   "source": [
    "# Parei em - ntegração Python - Automação Web (Web-Scraping com Selenium) - Aula (317) - [Acesso aqui](https://t.me/c/2104024236/320)"
   ]
  },
  {
   "cell_type": "markdown",
   "metadata": {},
   "source": [
    "# Python e SQL"
   ]
  },
  {
   "cell_type": "markdown",
   "metadata": {},
   "source": [
    "## Integração Python e SQL\n",
    "### Objetivo\n",
    "A integração do Python com o QSL permite que execute comandos SQL diretamente pelo Python no banco de dados. Isso vair permitir pegar consultas e importar elas para dentro de uma análise ou alteração necessária em Python de maneira fácil e automaticamente."
   ]
  },
  {
   "cell_type": "markdown",
   "metadata": {},
   "source": [
    "### O que vamos precisar\n",
    "* Inicialmente vamos usar o SQLite, o objetivo é simplificar a instalação do SQL.\n",
    "* Para isso, vamos isar apenas um driver SQL. [Este aqui](http://www.ch-werner.de/sqliteodbc/)\n",
    "* Um banco de dados para testar -> disponível para Download\n",
    "\n",
    "### No Python, o que vamos usar\n",
    "* Biblioteca pyodbc -> pode ser usada com a mesma estrutura para diversos bancos de dados, como SQL Server, PostgreSQL, MySQL, Oracle, Access, IBM, etc.\n",
    "\n",
    "\n",
    "### Quando faz sentido usar Python e SQL? Quando usar só SQL?\n",
    "\n",
    "- Criação do Banco de Dados\n",
    "- Interagir com um sistema\n",
    "\n"
   ]
  },
  {
   "cell_type": "markdown",
   "metadata": {},
   "source": [
    "## Biblioteca `pyodbc`:"
   ]
  },
  {
   "cell_type": "markdown",
   "metadata": {},
   "source": [
    "### Precisamos criar uma conexão com o banco de dados inicialmente. Para isso precisamos:\n",
    "1. Instalar o Driver: [Este aqui](http://www.ch-werner.de/sqliteodbc/)\n",
    "2. Importar a biblioteca `pyodbc`\n",
    "\n",
    "        import pyodbc\n",
    "        print(pyodbc.drivers()) # Aqui estou verificando os drivers disponíveis\n",
    "\n",
    "3. Realizar a conexão com o banco de dados:\n",
    "\n",
    "        dados_conexao = (\"Driver={Seu_Driver};\"\n",
    "                        \"Server=SeuServidor;\"\n",
    "                        Database=NomeBaseDeDados;\")\n",
    "\n",
    "        # Se estivéssemos usando outro sistema de banco de dados, nosso driver mudaria. Para saber em outros casos, execute:\n",
    "        pyodbc.drivers() -> # caso não encontre seu driver ali, basta buscar no google por \"driver MeuBancoDeDados for pyodbc\" e baixar\n",
    "\n",
    "4. Realizar as operações no banco de dados.\n",
    "\n",
    "        import pyodbc\n",
    "\n",
    "        dados_conexao = (\"Driver={SQLite3 ODBC Drivers};Server=localhost;Database=chinook.db;\")\n",
    "\n",
    "        conexao = pyodbc.connect(dados_conexao)\n",
    "\n",
    "        cursor = conexa.cursor()\n",
    "\n",
    "        ### Operações \n",
    "\n",
    "5. Fechar a conexão com o banco de dados sempre após concluir as interações. (Pode dar muito ruim se não o fizer.)\n",
    "        \n",
    "        cursor.close()\n",
    "        conexão.close()\n"
   ]
  },
  {
   "cell_type": "markdown",
   "metadata": {},
   "source": [
    "---\n"
   ]
  },
  {
   "cell_type": "markdown",
   "metadata": {},
   "source": [
    "1. Criar a conexão com o banco de dados:"
   ]
  },
  {
   "cell_type": "code",
   "execution_count": 2,
   "metadata": {},
   "outputs": [
    {
     "name": "stdout",
     "output_type": "stream",
     "text": [
      "Conexão realizada com sucesso!\n"
     ]
    }
   ],
   "source": [
    "import pyodbc\n",
    "\n",
    "# print(pyodbc.drivers()) # Aqui estou verificando os drivers disponíveis\n",
    "\n",
    "dados_conexao = (\"Driver={SQLite3 ODBC Driver};\"\n",
    "           \"Server=localhost;\"\n",
    "           \"Database=salarios.sqlite;\")\n",
    "\n",
    "conexao = pyodbc.connect(dados_conexao)\n",
    "print(\"Conexão realizada com sucesso!\")\n",
    "\n",
    "#Caso precise de senha, será necessário passar para a variável 'dados_conexao' mais dois valores, seriam eles:\n",
    "# \"UID=Login_do_DB;\"\n",
    "# \"PWD=Senha_do_DB;\"\n",
    "#ficaria :\n",
    "# dados_conexao = (\"Driver={SQLite3 ODBC Driver};\"\n",
    "#            \"Server=localhost;\"\n",
    "#            \"Database=salarios.sqlite;\"\n",
    "#            \"UID=Login_do_DB;\"\n",
    "#            \"PWD=Senha_do_DB;\")\n"
   ]
  },
  {
   "cell_type": "markdown",
   "metadata": {},
   "source": [
    "2. Agora, precisamos criar o que o pyodbc chama de cursor, que é basicamente quem vai executar os nossos códigos SQL."
   ]
  },
  {
   "cell_type": "code",
   "execution_count": 3,
   "metadata": {},
   "outputs": [
    {
     "name": "stdout",
     "output_type": "stream",
     "text": [
      "Cursor criado com sucesso!\n"
     ]
    }
   ],
   "source": [
    "cursor = conexao.cursor()\n",
    "print(\"Cursor criado com sucesso!\")"
   ]
  },
  {
   "cell_type": "markdown",
   "metadata": {},
   "source": [
    "3. Agora já podemos executar nossos comandos SQL.\n",
    "   Temos 2 opções aqui:\n",
    "   1. Apenas executar comandos SQL que vão acontecer no banco\n",
    "   2. Executar o comando SQL e armazenar a consulta em uma variável no Python, como um dataframe do pandas\n",
    "   \n",
    "   \n",
    "             dataframe = pd.read_sql('COMANDO_SQL', conexao) # -> vai executar o comando SQL, gerando uma consulta e retornando a resposta dessa consulta para o dataframe\n",
    "\n",
    "\n",
    "Para pegar uma tabela inteira do nosso banco de dados, usaremos o comando SQL Select *:\n",
    "         \"SELECT * FROM BaseDeDados.Tabela\""
   ]
  },
  {
   "cell_type": "code",
   "execution_count": 4,
   "metadata": {},
   "outputs": [
    {
     "name": "stdout",
     "output_type": "stream",
     "text": [
      "[(1, 'NATHANIEL FORD', 'GENERAL MANAGER-METROPOLITAN TRANSIT AUTHORITY', 167411.18, 0.0, 400184.25, None, 567595.43, 567595.43, 2011, '', 'San Francisco', ''), (2, 'GARY JIMENEZ', 'CAPTAIN III (POLICE DEPARTMENT)', 155966.02, 245131.88, 137811.38, None, 538909.28, 538909.28, 2011, '', 'San Francisco', ''), (3, 'ALBERT PARDINI', 'CAPTAIN III (POLICE DEPARTMENT)', 212739.13, 106088.18, 16452.6, None, 335279.91, 335279.91, 2011, '', 'San Francisco', ''), (4, 'CHRISTOPHER CHONG', 'WIRE ROPE CABLE MAINTENANCE MECHANIC', 77916.0, 56120.71, 198306.9, None, 332343.61, 332343.61, 2011, '', 'San Francisco', ''), (5, 'PATRICK GARDNER', 'DEPUTY CHIEF OF DEPARTMENT,(FIRE DEPARTMENT)', 134401.6, 9737.0, 182234.59, None, 326373.19, 326373.19, 2011, '', 'San Francisco', ''), (6, 'DAVID SULLIVAN', 'ASSISTANT DEPUTY CHIEF II', 118602.0, 8601.0, 189082.74, None, 316285.74, 316285.74, 2011, '', 'San Francisco', ''), (7, 'ALSON LEE', 'BATTALION CHIEF, (FIRE DEPARTMENT)', 92492.01, 89062.9, 134426.14, None, 315981.05, 315981.05, 2011, '', 'San Francisco', ''), (8, 'DAVID KUSHNER', 'DEPUTY DIRECTOR OF INVESTMENTS', 256576.96, 0.0, 51322.5, None, 307899.46, 307899.46, 2011, '', 'San Francisco', ''), (9, 'MICHAEL MORRIS', 'BATTALION CHIEF, (FIRE DEPARTMENT)', 176932.64, 86362.68, 40132.23, None, 303427.55, 303427.55, 2011, '', 'San Francisco', ''), (10, 'JOANNE HAYES-WHITE', 'CHIEF OF DEPARTMENT, (FIRE DEPARTMENT)', 285262.0, 0.0, 17115.73, None, 302377.73, 302377.73, 2011, '', 'San Francisco', '')]\n"
     ]
    }
   ],
   "source": [
    "cursor.execute(\"SELECT * FROM Salarios\")\n",
    "\n",
    "salarios = cursor.fetchall()\n",
    "print( salarios[:10])\n",
    "\n",
    "cursor.close()\n",
    "conexao.close()"
   ]
  },
  {
   "cell_type": "markdown",
   "metadata": {},
   "source": [
    "## Desafio Python e SQL - CRUD\n",
    "\n",
    "### Create (C):"
   ]
  },
  {
   "cell_type": "code",
   "execution_count": 5,
   "metadata": {},
   "outputs": [
    {
     "name": "stdout",
     "output_type": "stream",
     "text": [
      "Conexão realizada com sucesso!\n"
     ]
    }
   ],
   "source": [
    "import pyodbc\n",
    "\n",
    "#Autenticação banco de dados\n",
    "dados_conexao = (\"Driver={SQLite3 ODBC Driver};\"\n",
    "                \"Server=localhost;\"\n",
    "                \"Database=chinook.db;\")\n",
    "\n",
    "conexao = pyodbc.connect(dados_conexao)\n",
    "print(\"Conexão realizada com sucesso!\")\n",
    "\n",
    "cursor = conexao.cursor()\n",
    "cursor.execute(\"\"\"\n",
    "INSERT INTO albums (Title, ArtistId) VALUES ('Albus Rock', 4)\n",
    "               \"\"\")\n",
    "cursor.commit() ## Para a alteração de dados realmente deve ser feita, tem que usar sempre o commit()\n",
    "# Sempre colocar o `cursor.close()` para fechar o cursor e `conexao.close()` para fechar a conexão,\n",
    "# caso contrário o banco fica trancado.\n",
    "cursor.close()\n",
    "conexao.close()\n",
    "\n",
    "# Inserir um novo registro\n",
    "\n"
   ]
  },
  {
   "cell_type": "markdown",
   "metadata": {},
   "source": [
    "### Read (R):"
   ]
  },
  {
   "cell_type": "code",
   "execution_count": null,
   "metadata": {},
   "outputs": [],
   "source": [
    "from pydoc import describe\n",
    "import pyodbc\n",
    "import pandas as pd\n",
    "\n",
    "# Autenticação banco de dados\n",
    "dados_conexao = (\n",
    "    \"Driver={SQLite3 ODBC Driver};\" \"Server=localhost;\" \"Database=chinook.db;\"\n",
    ")\n",
    "\n",
    "conexao = pyodbc.connect(dados_conexao)\n",
    "print(\"Conexão realizada com sucesso!\")\n",
    "\n",
    "cursor = conexao.cursor()\n",
    "cursor.execute(\"SELECT * FROM customers\")\n",
    "valores = cursor.fetchall()\n",
    "describe = cursor.description\n",
    "\n",
    "colunas = [tupla[0] for tupla in describe]\n",
    "\n",
    "tabela_clientes = pd.DataFrame.from_records(valores, columns=colunas)\n",
    "display(tabela_clientes)\n",
    "\n",
    "\n",
    "cursor.close()\n",
    "conexao.close()"
   ]
  },
  {
   "cell_type": "markdown",
   "metadata": {},
   "source": [
    "### Read (R) com pd.read_sql:"
   ]
  },
  {
   "cell_type": "code",
   "execution_count": null,
   "metadata": {},
   "outputs": [],
   "source": [
    "import pandas as pd\n",
    "import sqlite3\n",
    "\n",
    "conexao = sqlite3.connect('chinook.db')\n",
    "\n",
    "tabela_clientes = pd.read_sql('SELECT * FROM customers', conexao)\n",
    "\n",
    "print(display(tabela_clientes))\n",
    "\n",
    "conexao.close()"
   ]
  },
  {
   "cell_type": "markdown",
   "metadata": {},
   "source": [
    "### Update (U):"
   ]
  },
  {
   "cell_type": "code",
   "execution_count": 2,
   "metadata": {},
   "outputs": [
    {
     "name": "stdout",
     "output_type": "stream",
     "text": [
      "Conexão realizada com sucesso!\n"
     ]
    }
   ],
   "source": [
    "import pyodbc\n",
    "\n",
    "# Autenticação banco de dados\n",
    "dados_conexao = (\n",
    "    \"Driver={SQLite3 ODBC Driver};\" \"Server=localhost;\" \"Database=chinook.db;\"\n",
    ")\n",
    "\n",
    "conexao = pyodbc.connect(dados_conexao)\n",
    "print(\"Conexão realizada com sucesso!\")\n",
    "\n",
    "cursor = conexao.cursor()\n",
    "\n",
    "# Operação com banco\n",
    "\n",
    "try:\n",
    "    cursor.execute(\n",
    "    \"\"\"\n",
    "    UPDATE customers\n",
    "    SET Email = 'nova@email.com'\n",
    "    WHERE Email = 'luisg@embraer.com.br'\n",
    "\"\"\"\n",
    ")\n",
    "except Exception as e:\n",
    "    print(f\"Erro ao atualizar: {e}\")\n",
    "\n",
    "cursor.commit()\n",
    "\n",
    "cursor.close()\n",
    "conexao.close()"
   ]
  },
  {
   "cell_type": "markdown",
   "metadata": {},
   "source": [
    "### Delete (D):"
   ]
  },
  {
   "cell_type": "code",
   "execution_count": 3,
   "metadata": {},
   "outputs": [
    {
     "name": "stdout",
     "output_type": "stream",
     "text": [
      "Conexão realizada com sucesso!\n"
     ]
    }
   ],
   "source": [
    "import pyodbc\n",
    "\n",
    "# Autenticação banco de dados\n",
    "dados_conexao = (\n",
    "    \"Driver={SQLite3 ODBC Driver};\" \"Server=localhost;\" \"Database=chinook.db;\"\n",
    ")\n",
    "\n",
    "conexao = pyodbc.connect(dados_conexao)\n",
    "print(\"Conexão realizada com sucesso!\")\n",
    "\n",
    "cursor = conexao.cursor()\n",
    "\n",
    "cursor.execute(\"DELETE FROM albums WHERE AlbumID = 4\")\n",
    "\n",
    "cursor.commit()\n",
    "\n",
    "cursor.close()\n",
    "conexao.close()"
   ]
  },
  {
   "cell_type": "markdown",
   "metadata": {},
   "source": [
    "## Integração do Python com MySQL"
   ]
  },
  {
   "cell_type": "code",
   "execution_count": null,
   "metadata": {},
   "outputs": [],
   "source": [
    "import mysql.connector\n",
    "\n",
    "conexao = mysql.connector.connect(\n",
    "    host=\"localhost\",\n",
    "    user=\"root\",\n",
    "    password=\"123456\",\n",
    "    database=\"teste\",\n",
    ")\n",
    "cursor = conexao.cursor()\n",
    "\n",
    "\n",
    "cursor.close()\n",
    "conexao.close()\n"
   ]
  },
  {
   "cell_type": "markdown",
   "metadata": {},
   "source": [
    "### Create (C):"
   ]
  },
  {
   "cell_type": "code",
   "execution_count": null,
   "metadata": {},
   "outputs": [],
   "source": [
    "# CREATE\n",
    "nome_produto = \"chocolate\"\n",
    "valor = 15\n",
    "comando = f'INSERT INTO vendas (nome_produto, valor) VALUES (\"{nome_produto}\", {valor})'\n",
    "cursor.execute(comando)\n",
    "conexao.commit()  # edita o banco de dados\n",
    "\n",
    "cursor.close()\n",
    "conexao.close()"
   ]
  },
  {
   "cell_type": "markdown",
   "metadata": {},
   "source": [
    "### Read (R):"
   ]
  },
  {
   "cell_type": "code",
   "execution_count": null,
   "metadata": {},
   "outputs": [],
   "source": [
    "\n",
    "# READ\n",
    "comando = \"SELECT * FROM vendas\"\n",
    "cursor.execute(comando)\n",
    "resultado = cursor.fetchall()  # ler o banco de dados\n",
    "print(resultado)\n",
    "\n",
    "cursor.close()\n",
    "conexao.close()"
   ]
  },
  {
   "cell_type": "markdown",
   "metadata": {},
   "source": [
    "### Update (U):"
   ]
  },
  {
   "cell_type": "code",
   "execution_count": null,
   "metadata": {},
   "outputs": [],
   "source": [
    "# UPDATE\n",
    "nome_produto = \"todynho\"\n",
    "valor = 6\n",
    "comando = f'UPDATE vendas SET valor = {valor} WHERE nome_produto = \"{nome_produto}\"'\n",
    "cursor.execute(comando)\n",
    "conexao.commit()  # edita o banco de dados\n",
    "\n",
    "cursor.close()\n",
    "conexao.close()"
   ]
  },
  {
   "cell_type": "markdown",
   "metadata": {},
   "source": [
    "### Delete (D):"
   ]
  },
  {
   "cell_type": "code",
   "execution_count": null,
   "metadata": {},
   "outputs": [],
   "source": [
    "\n",
    "# DELETE\n",
    "nome_produto = \"todynho\"\n",
    "comando = f'DELETE FROM vendas WHERE nome_produto = \"{nome_produto}\"'\n",
    "cursor.execute(comando)\n",
    "conexao.commit()  # edita o banco de dados\n",
    "\n",
    "cursor.close()\n",
    "conexao.close()"
   ]
  }
 ],
 "metadata": {
  "kernelspec": {
   "display_name": ".venv",
   "language": "python",
   "name": "python3"
  },
  "language_info": {
   "codemirror_mode": {
    "name": "ipython",
    "version": 3
   },
   "file_extension": ".py",
   "mimetype": "text/x-python",
   "name": "python",
   "nbconvert_exporter": "python",
   "pygments_lexer": "ipython3",
   "version": "3.12.5"
  }
 },
 "nbformat": 4,
 "nbformat_minor": 2
}
